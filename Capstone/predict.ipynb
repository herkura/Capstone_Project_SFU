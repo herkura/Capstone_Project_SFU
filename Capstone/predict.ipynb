{
  "cells": [
    {
      "cell_type": "code",
      "execution_count": 1,
      "metadata": {
        "colab": {
          "base_uri": "https://localhost:8080/"
        },
        "id": "GZ3NAm5yNToo",
        "outputId": "85527980-e7c0-4d33-b07a-9aac71708753"
      },
      "outputs": [
        {
          "name": "stdout",
          "output_type": "stream",
          "text": [
            "Collecting ucimlrepo\n",
            "  Downloading ucimlrepo-0.0.7-py3-none-any.whl.metadata (5.5 kB)\n",
            "Requirement already satisfied: pandas>=1.0.0 in /usr/local/lib/python3.11/dist-packages (from ucimlrepo) (2.2.2)\n",
            "Requirement already satisfied: certifi>=2020.12.5 in /usr/local/lib/python3.11/dist-packages (from ucimlrepo) (2025.1.31)\n",
            "Requirement already satisfied: numpy>=1.23.2 in /usr/local/lib/python3.11/dist-packages (from pandas>=1.0.0->ucimlrepo) (2.0.2)\n",
            "Requirement already satisfied: python-dateutil>=2.8.2 in /usr/local/lib/python3.11/dist-packages (from pandas>=1.0.0->ucimlrepo) (2.8.2)\n",
            "Requirement already satisfied: pytz>=2020.1 in /usr/local/lib/python3.11/dist-packages (from pandas>=1.0.0->ucimlrepo) (2025.1)\n",
            "Requirement already satisfied: tzdata>=2022.7 in /usr/local/lib/python3.11/dist-packages (from pandas>=1.0.0->ucimlrepo) (2025.1)\n",
            "Requirement already satisfied: six>=1.5 in /usr/local/lib/python3.11/dist-packages (from python-dateutil>=2.8.2->pandas>=1.0.0->ucimlrepo) (1.17.0)\n",
            "Downloading ucimlrepo-0.0.7-py3-none-any.whl (8.0 kB)\n",
            "Installing collected packages: ucimlrepo\n",
            "Successfully installed ucimlrepo-0.0.7\n"
          ]
        }
      ],
      "source": [
        "!pip install ucimlrepo"
      ]
    },
    {
      "cell_type": "code",
      "execution_count": 2,
      "metadata": {
        "id": "0454GDHGM_ju"
      },
      "outputs": [],
      "source": [
        "from ucimlrepo import fetch_ucirepo, list_available_datasets"
      ]
    },
    {
      "cell_type": "code",
      "execution_count": 4,
      "metadata": {
        "id": "n-fSOCCVQFRs"
      },
      "outputs": [],
      "source": [
        "# import pandas as pd\n",
        "# dataset_id = {\n",
        "#     \"heart_disease\" : 145,\n",
        "#     \"chronic_kidney_disease\" : 336,\n",
        "#     \"risk_factor_prediction_ckd\" : 857,\n",
        "#     \"breast_cancer\" : 451,\n",
        "#     \"diabetes_usa\" : 296,\n",
        "#     \"early_diabetes\": 529,\n",
        "#     \"maternal_health_risk\" : 863,\n",
        "#     \"liver\" : 46,\n",
        "#     \"obesity\" : 544\n",
        "# }\n",
        "\n",
        "# for name, id in dataset_id.items():\n",
        "#     dataset = fetch_ucirepo(id=id)\n",
        "#     df = dataset.data.original  # Use 'cleaned' if needed\n",
        "\n",
        "#     # Save to CSV locally\n",
        "#     filename = f\"{name}.csv\"\n",
        "#     df.to_csv(filename, index=False)\n",
        "#     print(f\"Saved {name} dataset as {filename}\")"
      ]
    },
    {
      "cell_type": "code",
      "execution_count": 3,
      "metadata": {
        "colab": {
          "base_uri": "https://localhost:8080/"
        },
        "id": "u9cDQ83cQThu",
        "outputId": "606a2c02-26ef-4f69-b773-4491756698ca"
      },
      "outputs": [
        {
          "name": "stdout",
          "output_type": "stream",
          "text": [
            "Collecting azure-storage-blob\n",
            "  Downloading azure_storage_blob-12.25.0-py3-none-any.whl.metadata (26 kB)\n",
            "Requirement already satisfied: pandas in /usr/local/lib/python3.11/dist-packages (2.2.2)\n",
            "Collecting azure-core>=1.30.0 (from azure-storage-blob)\n",
            "  Downloading azure_core-1.32.0-py3-none-any.whl.metadata (39 kB)\n",
            "Requirement already satisfied: cryptography>=2.1.4 in /usr/local/lib/python3.11/dist-packages (from azure-storage-blob) (43.0.3)\n",
            "Requirement already satisfied: typing-extensions>=4.6.0 in /usr/local/lib/python3.11/dist-packages (from azure-storage-blob) (4.12.2)\n",
            "Collecting isodate>=0.6.1 (from azure-storage-blob)\n",
            "  Downloading isodate-0.7.2-py3-none-any.whl.metadata (11 kB)\n",
            "Requirement already satisfied: numpy>=1.23.2 in /usr/local/lib/python3.11/dist-packages (from pandas) (2.0.2)\n",
            "Requirement already satisfied: python-dateutil>=2.8.2 in /usr/local/lib/python3.11/dist-packages (from pandas) (2.8.2)\n",
            "Requirement already satisfied: pytz>=2020.1 in /usr/local/lib/python3.11/dist-packages (from pandas) (2025.1)\n",
            "Requirement already satisfied: tzdata>=2022.7 in /usr/local/lib/python3.11/dist-packages (from pandas) (2025.1)\n",
            "Requirement already satisfied: requests>=2.21.0 in /usr/local/lib/python3.11/dist-packages (from azure-core>=1.30.0->azure-storage-blob) (2.32.3)\n",
            "Requirement already satisfied: six>=1.11.0 in /usr/local/lib/python3.11/dist-packages (from azure-core>=1.30.0->azure-storage-blob) (1.17.0)\n",
            "Requirement already satisfied: cffi>=1.12 in /usr/local/lib/python3.11/dist-packages (from cryptography>=2.1.4->azure-storage-blob) (1.17.1)\n",
            "Requirement already satisfied: pycparser in /usr/local/lib/python3.11/dist-packages (from cffi>=1.12->cryptography>=2.1.4->azure-storage-blob) (2.22)\n",
            "Requirement already satisfied: charset-normalizer<4,>=2 in /usr/local/lib/python3.11/dist-packages (from requests>=2.21.0->azure-core>=1.30.0->azure-storage-blob) (3.4.1)\n",
            "Requirement already satisfied: idna<4,>=2.5 in /usr/local/lib/python3.11/dist-packages (from requests>=2.21.0->azure-core>=1.30.0->azure-storage-blob) (3.10)\n",
            "Requirement already satisfied: urllib3<3,>=1.21.1 in /usr/local/lib/python3.11/dist-packages (from requests>=2.21.0->azure-core>=1.30.0->azure-storage-blob) (2.3.0)\n",
            "Requirement already satisfied: certifi>=2017.4.17 in /usr/local/lib/python3.11/dist-packages (from requests>=2.21.0->azure-core>=1.30.0->azure-storage-blob) (2025.1.31)\n",
            "Downloading azure_storage_blob-12.25.0-py3-none-any.whl (406 kB)\n",
            "\u001b[2K   \u001b[90m━━━━━━━━━━━━━━━━━━━━━━━━━━━━━━━━━━━━━━━━\u001b[0m \u001b[32m406.9/406.9 kB\u001b[0m \u001b[31m7.0 MB/s\u001b[0m eta \u001b[36m0:00:00\u001b[0m\n",
            "\u001b[?25hDownloading azure_core-1.32.0-py3-none-any.whl (198 kB)\n",
            "\u001b[2K   \u001b[90m━━━━━━━━━━━━━━━━━━━━━━━━━━━━━━━━━━━━━━━━\u001b[0m \u001b[32m198.9/198.9 kB\u001b[0m \u001b[31m10.1 MB/s\u001b[0m eta \u001b[36m0:00:00\u001b[0m\n",
            "\u001b[?25hDownloading isodate-0.7.2-py3-none-any.whl (22 kB)\n",
            "Installing collected packages: isodate, azure-core, azure-storage-blob\n",
            "Successfully installed azure-core-1.32.0 azure-storage-blob-12.25.0 isodate-0.7.2\n"
          ]
        }
      ],
      "source": [
        "!pip install azure-storage-blob pandas"
      ]
    },
    {
      "cell_type": "code",
      "execution_count": 4,
      "metadata": {
        "id": "B2LJOGz8XNUD"
      },
      "outputs": [],
      "source": [
        "from azure.storage.blob import BlobServiceClient\n",
        "import pandas as pd\n",
        "import io"
      ]
    },
    {
      "cell_type": "code",
      "execution_count": null,
      "metadata": {
        "id": "TNa152gyKUTU"
      },
      "outputs": [],
      "source": [
        "# Define your Azure Storage Account details\n",
        "STORAGE_ACCOUNT_NAME = \"<my storqage account name>\"\n",
        "STORAGE_ACCOUNT_KEY = \"<my account key>\"\n",
        "CONTAINER_NAME = \"<my container name>\"\n",
        "\n",
        "# Create a connection string\n",
        "connection_string = f\"DefaultEndpointsProtocol=https;AccountName={STORAGE_ACCOUNT_NAME};AccountKey={STORAGE_ACCOUNT_KEY};EndpointSuffix=core.windows.net\"\n",
        "\n",
        "# Connect to the blob service\n",
        "blob_service_client = BlobServiceClient.from_connection_string(connection_string)\n"
      ]
    },
    {
      "cell_type": "code",
      "execution_count": 6,
      "metadata": {
        "colab": {
          "base_uri": "https://localhost:8080/"
        },
        "id": "h47BmXq1SU5o",
        "outputId": "3dbcd63e-ebf1-4fa6-b320-81d0707555f7"
      },
      "outputs": [
        {
          "name": "stdout",
          "output_type": "stream",
          "text": [
            "Files in Blob Storage:\n",
            "breast_cancer.csv\n",
            "chronic_kidney_disease.csv\n",
            "diabetes_usa.csv\n",
            "early_diabetes.csv\n",
            "heart_disease.csv\n",
            "liver.csv\n",
            "maternal_health_risk.csv\n",
            "obesity.csv\n"
          ]
        }
      ],
      "source": [
        "# List all blobs (files) in the container\n",
        "container_client = blob_service_client.get_container_client(CONTAINER_NAME)\n",
        "blob_list = container_client.list_blobs()\n",
        "\n",
        "print(\"Files in Blob Storage:\")\n",
        "for blob in blob_list:\n",
        "    print(blob.name)\n"
      ]
    },
    {
      "cell_type": "markdown",
      "metadata": {
        "id": "Pr67k-BoL3H4"
      },
      "source": [
        "## Breast Cancer"
      ]
    },
    {
      "cell_type": "code",
      "execution_count": 7,
      "metadata": {
        "colab": {
          "base_uri": "https://localhost:8080/"
        },
        "id": "Fj149xJ4S5x0",
        "outputId": "305a3e9a-1c0e-4aa9-80a9-f29485be3eb1"
      },
      "outputs": [
        {
          "name": "stdout",
          "output_type": "stream",
          "text": [
            "   Age        BMI  Glucose  Insulin      HOMA   Leptin  Adiponectin  Resistin  \\\n",
            "0   48  23.500000       70    2.707  0.467409   8.8071     9.702400   7.99585   \n",
            "1   83  20.690495       92    3.115  0.706897   8.8438     5.429285   4.06405   \n",
            "2   82  23.124670       91    4.498  1.009651  17.9393    22.432040   9.27715   \n",
            "3   68  21.367521       77    3.226  0.612725   9.8827     7.169560  12.76600   \n",
            "4   86  21.111111       92    3.549  0.805386   6.6994     4.819240  10.57635   \n",
            "5   49  22.854458       92    3.226  0.732087   6.8317    13.679750  10.31760   \n",
            "6   89  22.700000       77    4.690  0.890787   6.9640     5.589865  12.93610   \n",
            "7   76  23.800000      118    6.470  1.883201   4.3110    13.251320   5.10420   \n",
            "8   73  22.000000       97    3.350  0.801543   4.4700    10.358725   6.28445   \n",
            "9   75  23.000000       83    4.952  1.013839  17.1270    11.578990   7.09130   \n",
            "\n",
            "      MCP.1  Classification  \n",
            "0   417.114               1  \n",
            "1   468.786               1  \n",
            "2   554.697               1  \n",
            "3   928.220               1  \n",
            "4   773.920               1  \n",
            "5   530.410               1  \n",
            "6  1256.083               1  \n",
            "7   280.694               1  \n",
            "8   136.855               1  \n",
            "9   318.302               1  \n"
          ]
        }
      ],
      "source": [
        "#breat cancer\n",
        "blob_client = container_client.get_blob_client(\"breast_cancer.csv\")\n",
        "\n",
        "# Download blob data\n",
        "downloaded_blob = blob_client.download_blob()\n",
        "csv_data = downloaded_blob.readall()\n",
        "\n",
        "# Convert to pandas DataFrame\n",
        "df_breastCancer = pd.read_csv(io.StringIO(csv_data.decode('utf-8')))\n",
        "print(df_breastCancer.head(10))\n"
      ]
    },
    {
      "cell_type": "code",
      "execution_count": 8,
      "metadata": {
        "colab": {
          "base_uri": "https://localhost:8080/"
        },
        "id": "KU7F9yO_fgAc",
        "outputId": "19fff585-04af-4446-e217-6beac4b7c952"
      },
      "outputs": [
        {
          "name": "stdout",
          "output_type": "stream",
          "text": [
            "Age               0\n",
            "BMI               0\n",
            "Glucose           0\n",
            "Insulin           0\n",
            "HOMA              0\n",
            "Leptin            0\n",
            "Adiponectin       0\n",
            "Resistin          0\n",
            "MCP.1             0\n",
            "Classification    0\n",
            "dtype: int64\n"
          ]
        }
      ],
      "source": [
        "#checking nan values\n",
        "print(df_breastCancer.isna().sum())"
      ]
    },
    {
      "cell_type": "code",
      "execution_count": 9,
      "metadata": {
        "id": "bb3dxoG7fzvI"
      },
      "outputs": [],
      "source": [
        "df_breastCancer.drop_duplicates(inplace=True)"
      ]
    },
    {
      "cell_type": "markdown",
      "metadata": {
        "id": "i24hq2InskRQ"
      },
      "source": [
        "## Checking the skewness and normalizing the data\n"
      ]
    },
    {
      "cell_type": "code",
      "execution_count": 10,
      "metadata": {
        "colab": {
          "base_uri": "https://localhost:8080/",
          "height": 583
        },
        "id": "pvC0WkUJheX6",
        "outputId": "e852b6b8-d037-446e-a8d8-66383a6181fa"
      },
      "outputs": [
        {
          "data": {
            "image/png": "[encoded data removed]",
            "text/plain": [
              "<Figure size 1200x600 with 1 Axes>"
            ]
          },
          "metadata": {},
          "output_type": "display_data"
        }
      ],
      "source": [
        "import seaborn as sns\n",
        "import matplotlib.pyplot as plt\n",
        "\n",
        "plt.figure(figsize=(12, 6))\n",
        "sns.boxplot(data=df_breastCancer)\n",
        "plt.xticks(rotation=45)\n",
        "plt.show()"
      ]
    },
    {
      "cell_type": "code",
      "execution_count": 11,
      "metadata": {
        "colab": {
          "base_uri": "https://localhost:8080/"
        },
        "id": "xv1vJeHBhmWn",
        "outputId": "1f09df55-c9de-462b-fb69-19cf54bc58ee"
      },
      "outputs": [
        {
          "name": "stdout",
          "output_type": "stream",
          "text": [
            "0      6.035754\n",
            "1      6.152277\n",
            "2      6.320223\n",
            "3      6.834346\n",
            "4      6.652760\n",
            "         ...   \n",
            "111    5.595566\n",
            "112    5.802602\n",
            "113    5.752731\n",
            "114    5.974979\n",
            "115    4.511848\n",
            "Name: MCP.1, Length: 116, dtype: float64\n"
          ]
        }
      ],
      "source": [
        "#normalizing some features:\n",
        "import numpy as np\n",
        "\n",
        "df_breastCancer['MCP.1'] = np.log1p(df_breastCancer['MCP.1'])\n",
        "df_breastCancer['Insulin'] = np.log1p(df_breastCancer['Insulin'])\n",
        "print(df_breastCancer['MCP.1'])"
      ]
    },
    {
      "cell_type": "code",
      "execution_count": 12,
      "metadata": {
        "colab": {
          "base_uri": "https://localhost:8080/"
        },
        "id": "43n67tD8rLm9",
        "outputId": "1caeefa1-16b6-4b89-f7fc-11c492b2e6cf"
      },
      "outputs": [
        {
          "name": "stdout",
          "output_type": "stream",
          "text": [
            "-0.5129520962079838\n"
          ]
        }
      ],
      "source": [
        "from scipy.stats import skew\n",
        "print(df_breastCancer['MCP.1'].skew())"
      ]
    },
    {
      "cell_type": "code",
      "execution_count": 13,
      "metadata": {
        "id": "SGXD6STCrzgF"
      },
      "outputs": [],
      "source": [
        "from scipy.stats import boxcox\n",
        "df_breastCancer['MCP.1'], _ = boxcox(df_breastCancer['MCP.1'] + 1)"
      ]
    },
    {
      "cell_type": "code",
      "execution_count": 26,
      "metadata": {
        "colab": {
          "base_uri": "https://localhost:8080/"
        },
        "id": "QHeJVAyEr4Z-",
        "outputId": "a3a2d721-5514-4340-a987-99d4ee8b835a"
      },
      "outputs": [
        {
          "name": "stdout",
          "output_type": "stream",
          "text": [
            "-0.006831314822481881\n"
          ]
        }
      ],
      "source": [
        "print(df_breastCancer['MCP.1'].skew())"
      ]
    },
    {
      "cell_type": "code",
      "execution_count": 14,
      "metadata": {
        "colab": {
          "base_uri": "https://localhost:8080/"
        },
        "id": "PZf9mY-290XE",
        "outputId": "0e31216d-5726-4d96-c56f-1efae35da40f"
      },
      "outputs": [
        {
          "name": "stdout",
          "output_type": "stream",
          "text": [
            "0.9704792850895773\n"
          ]
        }
      ],
      "source": [
        "print(df_breastCancer['Insulin'].skew())"
      ]
    },
    {
      "cell_type": "code",
      "execution_count": 15,
      "metadata": {
        "colab": {
          "base_uri": "https://localhost:8080/"
        },
        "id": "su_E9r5i_aT8",
        "outputId": "4d69da03-bcc3-4ee7-b13b-68318e2750a7"
      },
      "outputs": [
        {
          "name": "stdout",
          "output_type": "stream",
          "text": [
            "0.08985001616072288\n"
          ]
        }
      ],
      "source": [
        "df_breastCancer['Insulin'], _ = boxcox(df_breastCancer['Insulin'] + 1)\n",
        "print(df_breastCancer['Insulin'].skew())"
      ]
    },
    {
      "cell_type": "code",
      "execution_count": 16,
      "metadata": {
        "colab": {
          "base_uri": "https://localhost:8080/"
        },
        "id": "3hlGmpAHAh1u",
        "outputId": "ee88d281-29d0-4f8e-8f7a-cfe92566b8c4"
      },
      "outputs": [
        {
          "name": "stdout",
          "output_type": "stream",
          "text": [
            "HOMA              3.812087\n",
            "Glucose           2.593305\n",
            "Resistin          2.577429\n",
            "Adiponectin       1.817765\n",
            "Leptin            1.309536\n",
            "BMI               0.170152\n",
            "Insulin           0.089850\n",
            "Age               0.017832\n",
            "MCP.1            -0.006831\n",
            "Classification   -0.210748\n",
            "dtype: float64\n"
          ]
        }
      ],
      "source": [
        "skew_values = df_breastCancer.skew().sort_values(ascending=False)\n",
        "print(skew_values)"
      ]
    },
    {
      "cell_type": "code",
      "execution_count": 17,
      "metadata": {
        "colab": {
          "base_uri": "https://localhost:8080/"
        },
        "id": "xENv1IWU_hB-",
        "outputId": "c3fcd8ad-9ed2-4a1c-dca3-3dcc5726c318"
      },
      "outputs": [
        {
          "name": "stdout",
          "output_type": "stream",
          "text": [
            "Glucose       -0.131235\n",
            "Leptin         0.004261\n",
            "HOMA           0.117326\n",
            "Adiponectin   -0.000177\n",
            "Resistin       0.023984\n",
            "dtype: float64\n"
          ]
        }
      ],
      "source": [
        "from scipy.stats import boxcox\n",
        "import numpy as np\n",
        "\n",
        "skewed_cols = ['Glucose', 'Leptin', 'HOMA', 'Adiponectin' , 'Resistin']\n",
        "\n",
        "for col in skewed_cols:\n",
        "    if (df_breastCancer[col] > 0).all():\n",
        "        df_breastCancer[col], _ = boxcox(df_breastCancer[col])\n",
        "    else:\n",
        "        from sklearn.preprocessing import PowerTransformer\n",
        "        pt = PowerTransformer(method='yeo-johnson')\n",
        "        df_breastCancer[col] = pt.fit_transform(df_breastCancer[[col]])\n",
        "\n",
        "print(df_breastCancer[skewed_cols].skew())\n"
      ]
    },
    {
      "cell_type": "code",
      "execution_count": 18,
      "metadata": {
        "id": "sLcwAZJgBlH7"
      },
      "outputs": [],
      "source": [
        "from sklearn.model_selection import train_test_split\n",
        "\n",
        "X = df_breastCancer.drop(columns=['Classification'])\n",
        "y = df_breastCancer['Classification']\n",
        "\n",
        "X_train, X_test, y_train, y_test = train_test_split(X, y, test_size=0.25, random_state=42)"
      ]
    },
    {
      "cell_type": "code",
      "execution_count": 19,
      "metadata": {
        "colab": {
          "base_uri": "https://localhost:8080/"
        },
        "id": "aS4iDoiiFgpd",
        "outputId": "c854d752-ac39-44e7-cfb1-794ed9f5c045"
      },
      "outputs": [
        {
          "name": "stdout",
          "output_type": "stream",
          "text": [
            "Logistic Regression Accuracy: 0.7241\n"
          ]
        },
        {
          "name": "stderr",
          "output_type": "stream",
          "text": [
            "/usr/local/lib/python3.11/dist-packages/sklearn/linear_model/_logistic.py:465: ConvergenceWarning: lbfgs failed to converge (status=1):\n",
            "STOP: TOTAL NO. of ITERATIONS REACHED LIMIT.\n",
            "\n",
            "Increase the number of iterations (max_iter) or scale the data as shown in:\n",
            "    https://scikit-learn.org/stable/modules/preprocessing.html\n",
            "Please also refer to the documentation for alternative solver options:\n",
            "    https://scikit-learn.org/stable/modules/linear_model.html#logistic-regression\n",
            "  n_iter_i = _check_optimize_result(\n"
          ]
        }
      ],
      "source": [
        "#baseline model with LR\n",
        "from sklearn.linear_model import LogisticRegression\n",
        "from sklearn.metrics import accuracy_score\n",
        "\n",
        "LR = LogisticRegression()\n",
        "LR.fit(X_train, y_train)\n",
        "\n",
        "y_pred = LR.predict(X_test)\n",
        "lr_accuracy = accuracy_score(y_test, y_pred)\n",
        "print(f'Logistic Regression Accuracy: {lr_accuracy:.4f}')"
      ]
    },
    {
      "cell_type": "code",
      "execution_count": 20,
      "metadata": {
        "colab": {
          "base_uri": "https://localhost:8080/"
        },
        "id": "rGUN5IxuQgDq",
        "outputId": "0f298665-6176-4e7e-d4f0-78bb9aba5e84"
      },
      "outputs": [
        {
          "name": "stdout",
          "output_type": "stream",
          "text": [
            "Decision Tree Accuracy: 0.4483\n"
          ]
        }
      ],
      "source": [
        "from sklearn.tree import DecisionTreeClassifier\n",
        "\n",
        "# Initialize the Decision Tree model\n",
        "dt = DecisionTreeClassifier(criterion='gini', max_depth=5, random_state=42)\n",
        "dt.fit(X_train, y_train)\n",
        "y_pred_dt = dt.predict(X_test)\n",
        "\n",
        "dt_accuracy = accuracy_score(y_test, y_pred_dt)\n",
        "print(f'Decision Tree Accuracy: {dt_accuracy:.4f}')"
      ]
    },
    {
      "cell_type": "code",
      "execution_count": 21,
      "metadata": {
        "colab": {
          "base_uri": "https://localhost:8080/"
        },
        "id": "6FsB8qeCG3kB",
        "outputId": "4f340159-34be-48d5-a491-40937fa9991a"
      },
      "outputs": [
        {
          "name": "stdout",
          "output_type": "stream",
          "text": [
            "Random Forest Accuracy: 0.7586\n"
          ]
        }
      ],
      "source": [
        "from sklearn.ensemble import RandomForestClassifier\n",
        "\n",
        "RF = RandomForestClassifier(n_estimators=100, random_state=42)\n",
        "RF.fit(X_train, y_train)\n",
        "y_pred = RF.predict(X_test)\n",
        "\n",
        "rf_accuracy = accuracy_score(y_test, y_pred)\n",
        "print(f'Random Forest Accuracy: {rf_accuracy:.4f}')"
      ]
    },
    {
      "cell_type": "code",
      "execution_count": 22,
      "metadata": {
        "colab": {
          "base_uri": "https://localhost:8080/"
        },
        "id": "etbmCrixP-aX",
        "outputId": "640696af-bdd3-4bbd-b18d-51d028633548"
      },
      "outputs": [
        {
          "name": "stdout",
          "output_type": "stream",
          "text": [
            "Gradient Boosting Accuracy: 0.7241\n"
          ]
        }
      ],
      "source": [
        "from sklearn.ensemble import GradientBoostingClassifier\n",
        "gb = GradientBoostingClassifier(n_estimators=100, learning_rate=0.1, max_depth=3, random_state=42)\n",
        "gb.fit(X_train, y_train)\n",
        "\n",
        "y_pred_gb = gb.predict(X_test)\n",
        "gb_accuracy = accuracy_score(y_test, y_pred_gb)\n",
        "print(f'Gradient Boosting Accuracy: {gb_accuracy:.4f}')\n"
      ]
    },
    {
      "cell_type": "code",
      "execution_count": 23,
      "metadata": {
        "colab": {
          "base_uri": "https://localhost:8080/"
        },
        "id": "zozQrBTYIIO5",
        "outputId": "3eaac36f-4b6d-4049-d1ea-5cab551ca7b1"
      },
      "outputs": [
        {
          "data": {
            "text/plain": [
              "[(np.float64(0.20501846799201995), 'Glucose'),\n",
              " (np.float64(0.18218546473046418), 'Age'),\n",
              " (np.float64(0.10670387223439673), 'BMI'),\n",
              " (np.float64(0.09204744005632182), 'Adiponectin'),\n",
              " (np.float64(0.09136772284215494), 'Leptin'),\n",
              " (np.float64(0.0893283008309524), 'Resistin'),\n",
              " (np.float64(0.08805492903381373), 'HOMA'),\n",
              " (np.float64(0.07820617592321681), 'Insulin'),\n",
              " (np.float64(0.06708762635665934), 'MCP.1')]"
            ]
          },
          "execution_count": 23,
          "metadata": {},
          "output_type": "execute_result"
        }
      ],
      "source": [
        "importances = RF.feature_importances_\n",
        "feature_names = X_train.columns\n",
        "sorted(zip(importances, feature_names), reverse=True)"
      ]
    },
    {
      "cell_type": "code",
      "execution_count": 24,
      "metadata": {
        "id": "5W6cTcb5IJGD"
      },
      "outputs": [],
      "source": [
        "# from sklearn.ensemble import RandomForestClassifier\n",
        "# from sklearn.model_selection import GridSearchCV\n",
        "\n",
        "# param_grid = {\n",
        "#     'n_estimators': [50, 100, 200],\n",
        "#     'max_depth': [None, 10, 20, 30],\n",
        "#     'min_samples_split': [2, 5, 10],\n",
        "#     'min_samples_leaf': [1, 2, 4]\n",
        "# }\n",
        "\n",
        "# grid_search = GridSearchCV(RandomForestClassifier(random_state=42), param_grid, cv=5, scoring='accuracy')\n",
        "# grid_search.fit(X_train, y_train)\n",
        "\n",
        "# print(\"Best parameters:\", grid_search.best_params_)\n",
        "# print(\"Best accuracy:\", grid_search.best_score_)\n"
      ]
    },
    {
      "cell_type": "code",
      "execution_count": 25,
      "metadata": {
        "colab": {
          "base_uri": "https://localhost:8080/"
        },
        "id": "_qo-bXmeJXWB",
        "outputId": "0a738e67-3153-43de-91f4-5440630fa0ea"
      },
      "outputs": [
        {
          "name": "stdout",
          "output_type": "stream",
          "text": [
            "SVM Accuracy: 0.4828\n"
          ]
        }
      ],
      "source": [
        "from sklearn.svm import SVC\n",
        "model = SVC()\n",
        "model.fit(X_train, y_train)\n",
        "y_pred = model.predict(X_test)\n",
        "svm_accuracy = accuracy_score(y_test, y_pred)\n",
        "print(f'SVM Accuracy: {svm_accuracy:.4f}')"
      ]
    },
    {
      "cell_type": "code",
      "execution_count": 26,
      "metadata": {
        "colab": {
          "base_uri": "https://localhost:8080/",
          "height": 641
        },
        "id": "l4SADruhRXw1",
        "outputId": "9415db26-009b-4e70-e56f-6dc7ec34dcd3"
      },
      "outputs": [
        {
          "name": "stderr",
          "output_type": "stream",
          "text": [
            "<ipython-input-26-ce24e4527395>:7: FutureWarning: \n",
            "\n",
            "Passing `palette` without assigning `hue` is deprecated and will be removed in v0.14.0. Assign the `x` variable to `hue` and set `legend=False` for the same effect.\n",
            "\n",
            "  sns.barplot(x=models, y=accuracy_scores, palette=['blue', 'green', 'red', 'purple', 'orange'])\n"
          ]
        },
        {
          "data": {
            "image/png": "[encoded data removed]",
            "text/plain": [
              "<Figure size 800x500 with 1 Axes>"
            ]
          },
          "metadata": {},
          "output_type": "display_data"
        }
      ],
      "source": [
        "import seaborn as sns\n",
        "import matplotlib.pyplot as plt\n",
        "\n",
        "models = ['Logistic Regression', 'Decision Trees', 'Random Forest', 'Gradient Boosting', 'SVM']\n",
        "accuracy_scores = [lr_accuracy, dt_accuracy, rf_accuracy, gb_accuracy, svm_accuracy]  # Fixing duplicate values\n",
        "plt.figure(figsize=(8, 5))\n",
        "sns.barplot(x=models, y=accuracy_scores, palette=['blue', 'green', 'red', 'purple', 'orange'])\n",
        "\n",
        "plt.ylim(0.4, 0.78)\n",
        "plt.xlabel(\"Models\")\n",
        "plt.ylabel(\"Accuracy Score\")\n",
        "plt.title(\"Comparison of Model Accuracy Scores\")\n",
        "plt.xticks(rotation=20)\n",
        "\n",
        "plt.show()"
      ]
    },
    {
      "cell_type": "markdown",
      "metadata": {
        "id": "oMIH4-nSL89R"
      },
      "source": [
        "##Kidney diseases"
      ]
    },
    {
      "cell_type": "code",
      "execution_count": 27,
      "metadata": {
        "colab": {
          "base_uri": "https://localhost:8080/"
        },
        "id": "a8i1M_skJY8T",
        "outputId": "e96833d4-ea38-44d3-ff36-0aa347faf130"
      },
      "outputs": [
        {
          "name": "stdout",
          "output_type": "stream",
          "text": [
            "    age     bp     sg   al   su       rbc        pc         pcc          ba  \\\n",
            "0  48.0   80.0  1.020  1.0  0.0       NaN    normal  notpresent  notpresent   \n",
            "1   7.0   50.0  1.020  4.0  0.0       NaN    normal  notpresent  notpresent   \n",
            "2  62.0   80.0  1.010  2.0  3.0    normal    normal  notpresent  notpresent   \n",
            "3  48.0   70.0  1.005  4.0  0.0    normal  abnormal     present  notpresent   \n",
            "4  51.0   80.0  1.010  2.0  0.0    normal    normal  notpresent  notpresent   \n",
            "5  60.0   90.0  1.015  3.0  0.0       NaN       NaN  notpresent  notpresent   \n",
            "6  68.0   70.0  1.010  0.0  0.0       NaN    normal  notpresent  notpresent   \n",
            "7  24.0    NaN  1.015  2.0  4.0    normal  abnormal  notpresent  notpresent   \n",
            "8  52.0  100.0  1.015  3.0  0.0    normal  abnormal     present  notpresent   \n",
            "9  53.0   90.0  1.020  2.0  0.0  abnormal  abnormal     present  notpresent   \n",
            "\n",
            "     bgr  ...   pcv     wbcc  rbcc  htn   dm  cad  appet   pe  ane class  \n",
            "0  121.0  ...  44.0   7800.0   5.2  yes  yes   no   good   no   no   ckd  \n",
            "1    NaN  ...  38.0   6000.0   NaN   no   no   no   good   no   no   ckd  \n",
            "2  423.0  ...  31.0   7500.0   NaN   no  yes   no   poor   no  yes   ckd  \n",
            "3  117.0  ...  32.0   6700.0   3.9  yes   no   no   poor  yes  yes   ckd  \n",
            "4  106.0  ...  35.0   7300.0   4.6   no   no   no   good   no   no   ckd  \n",
            "5   74.0  ...  39.0   7800.0   4.4  yes  yes   no   good  yes   no   ckd  \n",
            "6  100.0  ...  36.0      NaN   NaN   no   no   no   good   no   no   ckd  \n",
            "7  410.0  ...  44.0   6900.0   5.0   no  yes   no   good  yes   no   ckd  \n",
            "8  138.0  ...  33.0   9600.0   4.0  yes  yes   no   good   no  yes   ckd  \n",
            "9   70.0  ...  29.0  12100.0   3.7  yes  yes   no   poor   no  yes   ckd  \n",
            "\n",
            "[10 rows x 25 columns]\n"
          ]
        }
      ],
      "source": [
        "blob_client = container_client.get_blob_client(\"chronic_kidney_disease.csv\")\n",
        "\n",
        "# Download blob data\n",
        "downloaded_blob_kidney = blob_client.download_blob()\n",
        "csv_data_kidney = downloaded_blob_kidney.readall()\n",
        "\n",
        "# Convert to pandas DataFrame\n",
        "df_kidneydiseases = pd.read_csv(io.StringIO(csv_data_kidney.decode('utf-8')))\n",
        "print(df_kidneydiseases.head(10))"
      ]
    },
    {
      "cell_type": "code",
      "execution_count": 28,
      "metadata": {
        "colab": {
          "base_uri": "https://localhost:8080/"
        },
        "id": "Sx5Lsy5MM2T_",
        "outputId": "251c21cc-17af-4ab5-8f83-f5ffb9bdd1cd"
      },
      "outputs": [
        {
          "name": "stdout",
          "output_type": "stream",
          "text": [
            "age        9\n",
            "bp        12\n",
            "sg        47\n",
            "al        46\n",
            "su        49\n",
            "rbc      152\n",
            "pc        65\n",
            "pcc        4\n",
            "ba         4\n",
            "bgr       44\n",
            "bu        19\n",
            "sc        17\n",
            "sod       87\n",
            "pot       88\n",
            "hemo      52\n",
            "pcv       71\n",
            "wbcc     106\n",
            "rbcc     131\n",
            "htn        2\n",
            "dm         2\n",
            "cad        2\n",
            "appet      1\n",
            "pe         1\n",
            "ane        1\n",
            "class      0\n",
            "dtype: int64\n"
          ]
        }
      ],
      "source": [
        "print(df_kidneydiseases.isna().sum())"
      ]
    },
    {
      "cell_type": "code",
      "execution_count": 29,
      "metadata": {
        "id": "2wuPOoTYmgho"
      },
      "outputs": [],
      "source": [
        "# Filling numerical columns with the mean\n",
        "num_cols = ['age', 'bp', 'sg' , 'al' , 'su' , 'bgr', 'bu', 'sc', 'sod', 'pot', 'hemo', 'pcv', 'wbcc', 'rbcc']\n",
        "df_kidneydiseases[num_cols] = df_kidneydiseases[num_cols].fillna(df_kidneydiseases[num_cols].mean())\n",
        "\n",
        "# Filling categorical columns with the mode (most frequent value)\n",
        "cat_cols = ['rbc', 'pc', 'pcc', 'ba', 'htn', 'dm', 'cad', 'appet', 'pe', 'ane']\n",
        "df_kidneydiseases[cat_cols] = df_kidneydiseases[cat_cols].fillna(df_kidneydiseases[cat_cols].mode().iloc[0])"
      ]
    },
    {
      "cell_type": "code",
      "execution_count": 30,
      "metadata": {
        "colab": {
          "base_uri": "https://localhost:8080/"
        },
        "id": "fLbgSH2mwMZN",
        "outputId": "4938bc66-65df-428f-e8db-260c6f5e0411"
      },
      "outputs": [
        {
          "name": "stdout",
          "output_type": "stream",
          "text": [
            "age      0\n",
            "bp       0\n",
            "sg       0\n",
            "al       0\n",
            "su       0\n",
            "rbc      0\n",
            "pc       0\n",
            "pcc      0\n",
            "ba       0\n",
            "bgr      0\n",
            "bu       0\n",
            "sc       0\n",
            "sod      0\n",
            "pot      0\n",
            "hemo     0\n",
            "pcv      0\n",
            "wbcc     0\n",
            "rbcc     0\n",
            "htn      0\n",
            "dm       0\n",
            "cad      0\n",
            "appet    0\n",
            "pe       0\n",
            "ane      0\n",
            "class    0\n",
            "dtype: int64\n"
          ]
        }
      ],
      "source": [
        "print(df_kidneydiseases.isna().sum())"
      ]
    },
    {
      "cell_type": "code",
      "execution_count": 31,
      "metadata": {
        "colab": {
          "base_uri": "https://localhost:8080/"
        },
        "id": "_9aPRNx7w11V",
        "outputId": "09fad1ea-ef1d-449c-c686-c5b3f399954f"
      },
      "outputs": [
        {
          "name": "stdout",
          "output_type": "stream",
          "text": [
            "pot     13.101157\n",
            "sc       7.673105\n",
            "bu       2.698754\n",
            "su       2.629266\n",
            "bgr      2.130422\n",
            "wbcc     1.888887\n",
            "bp       1.629876\n",
            "al       1.060509\n",
            "sg      -0.183473\n",
            "rbcc    -0.223145\n",
            "hemo    -0.359057\n",
            "pcv     -0.477800\n",
            "age     -0.675848\n",
            "sod     -7.901094\n",
            "dtype: float64\n"
          ]
        }
      ],
      "source": [
        "#checking the skewness\n",
        "df_skew = df_kidneydiseases.select_dtypes(include=['number'])\n",
        "skew_values_kidney = df_skew.skew().sort_values(ascending=False)\n",
        "print(skew_values_kidney)"
      ]
    },
    {
      "cell_type": "code",
      "execution_count": 32,
      "metadata": {
        "colab": {
          "base_uri": "https://localhost:8080/",
          "height": 546
        },
        "id": "iCr_2I8SxM2y",
        "outputId": "d5374cca-c503-40fb-de77-f8c6d6c839b7"
      },
      "outputs": [
        {
          "data": {
            "image/png": "[encoded data removed]",
            "text/plain": [
              "<Figure size 1200x600 with 1 Axes>"
            ]
          },
          "metadata": {},
          "output_type": "display_data"
        }
      ],
      "source": [
        "plt.figure(figsize=(12, 6))\n",
        "sns.boxplot(data=df_kidneydiseases)\n",
        "plt.xticks(rotation=45)\n",
        "plt.show()"
      ]
    },
    {
      "cell_type": "code",
      "execution_count": 33,
      "metadata": {
        "colab": {
          "base_uri": "https://localhost:8080/"
        },
        "id": "QE6LlWhuyEjT",
        "outputId": "c116e80e-53aa-411d-dc65-9c441d7d4be6"
      },
      "outputs": [
        {
          "name": "stdout",
          "output_type": "stream",
          "text": [
            "age    -0.233243\n",
            "bp     -0.018854\n",
            "sg     -0.032458\n",
            "al      0.248978\n",
            "su      1.105646\n",
            "bgr    -0.134214\n",
            "bu     -0.025444\n",
            "sc      0.100012\n",
            "sod     0.091238\n",
            "pot    -0.395817\n",
            "hemo   -0.058426\n",
            "pcv    -0.050693\n",
            "wbcc    0.036590\n",
            "rbcc    0.070667\n",
            "dtype: float64\n"
          ]
        }
      ],
      "source": [
        "kidney_skewed_cols = ['age', 'bp', 'sg' , 'al' , 'su' , 'bgr', 'bu', 'sc', 'sod', 'pot', 'hemo', 'pcv', 'wbcc', 'rbcc']\n",
        "\n",
        "for col in kidney_skewed_cols:\n",
        "    if (df_kidneydiseases[col] > 0).all():\n",
        "        df_kidneydiseases[col], _ = boxcox(df_kidneydiseases[col])\n",
        "    else:\n",
        "        from sklearn.preprocessing import PowerTransformer\n",
        "        pt = PowerTransformer(method='yeo-johnson')\n",
        "        df_kidneydiseases[col] = pt.fit_transform(df_kidneydiseases[[col]])\n",
        "\n",
        "print(df_kidneydiseases[kidney_skewed_cols].skew())"
      ]
    },
    {
      "cell_type": "code",
      "execution_count": 34,
      "metadata": {
        "colab": {
          "base_uri": "https://localhost:8080/"
        },
        "id": "InT3OOF00L1v",
        "outputId": "7188fa12-4e27-4a94-c6f5-26550542b1a6"
      },
      "outputs": [
        {
          "name": "stdout",
          "output_type": "stream",
          "text": [
            "1.0321124188823934\n"
          ]
        }
      ],
      "source": [
        "df_kidneydiseases['su'] = np.log1p(df_kidneydiseases['su'])\n",
        "print(df_kidneydiseases['su'].skew())"
      ]
    },
    {
      "cell_type": "code",
      "execution_count": 35,
      "metadata": {
        "id": "PPdVvAQq2pwm"
      },
      "outputs": [],
      "source": [
        "# cols = ['rbc', 'pc', 'pcc', 'ba', 'htn', 'dm', 'cad', 'appet', 'pe', 'ane'] rbc_normal\n",
        "\n",
        "df_kidneydiseases = pd.get_dummies(df_kidneydiseases, columns=['rbc', 'pc', 'pcc', 'ba', 'htn', 'dm', 'cad', 'appet', 'pe', 'ane'], drop_first=True)"
      ]
    },
    {
      "cell_type": "code",
      "execution_count": 36,
      "metadata": {
        "colab": {
          "base_uri": "https://localhost:8080/"
        },
        "id": "f7H5TVx73ELO",
        "outputId": "e3c2dd90-0c6b-4afe-f212-b889ebc96ddb"
      },
      "outputs": [
        {
          "name": "stdout",
          "output_type": "stream",
          "text": [
            "age            float64\n",
            "bp             float64\n",
            "sg             float64\n",
            "al             float64\n",
            "su             float64\n",
            "bgr            float64\n",
            "bu             float64\n",
            "sc             float64\n",
            "sod            float64\n",
            "pot            float64\n",
            "hemo           float64\n",
            "pcv            float64\n",
            "wbcc           float64\n",
            "rbcc           float64\n",
            "class           object\n",
            "rbc_normal        bool\n",
            "pc_normal         bool\n",
            "pcc_present       bool\n",
            "ba_present        bool\n",
            "htn_yes           bool\n",
            "dm_no             bool\n",
            "dm_yes            bool\n",
            "cad_yes           bool\n",
            "appet_poor        bool\n",
            "pe_yes            bool\n",
            "ane_yes           bool\n",
            "dtype: object\n"
          ]
        }
      ],
      "source": [
        "print(df_kidneydiseases.dtypes)"
      ]
    },
    {
      "cell_type": "code",
      "execution_count": 37,
      "metadata": {
        "id": "hdSG7Gmz3Kmu"
      },
      "outputs": [],
      "source": [
        "X = df_kidneydiseases.drop(columns=['class'])\n",
        "y = df_kidneydiseases['class']"
      ]
    },
    {
      "cell_type": "code",
      "execution_count": 38,
      "metadata": {
        "id": "igvaAlBb2KDc"
      },
      "outputs": [],
      "source": [
        "from sklearn.model_selection import train_test_split\n",
        "\n",
        "X_train, X_test, y_train, y_test = train_test_split(X, y, test_size=0.25, random_state=42)"
      ]
    },
    {
      "cell_type": "code",
      "execution_count": 39,
      "metadata": {
        "colab": {
          "base_uri": "https://localhost:8080/"
        },
        "id": "y_cSMy8o2TTW",
        "outputId": "c9b167b1-968c-4f60-eb6e-71d4a2064faa"
      },
      "outputs": [
        {
          "name": "stdout",
          "output_type": "stream",
          "text": [
            "Logistic Regression Accuracy: 0.65\n"
          ]
        }
      ],
      "source": [
        "# logistic regression\n",
        "from sklearn.linear_model import LogisticRegression\n",
        "from sklearn.metrics import accuracy_score\n",
        "\n",
        "lr_model = LogisticRegression()\n",
        "lr_model.fit(X_train, y_train)\n",
        "\n",
        "y_pred_lr = lr_model.predict(X_test)\n",
        "lr_accuracy = accuracy_score(y_test, y_pred_lr)\n",
        "\n",
        "print(\"Logistic Regression Accuracy:\", lr_accuracy)"
      ]
    },
    {
      "cell_type": "code",
      "execution_count": 40,
      "metadata": {
        "colab": {
          "base_uri": "https://localhost:8080/"
        },
        "id": "S3Mk2jGC2UXV",
        "outputId": "94d2d126-5a2b-456d-8afe-79eaa5109d1c"
      },
      "outputs": [
        {
          "name": "stdout",
          "output_type": "stream",
          "text": [
            "Decision Tree Accuracy: 0.9800\n"
          ]
        }
      ],
      "source": [
        "# decision trees\n",
        "from sklearn.tree import DecisionTreeClassifier\n",
        "dt = DecisionTreeClassifier(criterion='gini', max_depth=5, random_state=42)\n",
        "dt.fit(X_train, y_train)\n",
        "y_pred_dt = dt.predict(X_test)\n",
        "\n",
        "dt_accuracy = accuracy_score(y_test, y_pred_dt)\n",
        "print(f'Decision Tree Accuracy: {dt_accuracy:.4f}')"
      ]
    },
    {
      "cell_type": "code",
      "execution_count": 41,
      "metadata": {
        "colab": {
          "base_uri": "https://localhost:8080/"
        },
        "id": "tEFfMg2DPu0l",
        "outputId": "6f46b233-6bce-45cc-ad98-22a5ca11c309"
      },
      "outputs": [
        {
          "name": "stdout",
          "output_type": "stream",
          "text": [
            "Random Forest Accuracy: 1.0000\n"
          ]
        }
      ],
      "source": [
        "# random forest\n",
        "from sklearn.ensemble import RandomForestClassifier\n",
        "rf = RandomForestClassifier(n_estimators=100, random_state=42)\n",
        "rf.fit(X_train, y_train)\n",
        "y_pred_rf = rf.predict(X_test)\n",
        "\n",
        "rf_accuracy = accuracy_score(y_test, y_pred_rf)\n",
        "print(f'Random Forest Accuracy: {rf_accuracy:.4f}')\n"
      ]
    },
    {
      "cell_type": "code",
      "execution_count": 42,
      "metadata": {
        "colab": {
          "base_uri": "https://localhost:8080/"
        },
        "id": "Oob2ifmNWFBW",
        "outputId": "3472cab6-6210-4d77-b185-5375a33b621b"
      },
      "outputs": [
        {
          "name": "stdout",
          "output_type": "stream",
          "text": [
            "SVM Accuracy: 0.7800\n"
          ]
        }
      ],
      "source": [
        "#svm\n",
        "from sklearn.svm import SVC\n",
        "model = SVC()\n",
        "model.fit(X_train, y_train)\n",
        "y_pred = model.predict(X_test)\n",
        "svm_accuracy = accuracy_score(y_test, y_pred)\n",
        "print(f'SVM Accuracy: {svm_accuracy:.4f}')"
      ]
    }
  ],
  "metadata": {
    "colab": {
      "provenance": []
    },
    "kernelspec": {
      "display_name": "Python 3",
      "name": "python3"
    },
    "language_info": {
      "name": "python"
    }
  },
  "nbformat": 4,
  "nbformat_minor": 0
}
