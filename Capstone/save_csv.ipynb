{
 "cells": [
  {
   "cell_type": "code",
   "execution_count": null,
   "metadata": {},
   "outputs": [],
   "source": [
    "import numpy as np \n",
    "import pandas as pd\n",
    "from ucimlrepo import fetch_ucirepo, list_available_datasets"
   ]
  },
  {
   "cell_type": "code",
   "execution_count": null,
   "metadata": {},
   "outputs": [],
   "source": [
    "import pandas as pd\n",
    "dataset_id = {\n",
    "    \"heart_disease\" : 145,\n",
    "    \"chronic_kidney_disease\" : 336,\n",
    "    \"risk_factor_prediction_ckd\" : 857,\n",
    "    \"breast_cancer\" : 451,\n",
    "    \"diabetes_usa\" : 296,\n",
    "    \"early_diabetes\": 529,\n",
    "    \"maternal_health_risk\" : 863,\n",
    "    \"liver\" : 46,\n",
    "    \"obesity\" : 544\n",
    "}\n",
    "\n",
    "for name, id in dataset_id.items():\n",
    "    dataset = fetch_ucirepo(id=id)\n",
    "    df = dataset.data.original  \n",
    "\n",
    "    # Save to CSV locally\n",
    "    filename = f\"{name}.csv\"\n",
    "    df.to_csv(filename, index=False)\n",
    "    print(f\"Saved {name} dataset as {filename}\")"
   ]
  }
 ],
 "metadata": {
  "kernelspec": {
   "display_name": "Python 3",
   "language": "python",
   "name": "python3"
  },
  "language_info": {
   "codemirror_mode": {
    "name": "ipython",
    "version": 3
   },
   "file_extension": ".py",
   "mimetype": "text/x-python",
   "name": "python",
   "nbconvert_exporter": "python",
   "pygments_lexer": "ipython3",
   "version": "3.11.10"
  }
 },
 "nbformat": 4,
 "nbformat_minor": 2
}
