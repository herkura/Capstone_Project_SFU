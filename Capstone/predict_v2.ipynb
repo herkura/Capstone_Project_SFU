{
  "cells": [
    {
      "cell_type": "code",
      "execution_count": 1,
      "metadata": {
        "colab": {
          "base_uri": "https://localhost:8080/"
        },
        "id": "GZ3NAm5yNToo",
        "outputId": "0b96a130-ba80-439e-86c6-ef5a2bec3b96"
      },
      "outputs": [
        {
          "name": "stdout",
          "output_type": "stream",
          "text": [
            "Collecting ucimlrepo\n",
            "  Downloading ucimlrepo-0.0.7-py3-none-any.whl.metadata (5.5 kB)\n",
            "Requirement already satisfied: pandas>=1.0.0 in /usr/local/lib/python3.11/dist-packages (from ucimlrepo) (2.2.2)\n",
            "Requirement already satisfied: certifi>=2020.12.5 in /usr/local/lib/python3.11/dist-packages (from ucimlrepo) (2025.1.31)\n",
            "Requirement already satisfied: numpy>=1.23.2 in /usr/local/lib/python3.11/dist-packages (from pandas>=1.0.0->ucimlrepo) (2.0.2)\n",
            "Requirement already satisfied: python-dateutil>=2.8.2 in /usr/local/lib/python3.11/dist-packages (from pandas>=1.0.0->ucimlrepo) (2.8.2)\n",
            "Requirement already satisfied: pytz>=2020.1 in /usr/local/lib/python3.11/dist-packages (from pandas>=1.0.0->ucimlrepo) (2025.1)\n",
            "Requirement already satisfied: tzdata>=2022.7 in /usr/local/lib/python3.11/dist-packages (from pandas>=1.0.0->ucimlrepo) (2025.1)\n",
            "Requirement already satisfied: six>=1.5 in /usr/local/lib/python3.11/dist-packages (from python-dateutil>=2.8.2->pandas>=1.0.0->ucimlrepo) (1.17.0)\n",
            "Downloading ucimlrepo-0.0.7-py3-none-any.whl (8.0 kB)\n",
            "Installing collected packages: ucimlrepo\n",
            "Successfully installed ucimlrepo-0.0.7\n"
          ]
        }
      ],
      "source": [
        "!pip install ucimlrepo"
      ]
    },
    {
      "cell_type": "code",
      "execution_count": 2,
      "metadata": {
        "id": "0454GDHGM_ju"
      },
      "outputs": [],
      "source": [
        "from ucimlrepo import fetch_ucirepo, list_available_datasets"
      ]
    },
    {
      "cell_type": "code",
      "execution_count": 4,
      "metadata": {
        "id": "n-fSOCCVQFRs"
      },
      "outputs": [],
      "source": [
        "# import pandas as pd\n",
        "# dataset_id = {\n",
        "#     \"heart_disease\" : 145,\n",
        "#     \"chronic_kidney_disease\" : 336,\n",
        "#     \"risk_factor_prediction_ckd\" : 857,\n",
        "#     \"breast_cancer\" : 451,\n",
        "#     \"diabetes_usa\" : 296,\n",
        "#     \"early_diabetes\": 529,\n",
        "#     \"maternal_health_risk\" : 863,\n",
        "#     \"liver\" : 46,\n",
        "#     \"obesity\" : 544\n",
        "# }\n",
        "\n",
        "# for name, id in dataset_id.items():\n",
        "#     dataset = fetch_ucirepo(id=id)\n",
        "#     df = dataset.data.original  # Use 'cleaned' if needed\n",
        "\n",
        "#     # Save to CSV locally\n",
        "#     filename = f\"{name}.csv\"\n",
        "#     df.to_csv(filename, index=False)\n",
        "#     print(f\"Saved {name} dataset as {filename}\")"
      ]
    },
    {
      "cell_type": "code",
      "execution_count": 3,
      "metadata": {
        "colab": {
          "base_uri": "https://localhost:8080/"
        },
        "id": "u9cDQ83cQThu",
        "outputId": "cd879910-3e00-451c-a4dc-ce8adf1b55b2"
      },
      "outputs": [
        {
          "name": "stdout",
          "output_type": "stream",
          "text": [
            "Collecting azure-storage-blob\n",
            "  Downloading azure_storage_blob-12.25.0-py3-none-any.whl.metadata (26 kB)\n",
            "Requirement already satisfied: pandas in /usr/local/lib/python3.11/dist-packages (2.2.2)\n",
            "Collecting azure-core>=1.30.0 (from azure-storage-blob)\n",
            "  Downloading azure_core-1.32.0-py3-none-any.whl.metadata (39 kB)\n",
            "Requirement already satisfied: cryptography>=2.1.4 in /usr/local/lib/python3.11/dist-packages (from azure-storage-blob) (43.0.3)\n",
            "Requirement already satisfied: typing-extensions>=4.6.0 in /usr/local/lib/python3.11/dist-packages (from azure-storage-blob) (4.12.2)\n",
            "Collecting isodate>=0.6.1 (from azure-storage-blob)\n",
            "  Downloading isodate-0.7.2-py3-none-any.whl.metadata (11 kB)\n",
            "Requirement already satisfied: numpy>=1.23.2 in /usr/local/lib/python3.11/dist-packages (from pandas) (2.0.2)\n",
            "Requirement already satisfied: python-dateutil>=2.8.2 in /usr/local/lib/python3.11/dist-packages (from pandas) (2.8.2)\n",
            "Requirement already satisfied: pytz>=2020.1 in /usr/local/lib/python3.11/dist-packages (from pandas) (2025.1)\n",
            "Requirement already satisfied: tzdata>=2022.7 in /usr/local/lib/python3.11/dist-packages (from pandas) (2025.1)\n",
            "Requirement already satisfied: requests>=2.21.0 in /usr/local/lib/python3.11/dist-packages (from azure-core>=1.30.0->azure-storage-blob) (2.32.3)\n",
            "Requirement already satisfied: six>=1.11.0 in /usr/local/lib/python3.11/dist-packages (from azure-core>=1.30.0->azure-storage-blob) (1.17.0)\n",
            "Requirement already satisfied: cffi>=1.12 in /usr/local/lib/python3.11/dist-packages (from cryptography>=2.1.4->azure-storage-blob) (1.17.1)\n",
            "Requirement already satisfied: pycparser in /usr/local/lib/python3.11/dist-packages (from cffi>=1.12->cryptography>=2.1.4->azure-storage-blob) (2.22)\n",
            "Requirement already satisfied: charset-normalizer<4,>=2 in /usr/local/lib/python3.11/dist-packages (from requests>=2.21.0->azure-core>=1.30.0->azure-storage-blob) (3.4.1)\n",
            "Requirement already satisfied: idna<4,>=2.5 in /usr/local/lib/python3.11/dist-packages (from requests>=2.21.0->azure-core>=1.30.0->azure-storage-blob) (3.10)\n",
            "Requirement already satisfied: urllib3<3,>=1.21.1 in /usr/local/lib/python3.11/dist-packages (from requests>=2.21.0->azure-core>=1.30.0->azure-storage-blob) (2.3.0)\n",
            "Requirement already satisfied: certifi>=2017.4.17 in /usr/local/lib/python3.11/dist-packages (from requests>=2.21.0->azure-core>=1.30.0->azure-storage-blob) (2025.1.31)\n",
            "Downloading azure_storage_blob-12.25.0-py3-none-any.whl (406 kB)\n",
            "\u001b[2K   \u001b[90m━━━━━━━━━━━━━━━━━━━━━━━━━━━━━━━━━━━━━━━━\u001b[0m \u001b[32m406.9/406.9 kB\u001b[0m \u001b[31m10.2 MB/s\u001b[0m eta \u001b[36m0:00:00\u001b[0m\n",
            "\u001b[?25hDownloading azure_core-1.32.0-py3-none-any.whl (198 kB)\n",
            "\u001b[2K   \u001b[90m━━━━━━━━━━━━━━━━━━━━━━━━━━━━━━━━━━━━━━━━\u001b[0m \u001b[32m198.9/198.9 kB\u001b[0m \u001b[31m10.5 MB/s\u001b[0m eta \u001b[36m0:00:00\u001b[0m\n",
            "\u001b[?25hDownloading isodate-0.7.2-py3-none-any.whl (22 kB)\n",
            "Installing collected packages: isodate, azure-core, azure-storage-blob\n",
            "Successfully installed azure-core-1.32.0 azure-storage-blob-12.25.0 isodate-0.7.2\n"
          ]
        }
      ],
      "source": [
        "!pip install azure-storage-blob pandas"
      ]
    },
    {
      "cell_type": "code",
      "execution_count": 4,
      "metadata": {
        "id": "B2LJOGz8XNUD"
      },
      "outputs": [],
      "source": [
        "from azure.storage.blob import BlobServiceClient\n",
        "import pandas as pd\n",
        "import io"
      ]
    },
    {
      "cell_type": "code",
      "execution_count": null,
      "metadata": {
        "id": "TNa152gyKUTU"
      },
      "outputs": [],
      "source": [
        "# Define your Azure Storage Account details\n",
        "STORAGE_ACCOUNT_NAME = \"\"\n",
        "STORAGE_ACCOUNT_KEY = \"\"\n",
        "CONTAINER_NAME = \"\"\n",
        "\n",
        "# Create a connection string\n",
        "connection_string = f\"DefaultEndpointsProtocol=https;AccountName={STORAGE_ACCOUNT_NAME};AccountKey={STORAGE_ACCOUNT_KEY};EndpointSuffix=core.windows.net\"\n",
        "\n",
        "# Connect to the blob service\n",
        "blob_service_client = BlobServiceClient.from_connection_string(connection_string)\n"
      ]
    },
    {
      "cell_type": "code",
      "execution_count": 6,
      "metadata": {
        "colab": {
          "base_uri": "https://localhost:8080/"
        },
        "id": "h47BmXq1SU5o",
        "outputId": "c2c6feb9-9356-4c20-836e-be000daea6a3"
      },
      "outputs": [
        {
          "name": "stdout",
          "output_type": "stream",
          "text": [
            "Files in Blob Storage:\n",
            "breast_cancer.csv\n",
            "chronic_kidney_disease.csv\n",
            "diabetes_usa.csv\n",
            "early_diabetes.csv\n",
            "heart_disease.csv\n",
            "liver.csv\n",
            "maternal_health_risk.csv\n",
            "obesity.csv\n"
          ]
        }
      ],
      "source": [
        "# List all blobs (files) in the container\n",
        "container_client = blob_service_client.get_container_client(CONTAINER_NAME)\n",
        "blob_list = container_client.list_blobs()\n",
        "\n",
        "print(\"Files in Blob Storage:\")\n",
        "for blob in blob_list:\n",
        "    print(blob.name)\n"
      ]
    },
    {
      "cell_type": "markdown",
      "metadata": {
        "id": "Pr67k-BoL3H4"
      },
      "source": [
        "## Breast Cancer"
      ]
    },
    {
      "cell_type": "code",
      "execution_count": 7,
      "metadata": {
        "colab": {
          "base_uri": "https://localhost:8080/"
        },
        "id": "Fj149xJ4S5x0",
        "outputId": "3419e16b-9fa1-4fd9-f9d4-6ada680c4a52"
      },
      "outputs": [
        {
          "name": "stdout",
          "output_type": "stream",
          "text": [
            "   Age        BMI  Glucose  Insulin      HOMA   Leptin  Adiponectin  Resistin  \\\n",
            "0   48  23.500000       70    2.707  0.467409   8.8071     9.702400   7.99585   \n",
            "1   83  20.690495       92    3.115  0.706897   8.8438     5.429285   4.06405   \n",
            "2   82  23.124670       91    4.498  1.009651  17.9393    22.432040   9.27715   \n",
            "3   68  21.367521       77    3.226  0.612725   9.8827     7.169560  12.76600   \n",
            "4   86  21.111111       92    3.549  0.805386   6.6994     4.819240  10.57635   \n",
            "5   49  22.854458       92    3.226  0.732087   6.8317    13.679750  10.31760   \n",
            "6   89  22.700000       77    4.690  0.890787   6.9640     5.589865  12.93610   \n",
            "7   76  23.800000      118    6.470  1.883201   4.3110    13.251320   5.10420   \n",
            "8   73  22.000000       97    3.350  0.801543   4.4700    10.358725   6.28445   \n",
            "9   75  23.000000       83    4.952  1.013839  17.1270    11.578990   7.09130   \n",
            "\n",
            "      MCP.1  Classification  \n",
            "0   417.114               1  \n",
            "1   468.786               1  \n",
            "2   554.697               1  \n",
            "3   928.220               1  \n",
            "4   773.920               1  \n",
            "5   530.410               1  \n",
            "6  1256.083               1  \n",
            "7   280.694               1  \n",
            "8   136.855               1  \n",
            "9   318.302               1  \n"
          ]
        }
      ],
      "source": [
        "#breat cancer\n",
        "blob_client = container_client.get_blob_client(\"breast_cancer.csv\")\n",
        "\n",
        "# Download blob data\n",
        "downloaded_blob = blob_client.download_blob()\n",
        "csv_data = downloaded_blob.readall()\n",
        "\n",
        "# Convert to pandas DataFrame\n",
        "df_breastCancer = pd.read_csv(io.StringIO(csv_data.decode('utf-8')))\n",
        "print(df_breastCancer.head(10))\n"
      ]
    },
    {
      "cell_type": "code",
      "execution_count": 8,
      "metadata": {
        "colab": {
          "base_uri": "https://localhost:8080/"
        },
        "id": "KU7F9yO_fgAc",
        "outputId": "a7e12ce0-cc36-4bdc-ca49-b143da5e64bb"
      },
      "outputs": [
        {
          "name": "stdout",
          "output_type": "stream",
          "text": [
            "Age               0\n",
            "BMI               0\n",
            "Glucose           0\n",
            "Insulin           0\n",
            "HOMA              0\n",
            "Leptin            0\n",
            "Adiponectin       0\n",
            "Resistin          0\n",
            "MCP.1             0\n",
            "Classification    0\n",
            "dtype: int64\n"
          ]
        }
      ],
      "source": [
        "#checking nan values\n",
        "print(df_breastCancer.isna().sum())"
      ]
    },
    {
      "cell_type": "code",
      "execution_count": 9,
      "metadata": {
        "id": "bb3dxoG7fzvI"
      },
      "outputs": [],
      "source": [
        "df_breastCancer.drop_duplicates(inplace=True)"
      ]
    },
    {
      "cell_type": "markdown",
      "metadata": {
        "id": "i24hq2InskRQ"
      },
      "source": [
        "## Checking the skewness and normalizing the data\n"
      ]
    },
    {
      "cell_type": "code",
      "execution_count": 10,
      "metadata": {
        "colab": {
          "base_uri": "https://localhost:8080/",
          "height": 583
        },
        "id": "pvC0WkUJheX6",
        "outputId": "3f7d5264-d1cc-451e-e3e5-94f4286f8c20"
      },
      "outputs": [
        {
          "data": {
            "image/png": "[encoded data removed]",
            "text/plain": [
              "<Figure size 1200x600 with 1 Axes>"
            ]
          },
          "metadata": {},
          "output_type": "display_data"
        }
      ],
      "source": [
        "import seaborn as sns\n",
        "import matplotlib.pyplot as plt\n",
        "\n",
        "plt.figure(figsize=(12, 6))\n",
        "sns.boxplot(data=df_breastCancer)\n",
        "plt.xticks(rotation=45)\n",
        "plt.show()"
      ]
    },
    {
      "cell_type": "code",
      "execution_count": 11,
      "metadata": {
        "colab": {
          "base_uri": "https://localhost:8080/"
        },
        "id": "xv1vJeHBhmWn",
        "outputId": "056d325c-aeaf-4817-b241-bd567b02b9cf"
      },
      "outputs": [
        {
          "name": "stdout",
          "output_type": "stream",
          "text": [
            "0      6.035754\n",
            "1      6.152277\n",
            "2      6.320223\n",
            "3      6.834346\n",
            "4      6.652760\n",
            "         ...   \n",
            "111    5.595566\n",
            "112    5.802602\n",
            "113    5.752731\n",
            "114    5.974979\n",
            "115    4.511848\n",
            "Name: MCP.1, Length: 116, dtype: float64\n"
          ]
        }
      ],
      "source": [
        "#normalizing some features:\n",
        "import numpy as np\n",
        "\n",
        "df_breastCancer['MCP.1'] = np.log1p(df_breastCancer['MCP.1'])\n",
        "df_breastCancer['Insulin'] = np.log1p(df_breastCancer['Insulin'])\n",
        "print(df_breastCancer['MCP.1'])"
      ]
    },
    {
      "cell_type": "code",
      "execution_count": 12,
      "metadata": {
        "colab": {
          "base_uri": "https://localhost:8080/"
        },
        "id": "43n67tD8rLm9",
        "outputId": "d52ea786-2b60-47d3-dfd5-ea2d26481b4f"
      },
      "outputs": [
        {
          "name": "stdout",
          "output_type": "stream",
          "text": [
            "-0.5129520962079838\n"
          ]
        }
      ],
      "source": [
        "from scipy.stats import skew\n",
        "print(df_breastCancer['MCP.1'].skew())"
      ]
    },
    {
      "cell_type": "code",
      "execution_count": 13,
      "metadata": {
        "id": "SGXD6STCrzgF"
      },
      "outputs": [],
      "source": [
        "from scipy.stats import boxcox\n",
        "df_breastCancer['MCP.1'], _ = boxcox(df_breastCancer['MCP.1'] + 1)"
      ]
    },
    {
      "cell_type": "code",
      "execution_count": 14,
      "metadata": {
        "colab": {
          "base_uri": "https://localhost:8080/"
        },
        "id": "QHeJVAyEr4Z-",
        "outputId": "38a378ec-cefa-4d01-94c6-48e2f6b05770"
      },
      "outputs": [
        {
          "name": "stdout",
          "output_type": "stream",
          "text": [
            "-0.006831314822481881\n"
          ]
        }
      ],
      "source": [
        "print(df_breastCancer['MCP.1'].skew())"
      ]
    },
    {
      "cell_type": "code",
      "execution_count": 16,
      "metadata": {
        "colab": {
          "base_uri": "https://localhost:8080/"
        },
        "id": "PZf9mY-290XE",
        "outputId": "861677b3-9173-4899-c602-a4082513f263"
      },
      "outputs": [
        {
          "name": "stdout",
          "output_type": "stream",
          "text": [
            "0.08985001616072288\n"
          ]
        }
      ],
      "source": [
        "print(df_breastCancer['Insulin'].skew())"
      ]
    },
    {
      "cell_type": "code",
      "execution_count": 17,
      "metadata": {
        "colab": {
          "base_uri": "https://localhost:8080/"
        },
        "id": "su_E9r5i_aT8",
        "outputId": "e9266f26-83fd-4cd4-cb81-f3dd888e66d0"
      },
      "outputs": [
        {
          "name": "stdout",
          "output_type": "stream",
          "text": [
            "0.006889301443425097\n"
          ]
        }
      ],
      "source": [
        "df_breastCancer['Insulin'], _ = boxcox(df_breastCancer['Insulin'] + 1)\n",
        "print(df_breastCancer['Insulin'].skew())"
      ]
    },
    {
      "cell_type": "code",
      "execution_count": 18,
      "metadata": {
        "colab": {
          "base_uri": "https://localhost:8080/"
        },
        "id": "3hlGmpAHAh1u",
        "outputId": "6097748b-1a60-47f8-94c4-9cd956ba85de"
      },
      "outputs": [
        {
          "name": "stdout",
          "output_type": "stream",
          "text": [
            "HOMA              3.812087\n",
            "Glucose           2.593305\n",
            "Resistin          2.577429\n",
            "Adiponectin       1.817765\n",
            "Leptin            1.309536\n",
            "BMI               0.170152\n",
            "Age               0.017832\n",
            "Insulin           0.006889\n",
            "MCP.1            -0.006831\n",
            "Classification   -0.210748\n",
            "dtype: float64\n"
          ]
        }
      ],
      "source": [
        "skew_values = df_breastCancer.skew().sort_values(ascending=False)\n",
        "print(skew_values)"
      ]
    },
    {
      "cell_type": "code",
      "execution_count": 19,
      "metadata": {
        "colab": {
          "base_uri": "https://localhost:8080/"
        },
        "id": "xENv1IWU_hB-",
        "outputId": "777c7047-3405-4be9-8e16-a29e06554265"
      },
      "outputs": [
        {
          "name": "stdout",
          "output_type": "stream",
          "text": [
            "Glucose       -0.131235\n",
            "Leptin         0.004261\n",
            "HOMA           0.117326\n",
            "Adiponectin   -0.000177\n",
            "Resistin       0.023984\n",
            "dtype: float64\n"
          ]
        }
      ],
      "source": [
        "from scipy.stats import boxcox\n",
        "import numpy as np\n",
        "\n",
        "skewed_cols = ['Glucose', 'Leptin', 'HOMA', 'Adiponectin' , 'Resistin']\n",
        "\n",
        "for col in skewed_cols:\n",
        "    if (df_breastCancer[col] > 0).all():\n",
        "        df_breastCancer[col], _ = boxcox(df_breastCancer[col])\n",
        "    else:\n",
        "        from sklearn.preprocessing import PowerTransformer\n",
        "        pt = PowerTransformer(method='yeo-johnson')\n",
        "        df_breastCancer[col] = pt.fit_transform(df_breastCancer[[col]])\n",
        "\n",
        "print(df_breastCancer[skewed_cols].skew())\n"
      ]
    },
    {
      "cell_type": "code",
      "execution_count": 20,
      "metadata": {
        "id": "sLcwAZJgBlH7"
      },
      "outputs": [],
      "source": [
        "from sklearn.model_selection import train_test_split\n",
        "\n",
        "X = df_breastCancer.drop(columns=['Classification'])\n",
        "y = df_breastCancer['Classification']\n",
        "\n",
        "X_train, X_test, y_train, y_test = train_test_split(X, y, test_size=0.25, random_state=42)"
      ]
    },
    {
      "cell_type": "code",
      "execution_count": 21,
      "metadata": {
        "colab": {
          "base_uri": "https://localhost:8080/"
        },
        "id": "aS4iDoiiFgpd",
        "outputId": "4781cb68-1967-43bd-bbf5-5fe1368aecb8"
      },
      "outputs": [
        {
          "name": "stdout",
          "output_type": "stream",
          "text": [
            "Logistic Regression Accuracy: 0.7241\n"
          ]
        },
        {
          "name": "stderr",
          "output_type": "stream",
          "text": [
            "/usr/local/lib/python3.11/dist-packages/sklearn/linear_model/_logistic.py:465: ConvergenceWarning: lbfgs failed to converge (status=1):\n",
            "STOP: TOTAL NO. of ITERATIONS REACHED LIMIT.\n",
            "\n",
            "Increase the number of iterations (max_iter) or scale the data as shown in:\n",
            "    https://scikit-learn.org/stable/modules/preprocessing.html\n",
            "Please also refer to the documentation for alternative solver options:\n",
            "    https://scikit-learn.org/stable/modules/linear_model.html#logistic-regression\n",
            "  n_iter_i = _check_optimize_result(\n"
          ]
        }
      ],
      "source": [
        "#baseline model with LR\n",
        "from sklearn.linear_model import LogisticRegression\n",
        "from sklearn.metrics import accuracy_score\n",
        "\n",
        "LR = LogisticRegression()\n",
        "LR.fit(X_train, y_train)\n",
        "\n",
        "y_pred = LR.predict(X_test)\n",
        "lr_accuracy = accuracy_score(y_test, y_pred)\n",
        "print(f'Logistic Regression Accuracy: {lr_accuracy:.4f}')"
      ]
    },
    {
      "cell_type": "code",
      "execution_count": 22,
      "metadata": {
        "colab": {
          "base_uri": "https://localhost:8080/"
        },
        "id": "rGUN5IxuQgDq",
        "outputId": "d1135697-400e-4761-ce14-95cc3250f426"
      },
      "outputs": [
        {
          "name": "stdout",
          "output_type": "stream",
          "text": [
            "Decision Tree Accuracy: 0.4483\n"
          ]
        }
      ],
      "source": [
        "from sklearn.tree import DecisionTreeClassifier\n",
        "\n",
        "# Initialize the Decision Tree model\n",
        "dt = DecisionTreeClassifier(criterion='gini', max_depth=5, random_state=42)\n",
        "dt.fit(X_train, y_train)\n",
        "y_pred_dt = dt.predict(X_test)\n",
        "\n",
        "dt_accuracy = accuracy_score(y_test, y_pred_dt)\n",
        "print(f'Decision Tree Accuracy: {dt_accuracy:.4f}')"
      ]
    },
    {
      "cell_type": "code",
      "execution_count": 23,
      "metadata": {
        "colab": {
          "base_uri": "https://localhost:8080/"
        },
        "id": "6FsB8qeCG3kB",
        "outputId": "c3abf66d-339d-4fde-cce9-ddea814dc9f4"
      },
      "outputs": [
        {
          "name": "stdout",
          "output_type": "stream",
          "text": [
            "Random Forest Accuracy: 0.7586\n"
          ]
        }
      ],
      "source": [
        "from sklearn.ensemble import RandomForestClassifier\n",
        "\n",
        "RF = RandomForestClassifier(n_estimators=100, random_state=42)\n",
        "RF.fit(X_train, y_train)\n",
        "y_pred = RF.predict(X_test)\n",
        "\n",
        "rf_accuracy = accuracy_score(y_test, y_pred)\n",
        "print(f'Random Forest Accuracy: {rf_accuracy:.4f}')"
      ]
    },
    {
      "cell_type": "code",
      "execution_count": 24,
      "metadata": {
        "colab": {
          "base_uri": "https://localhost:8080/"
        },
        "id": "etbmCrixP-aX",
        "outputId": "0cda4a31-3030-43b2-fbe4-e9b7d91e5b3a"
      },
      "outputs": [
        {
          "name": "stdout",
          "output_type": "stream",
          "text": [
            "Gradient Boosting Accuracy: 0.7241\n"
          ]
        }
      ],
      "source": [
        "from sklearn.ensemble import GradientBoostingClassifier\n",
        "gb = GradientBoostingClassifier(n_estimators=100, learning_rate=0.1, max_depth=3, random_state=42)\n",
        "gb.fit(X_train, y_train)\n",
        "\n",
        "y_pred_gb = gb.predict(X_test)\n",
        "gb_accuracy = accuracy_score(y_test, y_pred_gb)\n",
        "print(f'Gradient Boosting Accuracy: {gb_accuracy:.4f}')\n"
      ]
    },
    {
      "cell_type": "code",
      "execution_count": 25,
      "metadata": {
        "colab": {
          "base_uri": "https://localhost:8080/"
        },
        "id": "zozQrBTYIIO5",
        "outputId": "6819d3aa-6509-4255-c8a4-885f7d5cbc18"
      },
      "outputs": [
        {
          "data": {
            "text/plain": [
              "[(np.float64(0.20501846799201995), 'Glucose'),\n",
              " (np.float64(0.18218546473046418), 'Age'),\n",
              " (np.float64(0.10670387223439673), 'BMI'),\n",
              " (np.float64(0.09204744005632182), 'Adiponectin'),\n",
              " (np.float64(0.09136772284215494), 'Leptin'),\n",
              " (np.float64(0.0893283008309524), 'Resistin'),\n",
              " (np.float64(0.08805492903381373), 'HOMA'),\n",
              " (np.float64(0.07820617592321681), 'Insulin'),\n",
              " (np.float64(0.06708762635665934), 'MCP.1')]"
            ]
          },
          "execution_count": 25,
          "metadata": {},
          "output_type": "execute_result"
        }
      ],
      "source": [
        "importances = RF.feature_importances_\n",
        "feature_names = X_train.columns\n",
        "sorted(zip(importances, feature_names), reverse=True)"
      ]
    },
    {
      "cell_type": "code",
      "execution_count": 67,
      "metadata": {
        "id": "5W6cTcb5IJGD"
      },
      "outputs": [],
      "source": [
        "# from sklearn.ensemble import RandomForestClassifier\n",
        "# from sklearn.model_selection import GridSearchCV\n",
        "\n",
        "# param_grid = {\n",
        "#     'n_estimators': [50, 100, 200],\n",
        "#     'max_depth': [None, 10, 20, 30],\n",
        "#     'min_samples_split': [2, 5, 10],\n",
        "#     'min_samples_leaf': [1, 2, 4]\n",
        "# }\n",
        "\n",
        "# grid_search = GridSearchCV(RandomForestClassifier(random_state=42), param_grid, cv=5, scoring='accuracy')\n",
        "# grid_search.fit(X_train, y_train)\n",
        "\n",
        "# print(\"Best parameters:\", grid_search.best_params_)\n",
        "# print(\"Best accuracy:\", grid_search.best_score_)\n"
      ]
    },
    {
      "cell_type": "code",
      "execution_count": 26,
      "metadata": {
        "colab": {
          "base_uri": "https://localhost:8080/"
        },
        "id": "_qo-bXmeJXWB",
        "outputId": "723356d0-5123-4934-c349-0befe1145f2e"
      },
      "outputs": [
        {
          "name": "stdout",
          "output_type": "stream",
          "text": [
            "SVM Accuracy: 0.4828\n"
          ]
        }
      ],
      "source": [
        "from sklearn.svm import SVC\n",
        "model = SVC()\n",
        "model.fit(X_train, y_train)\n",
        "y_pred = model.predict(X_test)\n",
        "svm_accuracy = accuracy_score(y_test, y_pred)\n",
        "print(f'SVM Accuracy: {svm_accuracy:.4f}')"
      ]
    },
    {
      "cell_type": "code",
      "execution_count": 27,
      "metadata": {
        "colab": {
          "base_uri": "https://localhost:8080/",
          "height": 641
        },
        "id": "l4SADruhRXw1",
        "outputId": "6f12e798-b0ee-4c18-e2a5-4e2b8a6e0138"
      },
      "outputs": [
        {
          "name": "stderr",
          "output_type": "stream",
          "text": [
            "<ipython-input-27-ce24e4527395>:7: FutureWarning: \n",
            "\n",
            "Passing `palette` without assigning `hue` is deprecated and will be removed in v0.14.0. Assign the `x` variable to `hue` and set `legend=False` for the same effect.\n",
            "\n",
            "  sns.barplot(x=models, y=accuracy_scores, palette=['blue', 'green', 'red', 'purple', 'orange'])\n"
          ]
        },
        {
          "data": {
            "image/png": "[encoded data removed]",
            "text/plain": [
              "<Figure size 800x500 with 1 Axes>"
            ]
          },
          "metadata": {},
          "output_type": "display_data"
        }
      ],
      "source": [
        "import seaborn as sns\n",
        "import matplotlib.pyplot as plt\n",
        "\n",
        "models = ['Logistic Regression', 'Decision Trees', 'Random Forest', 'Gradient Boosting', 'SVM']\n",
        "accuracy_scores = [lr_accuracy, dt_accuracy, rf_accuracy, gb_accuracy, svm_accuracy]  # Fixing duplicate values\n",
        "plt.figure(figsize=(8, 5))\n",
        "sns.barplot(x=models, y=accuracy_scores, palette=['blue', 'green', 'red', 'purple', 'orange'])\n",
        "\n",
        "plt.ylim(0.4, 0.78)\n",
        "plt.xlabel(\"Models\")\n",
        "plt.ylabel(\"Accuracy Score\")\n",
        "plt.title(\"Comparison of Model Accuracy Scores\")\n",
        "plt.xticks(rotation=20)\n",
        "\n",
        "plt.show()"
      ]
    },
    {
      "cell_type": "markdown",
      "metadata": {
        "id": "oMIH4-nSL89R"
      },
      "source": [
        "##Kidney diseases"
      ]
    },
    {
      "cell_type": "code",
      "execution_count": 28,
      "metadata": {
        "colab": {
          "base_uri": "https://localhost:8080/"
        },
        "id": "a8i1M_skJY8T",
        "outputId": "1fa1616b-e2fc-4ebd-b823-9982e64358a0"
      },
      "outputs": [
        {
          "name": "stdout",
          "output_type": "stream",
          "text": [
            "    age     bp     sg   al   su       rbc        pc         pcc          ba  \\\n",
            "0  48.0   80.0  1.020  1.0  0.0       NaN    normal  notpresent  notpresent   \n",
            "1   7.0   50.0  1.020  4.0  0.0       NaN    normal  notpresent  notpresent   \n",
            "2  62.0   80.0  1.010  2.0  3.0    normal    normal  notpresent  notpresent   \n",
            "3  48.0   70.0  1.005  4.0  0.0    normal  abnormal     present  notpresent   \n",
            "4  51.0   80.0  1.010  2.0  0.0    normal    normal  notpresent  notpresent   \n",
            "5  60.0   90.0  1.015  3.0  0.0       NaN       NaN  notpresent  notpresent   \n",
            "6  68.0   70.0  1.010  0.0  0.0       NaN    normal  notpresent  notpresent   \n",
            "7  24.0    NaN  1.015  2.0  4.0    normal  abnormal  notpresent  notpresent   \n",
            "8  52.0  100.0  1.015  3.0  0.0    normal  abnormal     present  notpresent   \n",
            "9  53.0   90.0  1.020  2.0  0.0  abnormal  abnormal     present  notpresent   \n",
            "\n",
            "     bgr  ...   pcv     wbcc  rbcc  htn   dm  cad  appet   pe  ane class  \n",
            "0  121.0  ...  44.0   7800.0   5.2  yes  yes   no   good   no   no   ckd  \n",
            "1    NaN  ...  38.0   6000.0   NaN   no   no   no   good   no   no   ckd  \n",
            "2  423.0  ...  31.0   7500.0   NaN   no  yes   no   poor   no  yes   ckd  \n",
            "3  117.0  ...  32.0   6700.0   3.9  yes   no   no   poor  yes  yes   ckd  \n",
            "4  106.0  ...  35.0   7300.0   4.6   no   no   no   good   no   no   ckd  \n",
            "5   74.0  ...  39.0   7800.0   4.4  yes  yes   no   good  yes   no   ckd  \n",
            "6  100.0  ...  36.0      NaN   NaN   no   no   no   good   no   no   ckd  \n",
            "7  410.0  ...  44.0   6900.0   5.0   no  yes   no   good  yes   no   ckd  \n",
            "8  138.0  ...  33.0   9600.0   4.0  yes  yes   no   good   no  yes   ckd  \n",
            "9   70.0  ...  29.0  12100.0   3.7  yes  yes   no   poor   no  yes   ckd  \n",
            "\n",
            "[10 rows x 25 columns]\n"
          ]
        }
      ],
      "source": [
        "blob_client = container_client.get_blob_client(\"chronic_kidney_disease.csv\")\n",
        "\n",
        "# Download blob data\n",
        "downloaded_blob_kidney = blob_client.download_blob()\n",
        "csv_data_kidney = downloaded_blob_kidney.readall()\n",
        "\n",
        "# Convert to pandas DataFrame\n",
        "df_kidneydiseases = pd.read_csv(io.StringIO(csv_data_kidney.decode('utf-8')))\n",
        "print(df_kidneydiseases.head(10))"
      ]
    },
    {
      "cell_type": "code",
      "execution_count": 29,
      "metadata": {
        "colab": {
          "base_uri": "https://localhost:8080/"
        },
        "id": "Sx5Lsy5MM2T_",
        "outputId": "774eeda1-6131-44b3-fdfd-a617f4f5e104"
      },
      "outputs": [
        {
          "name": "stdout",
          "output_type": "stream",
          "text": [
            "age        9\n",
            "bp        12\n",
            "sg        47\n",
            "al        46\n",
            "su        49\n",
            "rbc      152\n",
            "pc        65\n",
            "pcc        4\n",
            "ba         4\n",
            "bgr       44\n",
            "bu        19\n",
            "sc        17\n",
            "sod       87\n",
            "pot       88\n",
            "hemo      52\n",
            "pcv       71\n",
            "wbcc     106\n",
            "rbcc     131\n",
            "htn        2\n",
            "dm         2\n",
            "cad        2\n",
            "appet      1\n",
            "pe         1\n",
            "ane        1\n",
            "class      0\n",
            "dtype: int64\n"
          ]
        }
      ],
      "source": [
        "print(df_kidneydiseases.isna().sum())"
      ]
    },
    {
      "cell_type": "code",
      "execution_count": 30,
      "metadata": {
        "id": "2wuPOoTYmgho"
      },
      "outputs": [],
      "source": [
        "# Filling numerical columns with the mean\n",
        "num_cols = ['age', 'bp', 'sg' , 'al' , 'su' , 'bgr', 'bu', 'sc', 'sod', 'pot', 'hemo', 'pcv', 'wbcc', 'rbcc']\n",
        "df_kidneydiseases[num_cols] = df_kidneydiseases[num_cols].fillna(df_kidneydiseases[num_cols].mean())\n",
        "\n",
        "# Filling categorical columns with the mode (most frequent value)\n",
        "cat_cols = ['rbc', 'pc', 'pcc', 'ba', 'htn', 'dm', 'cad', 'appet', 'pe', 'ane']\n",
        "df_kidneydiseases[cat_cols] = df_kidneydiseases[cat_cols].fillna(df_kidneydiseases[cat_cols].mode().iloc[0])"
      ]
    },
    {
      "cell_type": "code",
      "execution_count": 31,
      "metadata": {
        "colab": {
          "base_uri": "https://localhost:8080/"
        },
        "id": "fLbgSH2mwMZN",
        "outputId": "cbc26d33-51e2-448a-beb7-95506265f5da"
      },
      "outputs": [
        {
          "name": "stdout",
          "output_type": "stream",
          "text": [
            "age      0\n",
            "bp       0\n",
            "sg       0\n",
            "al       0\n",
            "su       0\n",
            "rbc      0\n",
            "pc       0\n",
            "pcc      0\n",
            "ba       0\n",
            "bgr      0\n",
            "bu       0\n",
            "sc       0\n",
            "sod      0\n",
            "pot      0\n",
            "hemo     0\n",
            "pcv      0\n",
            "wbcc     0\n",
            "rbcc     0\n",
            "htn      0\n",
            "dm       0\n",
            "cad      0\n",
            "appet    0\n",
            "pe       0\n",
            "ane      0\n",
            "class    0\n",
            "dtype: int64\n"
          ]
        }
      ],
      "source": [
        "print(df_kidneydiseases.isna().sum())"
      ]
    },
    {
      "cell_type": "code",
      "execution_count": 32,
      "metadata": {
        "colab": {
          "base_uri": "https://localhost:8080/"
        },
        "id": "_9aPRNx7w11V",
        "outputId": "603110d0-2560-412c-9a9e-45c38b19538d"
      },
      "outputs": [
        {
          "name": "stdout",
          "output_type": "stream",
          "text": [
            "pot     13.101157\n",
            "sc       7.673105\n",
            "bu       2.698754\n",
            "su       2.629266\n",
            "bgr      2.130422\n",
            "wbcc     1.888887\n",
            "bp       1.629876\n",
            "al       1.060509\n",
            "sg      -0.183473\n",
            "rbcc    -0.223145\n",
            "hemo    -0.359057\n",
            "pcv     -0.477800\n",
            "age     -0.675848\n",
            "sod     -7.901094\n",
            "dtype: float64\n"
          ]
        }
      ],
      "source": [
        "#checking the skewness\n",
        "df_skew = df_kidneydiseases.select_dtypes(include=['number'])\n",
        "skew_values_kidney = df_skew.skew().sort_values(ascending=False)\n",
        "print(skew_values_kidney)"
      ]
    },
    {
      "cell_type": "code",
      "execution_count": 33,
      "metadata": {
        "colab": {
          "base_uri": "https://localhost:8080/",
          "height": 546
        },
        "id": "iCr_2I8SxM2y",
        "outputId": "11d94f6c-0d1b-4076-da28-52159d2e7f0a"
      },
      "outputs": [
        {
          "data": {
            "image/png": "[encoded data removed]",
            "text/plain": [
              "<Figure size 1200x600 with 1 Axes>"
            ]
          },
          "metadata": {},
          "output_type": "display_data"
        }
      ],
      "source": [
        "plt.figure(figsize=(12, 6))\n",
        "sns.boxplot(data=df_kidneydiseases)\n",
        "plt.xticks(rotation=45)\n",
        "plt.show()"
      ]
    },
    {
      "cell_type": "code",
      "execution_count": 34,
      "metadata": {
        "colab": {
          "base_uri": "https://localhost:8080/"
        },
        "id": "QE6LlWhuyEjT",
        "outputId": "8d6a0b16-2333-4ac8-ff87-db294de48a82"
      },
      "outputs": [
        {
          "name": "stdout",
          "output_type": "stream",
          "text": [
            "age    -0.233243\n",
            "bp     -0.018854\n",
            "sg     -0.032458\n",
            "al      0.248978\n",
            "su      1.105646\n",
            "bgr    -0.134214\n",
            "bu     -0.025444\n",
            "sc      0.100012\n",
            "sod     0.091238\n",
            "pot    -0.395817\n",
            "hemo   -0.058426\n",
            "pcv    -0.050693\n",
            "wbcc    0.036590\n",
            "rbcc    0.070667\n",
            "dtype: float64\n"
          ]
        }
      ],
      "source": [
        "kidney_skewed_cols = ['age', 'bp', 'sg' , 'al' , 'su' , 'bgr', 'bu', 'sc', 'sod', 'pot', 'hemo', 'pcv', 'wbcc', 'rbcc']\n",
        "\n",
        "for col in kidney_skewed_cols:\n",
        "    if (df_kidneydiseases[col] > 0).all():\n",
        "        df_kidneydiseases[col], _ = boxcox(df_kidneydiseases[col])\n",
        "    else:\n",
        "        from sklearn.preprocessing import PowerTransformer\n",
        "        pt = PowerTransformer(method='yeo-johnson')\n",
        "        df_kidneydiseases[col] = pt.fit_transform(df_kidneydiseases[[col]])\n",
        "\n",
        "print(df_kidneydiseases[kidney_skewed_cols].skew())"
      ]
    },
    {
      "cell_type": "code",
      "execution_count": 35,
      "metadata": {
        "colab": {
          "base_uri": "https://localhost:8080/"
        },
        "id": "InT3OOF00L1v",
        "outputId": "bd05dcbc-577b-45e9-8e36-46aec4a52ce9"
      },
      "outputs": [
        {
          "name": "stdout",
          "output_type": "stream",
          "text": [
            "1.0321124188823934\n"
          ]
        }
      ],
      "source": [
        "df_kidneydiseases['su'] = np.log1p(df_kidneydiseases['su'])\n",
        "print(df_kidneydiseases['su'].skew())"
      ]
    },
    {
      "cell_type": "code",
      "execution_count": 36,
      "metadata": {
        "id": "PPdVvAQq2pwm"
      },
      "outputs": [],
      "source": [
        "# cols = ['rbc', 'pc', 'pcc', 'ba', 'htn', 'dm', 'cad', 'appet', 'pe', 'ane'] rbc_normal\n",
        "\n",
        "df_kidneydiseases = pd.get_dummies(df_kidneydiseases, columns=['rbc', 'pc', 'pcc', 'ba', 'htn', 'dm', 'cad', 'appet', 'pe', 'ane'], drop_first=True)"
      ]
    },
    {
      "cell_type": "code",
      "execution_count": 37,
      "metadata": {
        "colab": {
          "base_uri": "https://localhost:8080/"
        },
        "id": "f7H5TVx73ELO",
        "outputId": "e40e124f-4cf1-4d5e-e484-a8bb800482f5"
      },
      "outputs": [
        {
          "name": "stdout",
          "output_type": "stream",
          "text": [
            "age            float64\n",
            "bp             float64\n",
            "sg             float64\n",
            "al             float64\n",
            "su             float64\n",
            "bgr            float64\n",
            "bu             float64\n",
            "sc             float64\n",
            "sod            float64\n",
            "pot            float64\n",
            "hemo           float64\n",
            "pcv            float64\n",
            "wbcc           float64\n",
            "rbcc           float64\n",
            "class           object\n",
            "rbc_normal        bool\n",
            "pc_normal         bool\n",
            "pcc_present       bool\n",
            "ba_present        bool\n",
            "htn_yes           bool\n",
            "dm_no             bool\n",
            "dm_yes            bool\n",
            "cad_yes           bool\n",
            "appet_poor        bool\n",
            "pe_yes            bool\n",
            "ane_yes           bool\n",
            "dtype: object\n"
          ]
        }
      ],
      "source": [
        "print(df_kidneydiseases.dtypes)"
      ]
    },
    {
      "cell_type": "code",
      "execution_count": 38,
      "metadata": {
        "id": "hdSG7Gmz3Kmu"
      },
      "outputs": [],
      "source": [
        "X = df_kidneydiseases.drop(columns=['class'])\n",
        "y = df_kidneydiseases['class']"
      ]
    },
    {
      "cell_type": "code",
      "execution_count": 39,
      "metadata": {
        "id": "igvaAlBb2KDc"
      },
      "outputs": [],
      "source": [
        "from sklearn.model_selection import train_test_split\n",
        "\n",
        "X_train, X_test, y_train, y_test = train_test_split(X, y, test_size=0.25, random_state=42)"
      ]
    },
    {
      "cell_type": "code",
      "execution_count": 40,
      "metadata": {
        "colab": {
          "base_uri": "https://localhost:8080/"
        },
        "id": "y_cSMy8o2TTW",
        "outputId": "2a34d490-ba59-490d-f76b-a49c499f0d7f"
      },
      "outputs": [
        {
          "name": "stdout",
          "output_type": "stream",
          "text": [
            "Logistic Regression Accuracy: 0.65\n"
          ]
        }
      ],
      "source": [
        "# logistic regression\n",
        "from sklearn.linear_model import LogisticRegression\n",
        "from sklearn.metrics import accuracy_score\n",
        "\n",
        "lr_model = LogisticRegression()\n",
        "lr_model.fit(X_train, y_train)\n",
        "\n",
        "y_pred_lr = lr_model.predict(X_test)\n",
        "lr_accuracy = accuracy_score(y_test, y_pred_lr)\n",
        "\n",
        "print(\"Logistic Regression Accuracy:\", lr_accuracy)"
      ]
    },
    {
      "cell_type": "code",
      "execution_count": 41,
      "metadata": {
        "colab": {
          "base_uri": "https://localhost:8080/"
        },
        "id": "S3Mk2jGC2UXV",
        "outputId": "022aabbe-76fb-40ec-e5d0-5f9ba82835fb"
      },
      "outputs": [
        {
          "name": "stdout",
          "output_type": "stream",
          "text": [
            "Decision Tree Accuracy: 0.9800\n"
          ]
        }
      ],
      "source": [
        "# decision trees\n",
        "from sklearn.tree import DecisionTreeClassifier\n",
        "dt = DecisionTreeClassifier(criterion='gini', max_depth=5, random_state=42)\n",
        "dt.fit(X_train, y_train)\n",
        "y_pred_dt = dt.predict(X_test)\n",
        "\n",
        "dt_accuracy = accuracy_score(y_test, y_pred_dt)\n",
        "print(f'Decision Tree Accuracy: {dt_accuracy:.4f}')"
      ]
    },
    {
      "cell_type": "code",
      "execution_count": 42,
      "metadata": {
        "colab": {
          "base_uri": "https://localhost:8080/"
        },
        "id": "tEFfMg2DPu0l",
        "outputId": "0dec024a-b8a3-4ca2-9d8f-d4312aae772f"
      },
      "outputs": [
        {
          "name": "stdout",
          "output_type": "stream",
          "text": [
            "Random Forest Accuracy: 1.0000\n"
          ]
        }
      ],
      "source": [
        "# random forest\n",
        "from sklearn.ensemble import RandomForestClassifier\n",
        "rf = RandomForestClassifier(n_estimators=100, random_state=42)\n",
        "rf.fit(X_train, y_train)\n",
        "y_pred_rf = rf.predict(X_test)\n",
        "\n",
        "rf_accuracy = accuracy_score(y_test, y_pred_rf)\n",
        "print(f'Random Forest Accuracy: {rf_accuracy:.4f}')\n"
      ]
    },
    {
      "cell_type": "code",
      "execution_count": 43,
      "metadata": {
        "colab": {
          "base_uri": "https://localhost:8080/"
        },
        "id": "Oob2ifmNWFBW",
        "outputId": "652f9e85-0be1-4c63-f4e8-1240207b819a"
      },
      "outputs": [
        {
          "name": "stdout",
          "output_type": "stream",
          "text": [
            "SVM Accuracy: 0.7800\n"
          ]
        }
      ],
      "source": [
        "#svm\n",
        "from sklearn.svm import SVC\n",
        "model = SVC()\n",
        "model.fit(X_train, y_train)\n",
        "y_pred = model.predict(X_test)\n",
        "svm_accuracy = accuracy_score(y_test, y_pred)\n",
        "print(f'SVM Accuracy: {svm_accuracy:.4f}')"
      ]
    },
    {
      "cell_type": "code",
      "execution_count": 274,
      "metadata": {
        "colab": {
          "base_uri": "https://localhost:8080/",
          "height": 641
        },
        "id": "LIHNXZOqmDPx",
        "outputId": "c5831f53-a6c1-43f6-dc89-d68ff3cb3b92"
      },
      "outputs": [
        {
          "name": "stderr",
          "output_type": "stream",
          "text": [
            "<ipython-input-274-acdf52f34dbb>:4: FutureWarning: \n",
            "\n",
            "Passing `palette` without assigning `hue` is deprecated and will be removed in v0.14.0. Assign the `x` variable to `hue` and set `legend=False` for the same effect.\n",
            "\n",
            "  sns.barplot(x=models, y=accuracy_scores, palette=['blue', 'green', 'red', 'purple', 'orange'])\n"
          ]
        },
        {
          "data": {
            "image/png": "[encoded data removed]",
            "text/plain": [
              "<Figure size 800x500 with 1 Axes>"
            ]
          },
          "metadata": {},
          "output_type": "display_data"
        }
      ],
      "source": [
        "models = ['Logistic Regression', 'Decision Trees', 'Random Forest', 'Gradient Boosting', 'SVM']\n",
        "accuracy_scores = [lr_accuracy, dt_accuracy, rf_accuracy, gb_accuracy, svm_accuracy]  # Fixing duplicate values\n",
        "plt.figure(figsize=(8, 5))\n",
        "sns.barplot(x=models, y=accuracy_scores, palette=['blue', 'green', 'red', 'purple', 'orange'])\n",
        "\n",
        "plt.ylim(0.4, 1.0)\n",
        "plt.xlabel(\"Models\")\n",
        "plt.ylabel(\"Accuracy Score\")\n",
        "plt.title(\"Comparison of Model Accuracy Scores\")\n",
        "plt.xticks(rotation=20)\n",
        "\n",
        "plt.show()"
      ]
    },
    {
      "cell_type": "markdown",
      "metadata": {
        "id": "pFFTM2sGlHmf"
      },
      "source": [
        "## Diabetes"
      ]
    },
    {
      "cell_type": "markdown",
      "metadata": {
        "id": "nn5dc7lRAfNL"
      },
      "source": [
        "### Dropping this dataset since the entire weight column has nan values"
      ]
    },
    {
      "cell_type": "code",
      "execution_count": 44,
      "metadata": {
        "colab": {
          "base_uri": "https://localhost:8080/"
        },
        "id": "3-04uzjZlJt5",
        "outputId": "82d65663-f1f4-4bda-9c52-c7a24d09dd62"
      },
      "outputs": [
        {
          "name": "stderr",
          "output_type": "stream",
          "text": [
            "<ipython-input-44-3f21665fbad6>:8: DtypeWarning: Columns (10) have mixed types. Specify dtype option on import or set low_memory=False.\n",
            "  df_diabetes = pd.read_csv(io.StringIO(csv_data_diabetes.decode('utf-8')))\n"
          ]
        },
        {
          "name": "stdout",
          "output_type": "stream",
          "text": [
            "   encounter_id  patient_nbr             race  gender       age weight  \\\n",
            "0       2278392      8222157        Caucasian  Female    [0-10)    NaN   \n",
            "1        149190     55629189        Caucasian  Female   [10-20)    NaN   \n",
            "2         64410     86047875  AfricanAmerican  Female   [20-30)    NaN   \n",
            "3        500364     82442376        Caucasian    Male   [30-40)    NaN   \n",
            "4         16680     42519267        Caucasian    Male   [40-50)    NaN   \n",
            "5         35754     82637451        Caucasian    Male   [50-60)    NaN   \n",
            "6         55842     84259809        Caucasian    Male   [60-70)    NaN   \n",
            "7         63768    114882984        Caucasian    Male   [70-80)    NaN   \n",
            "8         12522     48330783        Caucasian  Female   [80-90)    NaN   \n",
            "9         15738     63555939        Caucasian  Female  [90-100)    NaN   \n",
            "\n",
            "   admission_type_id  discharge_disposition_id  admission_source_id  \\\n",
            "0                  6                        25                    1   \n",
            "1                  1                         1                    7   \n",
            "2                  1                         1                    7   \n",
            "3                  1                         1                    7   \n",
            "4                  1                         1                    7   \n",
            "5                  2                         1                    2   \n",
            "6                  3                         1                    2   \n",
            "7                  1                         1                    7   \n",
            "8                  2                         1                    4   \n",
            "9                  3                         3                    4   \n",
            "\n",
            "   time_in_hospital  ... citoglipton insulin  glyburide-metformin  \\\n",
            "0                 1  ...          No      No                   No   \n",
            "1                 3  ...          No      Up                   No   \n",
            "2                 2  ...          No      No                   No   \n",
            "3                 2  ...          No      Up                   No   \n",
            "4                 1  ...          No  Steady                   No   \n",
            "5                 3  ...          No  Steady                   No   \n",
            "6                 4  ...          No  Steady                   No   \n",
            "7                 5  ...          No      No                   No   \n",
            "8                13  ...          No  Steady                   No   \n",
            "9                12  ...          No  Steady                   No   \n",
            "\n",
            "   glipizide-metformin  glimepiride-pioglitazone  metformin-rosiglitazone  \\\n",
            "0                   No                        No                       No   \n",
            "1                   No                        No                       No   \n",
            "2                   No                        No                       No   \n",
            "3                   No                        No                       No   \n",
            "4                   No                        No                       No   \n",
            "5                   No                        No                       No   \n",
            "6                   No                        No                       No   \n",
            "7                   No                        No                       No   \n",
            "8                   No                        No                       No   \n",
            "9                   No                        No                       No   \n",
            "\n",
            "   metformin-pioglitazone  change diabetesMed readmitted  \n",
            "0                      No      No          No         NO  \n",
            "1                      No      Ch         Yes        >30  \n",
            "2                      No      No         Yes         NO  \n",
            "3                      No      Ch         Yes         NO  \n",
            "4                      No      Ch         Yes         NO  \n",
            "5                      No      No         Yes        >30  \n",
            "6                      No      Ch         Yes         NO  \n",
            "7                      No      No         Yes        >30  \n",
            "8                      No      Ch         Yes         NO  \n",
            "9                      No      Ch         Yes         NO  \n",
            "\n",
            "[10 rows x 50 columns]\n"
          ]
        }
      ],
      "source": [
        "# blob_client = container_client.get_blob_client(\"diabetes_usa.csv\")\n",
        "\n",
        "# # Download blob data\n",
        "# downloaded_blob_diabetes = blob_client.download_blob()\n",
        "# csv_data_diabetes = downloaded_blob_diabetes.readall()\n",
        "\n",
        "# # Convert to pandas DataFrame\n",
        "# df_diabetes = pd.read_csv(io.StringIO(csv_data_diabetes.decode('utf-8')))\n",
        "# print(df_diabetes.head(10))"
      ]
    },
    {
      "cell_type": "code",
      "execution_count": 45,
      "metadata": {
        "colab": {
          "base_uri": "https://localhost:8080/"
        },
        "id": "WJhu72lN5i-7",
        "outputId": "3005090a-938f-4417-bdc7-205798e0c6a3"
      },
      "outputs": [
        {
          "name": "stdout",
          "output_type": "stream",
          "text": [
            "encounter_id                    0\n",
            "patient_nbr                     0\n",
            "race                         2273\n",
            "gender                          0\n",
            "age                             0\n",
            "weight                      98569\n",
            "admission_type_id               0\n",
            "discharge_disposition_id        0\n",
            "admission_source_id             0\n",
            "time_in_hospital                0\n",
            "payer_code                  40256\n",
            "medical_specialty           49949\n",
            "num_lab_procedures              0\n",
            "num_procedures                  0\n",
            "num_medications                 0\n",
            "number_outpatient               0\n",
            "number_emergency                0\n",
            "number_inpatient                0\n",
            "diag_1                         21\n",
            "diag_2                        358\n",
            "diag_3                       1423\n",
            "number_diagnoses                0\n",
            "max_glu_serum               96420\n",
            "A1Cresult                   84748\n",
            "metformin                       0\n",
            "repaglinide                     0\n",
            "nateglinide                     0\n",
            "chlorpropamide                  0\n",
            "glimepiride                     0\n",
            "acetohexamide                   0\n",
            "glipizide                       0\n",
            "glyburide                       0\n",
            "tolbutamide                     0\n",
            "pioglitazone                    0\n",
            "rosiglitazone                   0\n",
            "acarbose                        0\n",
            "miglitol                        0\n",
            "troglitazone                    0\n",
            "tolazamide                      0\n",
            "examide                         0\n",
            "citoglipton                     0\n",
            "insulin                         0\n",
            "glyburide-metformin             0\n",
            "glipizide-metformin             0\n",
            "glimepiride-pioglitazone        0\n",
            "metformin-rosiglitazone         0\n",
            "metformin-pioglitazone          0\n",
            "change                          0\n",
            "diabetesMed                     0\n",
            "readmitted                      0\n",
            "dtype: int64\n"
          ]
        }
      ],
      "source": [
        "# print(df_diabetes.isna().sum())"
      ]
    },
    {
      "cell_type": "code",
      "execution_count": 46,
      "metadata": {
        "colab": {
          "base_uri": "https://localhost:8080/"
        },
        "id": "1XGCPy977Y2f",
        "outputId": "d5b6d85e-2489-493b-9df0-4e13b60d985b"
      },
      "outputs": [
        {
          "name": "stderr",
          "output_type": "stream",
          "text": [
            "<ipython-input-46-5b66b93572c1>:1: FutureWarning: A value is trying to be set on a copy of a DataFrame or Series through chained assignment using an inplace method.\n",
            "The behavior will change in pandas 3.0. This inplace method will never work because the intermediate object on which we are setting values always behaves as a copy.\n",
            "\n",
            "For example, when doing 'df[col].method(value, inplace=True)', try using 'df.method({col: value}, inplace=True)' or df[col] = df[col].method(value) instead, to perform the operation inplace on the original object.\n",
            "\n",
            "\n",
            "  df_diabetes['race'].fillna(df_diabetes['race'].mode()[0], inplace=True)\n",
            "<ipython-input-46-5b66b93572c1>:2: FutureWarning: A value is trying to be set on a copy of a DataFrame or Series through chained assignment using an inplace method.\n",
            "The behavior will change in pandas 3.0. This inplace method will never work because the intermediate object on which we are setting values always behaves as a copy.\n",
            "\n",
            "For example, when doing 'df[col].method(value, inplace=True)', try using 'df.method({col: value}, inplace=True)' or df[col] = df[col].method(value) instead, to perform the operation inplace on the original object.\n",
            "\n",
            "\n",
            "  df_diabetes['medical_specialty'].fillna('Unknown', inplace=True)\n"
          ]
        }
      ],
      "source": [
        "# df_diabetes['race'].fillna(df_diabetes['race'].mode()[0], inplace=True)\n",
        "# df_diabetes['medical_specialty'].fillna('Unknown', inplace=True)"
      ]
    },
    {
      "cell_type": "code",
      "execution_count": 50,
      "metadata": {
        "colab": {
          "base_uri": "https://localhost:8080/"
        },
        "id": "FV0aohvj9jcP",
        "outputId": "8da23778-93ad-4f7b-a431-0c8c89c7d8b1"
      },
      "outputs": [
        {
          "name": "stderr",
          "output_type": "stream",
          "text": [
            "<ipython-input-50-5141bc9107b4>:2: FutureWarning: A value is trying to be set on a copy of a DataFrame or Series through chained assignment using an inplace method.\n",
            "The behavior will change in pandas 3.0. This inplace method will never work because the intermediate object on which we are setting values always behaves as a copy.\n",
            "\n",
            "For example, when doing 'df[col].method(value, inplace=True)', try using 'df.method({col: value}, inplace=True)' or df[col] = df[col].method(value) instead, to perform the operation inplace on the original object.\n",
            "\n",
            "\n",
            "  df_diabetes['weight'].fillna(df_diabetes['weight'].median(), inplace=True)\n"
          ]
        }
      ],
      "source": [
        "# df_diabetes['weight'] = pd.to_numeric(df_diabetes['weight'], errors='coerce')\n",
        "# df_diabetes['weight'].fillna(df_diabetes['weight'].median(), inplace=True)"
      ]
    },
    {
      "cell_type": "code",
      "execution_count": 53,
      "metadata": {
        "colab": {
          "base_uri": "https://localhost:8080/"
        },
        "id": "ORfipbo29mV_",
        "outputId": "34de1dbd-6b56-4d0f-ab51-8dbb26bf2048"
      },
      "outputs": [
        {
          "name": "stderr",
          "output_type": "stream",
          "text": [
            "<ipython-input-53-1c06207439e5>:2: FutureWarning: A value is trying to be set on a copy of a DataFrame or Series through chained assignment using an inplace method.\n",
            "The behavior will change in pandas 3.0. This inplace method will never work because the intermediate object on which we are setting values always behaves as a copy.\n",
            "\n",
            "For example, when doing 'df[col].method(value, inplace=True)', try using 'df.method({col: value}, inplace=True)' or df[col] = df[col].method(value) instead, to perform the operation inplace on the original object.\n",
            "\n",
            "\n",
            "  df_diabetes['max_glu_serum'].fillna(df_diabetes['max_glu_serum'].median(), inplace=True)\n"
          ]
        }
      ],
      "source": [
        "# df_diabetes['max_glu_serum'] = pd.to_numeric(df_diabetes['max_glu_serum'], errors='coerce')\n",
        "# df_diabetes['max_glu_serum'].fillna(df_diabetes['max_glu_serum'].median(), inplace=True)"
      ]
    },
    {
      "cell_type": "code",
      "execution_count": 54,
      "metadata": {
        "colab": {
          "base_uri": "https://localhost:8080/"
        },
        "id": "lQALj68j9rcK",
        "outputId": "044ec0b3-1c2d-4386-a88d-36dd0ca7cfba"
      },
      "outputs": [
        {
          "name": "stderr",
          "output_type": "stream",
          "text": [
            "<ipython-input-54-c3ddc8131b2a>:2: FutureWarning: A value is trying to be set on a copy of a DataFrame or Series through chained assignment using an inplace method.\n",
            "The behavior will change in pandas 3.0. This inplace method will never work because the intermediate object on which we are setting values always behaves as a copy.\n",
            "\n",
            "For example, when doing 'df[col].method(value, inplace=True)', try using 'df.method({col: value}, inplace=True)' or df[col] = df[col].method(value) instead, to perform the operation inplace on the original object.\n",
            "\n",
            "\n",
            "  df_diabetes['A1Cresult'].fillna(df_diabetes['A1Cresult'].median(), inplace=True)\n"
          ]
        }
      ],
      "source": [
        "# df_diabetes['A1Cresult'] = pd.to_numeric(df_diabetes['A1Cresult'], errors='coerce')\n",
        "# df_diabetes['A1Cresult'].fillna(df_diabetes['A1Cresult'].median(), inplace=True)"
      ]
    },
    {
      "cell_type": "code",
      "execution_count": 55,
      "metadata": {
        "colab": {
          "base_uri": "https://localhost:8080/"
        },
        "id": "szDEnoEc8ZMy",
        "outputId": "1915e961-144c-4de6-d5a7-2906f603b89f"
      },
      "outputs": [
        {
          "name": "stderr",
          "output_type": "stream",
          "text": [
            "<ipython-input-55-419a652f3db9>:1: FutureWarning: A value is trying to be set on a copy of a DataFrame or Series through chained assignment using an inplace method.\n",
            "The behavior will change in pandas 3.0. This inplace method will never work because the intermediate object on which we are setting values always behaves as a copy.\n",
            "\n",
            "For example, when doing 'df[col].method(value, inplace=True)', try using 'df.method({col: value}, inplace=True)' or df[col] = df[col].method(value) instead, to perform the operation inplace on the original object.\n",
            "\n",
            "\n",
            "  df_diabetes['weight'].fillna(df_diabetes['weight'].median(), inplace=True)\n",
            "<ipython-input-55-419a652f3db9>:2: FutureWarning: A value is trying to be set on a copy of a DataFrame or Series through chained assignment using an inplace method.\n",
            "The behavior will change in pandas 3.0. This inplace method will never work because the intermediate object on which we are setting values always behaves as a copy.\n",
            "\n",
            "For example, when doing 'df[col].method(value, inplace=True)', try using 'df.method({col: value}, inplace=True)' or df[col] = df[col].method(value) instead, to perform the operation inplace on the original object.\n",
            "\n",
            "\n",
            "  df_diabetes['max_glu_serum'].fillna(df_diabetes['max_glu_serum'].median(), inplace=True)\n",
            "<ipython-input-55-419a652f3db9>:3: FutureWarning: A value is trying to be set on a copy of a DataFrame or Series through chained assignment using an inplace method.\n",
            "The behavior will change in pandas 3.0. This inplace method will never work because the intermediate object on which we are setting values always behaves as a copy.\n",
            "\n",
            "For example, when doing 'df[col].method(value, inplace=True)', try using 'df.method({col: value}, inplace=True)' or df[col] = df[col].method(value) instead, to perform the operation inplace on the original object.\n",
            "\n",
            "\n",
            "  df_diabetes['A1Cresult'].fillna(df_diabetes['A1Cresult'].median(), inplace=True)\n"
          ]
        }
      ],
      "source": [
        "# df_diabetes['weight'].fillna(df_diabetes['weight'].median(), inplace=True)\n",
        "# df_diabetes['max_glu_serum'].fillna(df_diabetes['max_glu_serum'].median(), inplace=True)\n",
        "# df_diabetes['A1Cresult'].fillna(df_diabetes['A1Cresult'].median(), inplace=True)"
      ]
    },
    {
      "cell_type": "code",
      "execution_count": 56,
      "metadata": {
        "id": "XqZoja9i93YL"
      },
      "outputs": [],
      "source": [
        "# df_diabetes = pd.get_dummies(df_diabetes, columns=['race', 'age', 'insulin'], drop_first=True)"
      ]
    },
    {
      "cell_type": "code",
      "execution_count": 57,
      "metadata": {
        "colab": {
          "base_uri": "https://localhost:8080/"
        },
        "id": "14YeuVej99kf",
        "outputId": "937f7a63-bb50-432e-d25d-168e79c3e587"
      },
      "outputs": [
        {
          "name": "stderr",
          "output_type": "stream",
          "text": [
            "/usr/local/lib/python3.11/dist-packages/sklearn/utils/extmath.py:1101: RuntimeWarning: invalid value encountered in divide\n",
            "  updated_mean = (last_sum + new_sum) / updated_sample_count\n",
            "/usr/local/lib/python3.11/dist-packages/sklearn/utils/extmath.py:1106: RuntimeWarning: invalid value encountered in divide\n",
            "  T = new_sum / new_sample_count\n",
            "/usr/local/lib/python3.11/dist-packages/sklearn/utils/extmath.py:1126: RuntimeWarning: invalid value encountered in divide\n",
            "  new_unnormalized_variance -= correction**2 / new_sample_count\n"
          ]
        }
      ],
      "source": [
        "# from sklearn.preprocessing import StandardScaler\n",
        "\n",
        "# scaler = StandardScaler()\n",
        "# num_cols = ['weight', 'admission_type_id', 'discharge_disposition_id', 'admission_source_id',\n",
        "#             'time_in_hospital', 'num_lab_procedures', 'num_procedures',\n",
        "#             'num_medications', 'number_outpatient', 'number_emergency',\n",
        "#             'number_inpatient', 'number_diagnoses', 'max_glu_serum', 'A1Cresult']\n",
        "\n",
        "# df_diabetes[num_cols] = scaler.fit_transform(df_diabetes[num_cols])"
      ]
    },
    {
      "cell_type": "code",
      "execution_count": 59,
      "metadata": {
        "colab": {
          "base_uri": "https://localhost:8080/"
        },
        "id": "__AHGuEP-FsA",
        "outputId": "30009e98-f0fb-4ed1-d116-a937dca636f7"
      },
      "outputs": [
        {
          "name": "stdout",
          "output_type": "stream",
          "text": [
            "encounter_id              0\n",
            "patient_nbr               0\n",
            "gender                    0\n",
            "weight               101766\n",
            "admission_type_id         0\n",
            "                      ...  \n",
            "age_[80-90)               0\n",
            "age_[90-100)              0\n",
            "insulin_No                0\n",
            "insulin_Steady            0\n",
            "insulin_Up                0\n",
            "Length: 63, dtype: int64\n"
          ]
        }
      ],
      "source": [
        "# print(df_diabetes.isna().sum())  # No missing values should remain"
      ]
    },
    {
      "cell_type": "code",
      "execution_count": 60,
      "metadata": {
        "colab": {
          "base_uri": "https://localhost:8080/"
        },
        "id": "_g696NdQ-ZRc",
        "outputId": "1905572d-2064-441c-ca1e-84ed4df24c47"
      },
      "outputs": [
        {
          "name": "stdout",
          "output_type": "stream",
          "text": [
            "[nan]\n",
            "float64\n"
          ]
        }
      ],
      "source": [
        "# print(df_diabetes['weight'].unique())\n",
        "# print(df_diabetes['weight'].dtype)"
      ]
    },
    {
      "cell_type": "code",
      "execution_count": 62,
      "metadata": {
        "id": "LtT1okc0-32N"
      },
      "outputs": [],
      "source": [
        "# #df_diabetes.shape\n",
        "# df_diabetes.drop(columns=['weight'],inplace=True)"
      ]
    },
    {
      "cell_type": "code",
      "execution_count": null,
      "metadata": {
        "id": "ZnW33Q_J_Gjo"
      },
      "outputs": [],
      "source": []
    },
    {
      "cell_type": "markdown",
      "metadata": {
        "id": "ajwBeQa0AntJ"
      },
      "source": [
        "## Using this dataset instead"
      ]
    },
    {
      "cell_type": "code",
      "execution_count": 103,
      "metadata": {
        "colab": {
          "base_uri": "https://localhost:8080/"
        },
        "id": "k4R7q1yi8ciq",
        "outputId": "e4d0f977-0bd3-4348-87b2-8f73eedf6e70"
      },
      "outputs": [
        {
          "name": "stdout",
          "output_type": "stream",
          "text": [
            "   age gender polyuria polydipsia sudden_weight_loss weakness polyphagia  \\\n",
            "0   40   Male       No        Yes                 No      Yes         No   \n",
            "1   58   Male       No         No                 No      Yes         No   \n",
            "2   41   Male      Yes         No                 No      Yes        Yes   \n",
            "3   45   Male       No         No                Yes      Yes        Yes   \n",
            "4   60   Male      Yes        Yes                Yes      Yes        Yes   \n",
            "5   55   Male      Yes        Yes                 No      Yes        Yes   \n",
            "6   57   Male      Yes        Yes                 No      Yes        Yes   \n",
            "7   66   Male      Yes        Yes                Yes      Yes         No   \n",
            "8   67   Male      Yes        Yes                 No      Yes        Yes   \n",
            "9   70   Male       No        Yes                Yes      Yes        Yes   \n",
            "\n",
            "  genital_thrush visual_blurring itching irritability delayed_healing  \\\n",
            "0             No              No     Yes           No             Yes   \n",
            "1             No             Yes      No           No              No   \n",
            "2             No              No     Yes           No             Yes   \n",
            "3            Yes              No     Yes           No             Yes   \n",
            "4             No             Yes     Yes          Yes             Yes   \n",
            "5             No             Yes     Yes           No             Yes   \n",
            "6            Yes              No      No           No             Yes   \n",
            "7             No             Yes     Yes          Yes              No   \n",
            "8            Yes              No     Yes          Yes              No   \n",
            "9             No             Yes     Yes          Yes              No   \n",
            "\n",
            "  partial_paresis muscle_stiffness alopecia obesity     class  \n",
            "0              No              Yes      Yes     Yes  Positive  \n",
            "1             Yes               No      Yes      No  Positive  \n",
            "2              No              Yes      Yes      No  Positive  \n",
            "3              No               No       No      No  Positive  \n",
            "4             Yes              Yes      Yes     Yes  Positive  \n",
            "5              No              Yes      Yes     Yes  Positive  \n",
            "6             Yes               No       No      No  Positive  \n",
            "7             Yes              Yes       No      No  Positive  \n",
            "8             Yes              Yes       No     Yes  Positive  \n",
            "9              No               No      Yes      No  Positive  \n"
          ]
        }
      ],
      "source": [
        "blob_client = container_client.get_blob_client(\"early_diabetes.csv\")\n",
        "\n",
        "# Download blob data\n",
        "downloaded_blob_diabetes_early = blob_client.download_blob()\n",
        "csv_data_diabetes_early = downloaded_blob_diabetes_early.readall()\n",
        "\n",
        "# Convert to pandas DataFrame\n",
        "df_diabetes_early = pd.read_csv(io.StringIO(csv_data_diabetes_early.decode('utf-8')))\n",
        "print(df_diabetes_early.head(10))"
      ]
    },
    {
      "cell_type": "code",
      "execution_count": 104,
      "metadata": {
        "colab": {
          "base_uri": "https://localhost:8080/"
        },
        "id": "tlk7k2M383sG",
        "outputId": "6889de42-f700-46ba-f0f4-e04d1b9d44cc"
      },
      "outputs": [
        {
          "name": "stdout",
          "output_type": "stream",
          "text": [
            "age                   0\n",
            "gender                0\n",
            "polyuria              0\n",
            "polydipsia            0\n",
            "sudden_weight_loss    0\n",
            "weakness              0\n",
            "polyphagia            0\n",
            "genital_thrush        0\n",
            "visual_blurring       0\n",
            "itching               0\n",
            "irritability          0\n",
            "delayed_healing       0\n",
            "partial_paresis       0\n",
            "muscle_stiffness      0\n",
            "alopecia              0\n",
            "obesity               0\n",
            "class                 0\n",
            "dtype: int64\n"
          ]
        }
      ],
      "source": [
        "print(df_diabetes_early.isna().sum())"
      ]
    },
    {
      "cell_type": "code",
      "execution_count": 105,
      "metadata": {
        "id": "WgdvCJbJ86SP"
      },
      "outputs": [],
      "source": [
        "df_diabetes_early = pd.get_dummies(df_diabetes_early, drop_first=True).astype(int)"
      ]
    },
    {
      "cell_type": "code",
      "execution_count": 107,
      "metadata": {
        "id": "S7VPShmfEbqJ"
      },
      "outputs": [],
      "source": [
        "df_diabetes_early.columns = df_diabetes_early.columns.str.replace('_Yes', '')\n",
        "df_diabetes_early.columns = df_diabetes_early.columns.str.replace('_Male', '')\n",
        "df_diabetes_early.columns = df_diabetes_early.columns.str.replace('_Positive', '')"
      ]
    },
    {
      "cell_type": "code",
      "execution_count": 108,
      "metadata": {
        "colab": {
          "base_uri": "https://localhost:8080/",
          "height": 226
        },
        "id": "jP3BK2zhCo1K",
        "outputId": "64e8839a-99f5-4d20-955e-b7dd73ffe7de"
      },
      "outputs": [
        {
          "data": {
            "application/vnd.google.colaboratory.intrinsic+json": {
              "summary": "{\n  \"name\": \"df_diabetes_early\",\n  \"rows\": 520,\n  \"fields\": [\n    {\n      \"column\": \"age\",\n      \"properties\": {\n        \"dtype\": \"number\",\n        \"std\": 12,\n        \"min\": 16,\n        \"max\": 90,\n        \"num_unique_values\": 51,\n        \"samples\": [\n          79,\n          90,\n          33\n        ],\n        \"semantic_type\": \"\",\n        \"description\": \"\"\n      }\n    },\n    {\n      \"column\": \"gender\",\n      \"properties\": {\n        \"dtype\": \"number\",\n        \"std\": 0,\n        \"min\": 0,\n        \"max\": 1,\n        \"num_unique_values\": 2,\n        \"samples\": [\n          0,\n          1\n        ],\n        \"semantic_type\": \"\",\n        \"description\": \"\"\n      }\n    },\n    {\n      \"column\": \"polyuria\",\n      \"properties\": {\n        \"dtype\": \"number\",\n        \"std\": 0,\n        \"min\": 0,\n        \"max\": 1,\n        \"num_unique_values\": 2,\n        \"samples\": [\n          1,\n          0\n        ],\n        \"semantic_type\": \"\",\n        \"description\": \"\"\n      }\n    },\n    {\n      \"column\": \"polydipsia\",\n      \"properties\": {\n        \"dtype\": \"number\",\n        \"std\": 0,\n        \"min\": 0,\n        \"max\": 1,\n        \"num_unique_values\": 2,\n        \"samples\": [\n          0,\n          1\n        ],\n        \"semantic_type\": \"\",\n        \"description\": \"\"\n      }\n    },\n    {\n      \"column\": \"sudden_weight_loss\",\n      \"properties\": {\n        \"dtype\": \"number\",\n        \"std\": 0,\n        \"min\": 0,\n        \"max\": 1,\n        \"num_unique_values\": 2,\n        \"samples\": [\n          1,\n          0\n        ],\n        \"semantic_type\": \"\",\n        \"description\": \"\"\n      }\n    },\n    {\n      \"column\": \"weakness\",\n      \"properties\": {\n        \"dtype\": \"number\",\n        \"std\": 0,\n        \"min\": 0,\n        \"max\": 1,\n        \"num_unique_values\": 2,\n        \"samples\": [\n          0,\n          1\n        ],\n        \"semantic_type\": \"\",\n        \"description\": \"\"\n      }\n    },\n    {\n      \"column\": \"polyphagia\",\n      \"properties\": {\n        \"dtype\": \"number\",\n        \"std\": 0,\n        \"min\": 0,\n        \"max\": 1,\n        \"num_unique_values\": 2,\n        \"samples\": [\n          1,\n          0\n        ],\n        \"semantic_type\": \"\",\n        \"description\": \"\"\n      }\n    },\n    {\n      \"column\": \"genital_thrush\",\n      \"properties\": {\n        \"dtype\": \"number\",\n        \"std\": 0,\n        \"min\": 0,\n        \"max\": 1,\n        \"num_unique_values\": 2,\n        \"samples\": [\n          1,\n          0\n        ],\n        \"semantic_type\": \"\",\n        \"description\": \"\"\n      }\n    },\n    {\n      \"column\": \"visual_blurring\",\n      \"properties\": {\n        \"dtype\": \"number\",\n        \"std\": 0,\n        \"min\": 0,\n        \"max\": 1,\n        \"num_unique_values\": 2,\n        \"samples\": [\n          1,\n          0\n        ],\n        \"semantic_type\": \"\",\n        \"description\": \"\"\n      }\n    },\n    {\n      \"column\": \"itching\",\n      \"properties\": {\n        \"dtype\": \"number\",\n        \"std\": 0,\n        \"min\": 0,\n        \"max\": 1,\n        \"num_unique_values\": 2,\n        \"samples\": [\n          0,\n          1\n        ],\n        \"semantic_type\": \"\",\n        \"description\": \"\"\n      }\n    },\n    {\n      \"column\": \"irritability\",\n      \"properties\": {\n        \"dtype\": \"number\",\n        \"std\": 0,\n        \"min\": 0,\n        \"max\": 1,\n        \"num_unique_values\": 2,\n        \"samples\": [\n          1,\n          0\n        ],\n        \"semantic_type\": \"\",\n        \"description\": \"\"\n      }\n    },\n    {\n      \"column\": \"delayed_healing\",\n      \"properties\": {\n        \"dtype\": \"number\",\n        \"std\": 0,\n        \"min\": 0,\n        \"max\": 1,\n        \"num_unique_values\": 2,\n        \"samples\": [\n          0,\n          1\n        ],\n        \"semantic_type\": \"\",\n        \"description\": \"\"\n      }\n    },\n    {\n      \"column\": \"partial_paresis\",\n      \"properties\": {\n        \"dtype\": \"number\",\n        \"std\": 0,\n        \"min\": 0,\n        \"max\": 1,\n        \"num_unique_values\": 2,\n        \"samples\": [\n          1,\n          0\n        ],\n        \"semantic_type\": \"\",\n        \"description\": \"\"\n      }\n    },\n    {\n      \"column\": \"muscle_stiffness\",\n      \"properties\": {\n        \"dtype\": \"number\",\n        \"std\": 0,\n        \"min\": 0,\n        \"max\": 1,\n        \"num_unique_values\": 2,\n        \"samples\": [\n          0,\n          1\n        ],\n        \"semantic_type\": \"\",\n        \"description\": \"\"\n      }\n    },\n    {\n      \"column\": \"alopecia\",\n      \"properties\": {\n        \"dtype\": \"number\",\n        \"std\": 0,\n        \"min\": 0,\n        \"max\": 1,\n        \"num_unique_values\": 2,\n        \"samples\": [\n          0,\n          1\n        ],\n        \"semantic_type\": \"\",\n        \"description\": \"\"\n      }\n    },\n    {\n      \"column\": \"obesity\",\n      \"properties\": {\n        \"dtype\": \"number\",\n        \"std\": 0,\n        \"min\": 0,\n        \"max\": 1,\n        \"num_unique_values\": 2,\n        \"samples\": [\n          0,\n          1\n        ],\n        \"semantic_type\": \"\",\n        \"description\": \"\"\n      }\n    },\n    {\n      \"column\": \"class\",\n      \"properties\": {\n        \"dtype\": \"number\",\n        \"std\": 0,\n        \"min\": 0,\n        \"max\": 1,\n        \"num_unique_values\": 2,\n        \"samples\": [\n          0,\n          1\n        ],\n        \"semantic_type\": \"\",\n        \"description\": \"\"\n      }\n    }\n  ]\n}",
              "type": "dataframe",
              "variable_name": "df_diabetes_early"
            },
            "text/html": [
              "\n",
              "  <div id=\"df-bd02f3dc-73cf-4512-8580-4c0b8960ee21\" class=\"colab-df-container\">\n",
              "    <div>\n",
              "<style scoped>\n",
              "    .dataframe tbody tr th:only-of-type {\n",
              "        vertical-align: middle;\n",
              "    }\n",
              "\n",
              "    .dataframe tbody tr th {\n",
              "        vertical-align: top;\n",
              "    }\n",
              "\n",
              "    .dataframe thead th {\n",
              "        text-align: right;\n",
              "    }\n",
              "</style>\n",
              "<table border=\"1\" class=\"dataframe\">\n",
              "  <thead>\n",
              "    <tr style=\"text-align: right;\">\n",
              "      <th></th>\n",
              "      <th>age</th>\n",
              "      <th>gender</th>\n",
              "      <th>polyuria</th>\n",
              "      <th>polydipsia</th>\n",
              "      <th>sudden_weight_loss</th>\n",
              "      <th>weakness</th>\n",
              "      <th>polyphagia</th>\n",
              "      <th>genital_thrush</th>\n",
              "      <th>visual_blurring</th>\n",
              "      <th>itching</th>\n",
              "      <th>irritability</th>\n",
              "      <th>delayed_healing</th>\n",
              "      <th>partial_paresis</th>\n",
              "      <th>muscle_stiffness</th>\n",
              "      <th>alopecia</th>\n",
              "      <th>obesity</th>\n",
              "      <th>class</th>\n",
              "    </tr>\n",
              "  </thead>\n",
              "  <tbody>\n",
              "    <tr>\n",
              "      <th>0</th>\n",
              "      <td>40</td>\n",
              "      <td>1</td>\n",
              "      <td>0</td>\n",
              "      <td>1</td>\n",
              "      <td>0</td>\n",
              "      <td>1</td>\n",
              "      <td>0</td>\n",
              "      <td>0</td>\n",
              "      <td>0</td>\n",
              "      <td>1</td>\n",
              "      <td>0</td>\n",
              "      <td>1</td>\n",
              "      <td>0</td>\n",
              "      <td>1</td>\n",
              "      <td>1</td>\n",
              "      <td>1</td>\n",
              "      <td>1</td>\n",
              "    </tr>\n",
              "    <tr>\n",
              "      <th>1</th>\n",
              "      <td>58</td>\n",
              "      <td>1</td>\n",
              "      <td>0</td>\n",
              "      <td>0</td>\n",
              "      <td>0</td>\n",
              "      <td>1</td>\n",
              "      <td>0</td>\n",
              "      <td>0</td>\n",
              "      <td>1</td>\n",
              "      <td>0</td>\n",
              "      <td>0</td>\n",
              "      <td>0</td>\n",
              "      <td>1</td>\n",
              "      <td>0</td>\n",
              "      <td>1</td>\n",
              "      <td>0</td>\n",
              "      <td>1</td>\n",
              "    </tr>\n",
              "    <tr>\n",
              "      <th>2</th>\n",
              "      <td>41</td>\n",
              "      <td>1</td>\n",
              "      <td>1</td>\n",
              "      <td>0</td>\n",
              "      <td>0</td>\n",
              "      <td>1</td>\n",
              "      <td>1</td>\n",
              "      <td>0</td>\n",
              "      <td>0</td>\n",
              "      <td>1</td>\n",
              "      <td>0</td>\n",
              "      <td>1</td>\n",
              "      <td>0</td>\n",
              "      <td>1</td>\n",
              "      <td>1</td>\n",
              "      <td>0</td>\n",
              "      <td>1</td>\n",
              "    </tr>\n",
              "    <tr>\n",
              "      <th>3</th>\n",
              "      <td>45</td>\n",
              "      <td>1</td>\n",
              "      <td>0</td>\n",
              "      <td>0</td>\n",
              "      <td>1</td>\n",
              "      <td>1</td>\n",
              "      <td>1</td>\n",
              "      <td>1</td>\n",
              "      <td>0</td>\n",
              "      <td>1</td>\n",
              "      <td>0</td>\n",
              "      <td>1</td>\n",
              "      <td>0</td>\n",
              "      <td>0</td>\n",
              "      <td>0</td>\n",
              "      <td>0</td>\n",
              "      <td>1</td>\n",
              "    </tr>\n",
              "    <tr>\n",
              "      <th>4</th>\n",
              "      <td>60</td>\n",
              "      <td>1</td>\n",
              "      <td>1</td>\n",
              "      <td>1</td>\n",
              "      <td>1</td>\n",
              "      <td>1</td>\n",
              "      <td>1</td>\n",
              "      <td>0</td>\n",
              "      <td>1</td>\n",
              "      <td>1</td>\n",
              "      <td>1</td>\n",
              "      <td>1</td>\n",
              "      <td>1</td>\n",
              "      <td>1</td>\n",
              "      <td>1</td>\n",
              "      <td>1</td>\n",
              "      <td>1</td>\n",
              "    </tr>\n",
              "  </tbody>\n",
              "</table>\n",
              "</div>\n",
              "    <div class=\"colab-df-buttons\">\n",
              "\n",
              "  <div class=\"colab-df-container\">\n",
              "    <button class=\"colab-df-convert\" onclick=\"convertToInteractive('df-bd02f3dc-73cf-4512-8580-4c0b8960ee21')\"\n",
              "            title=\"Convert this dataframe to an interactive table.\"\n",
              "            style=\"display:none;\">\n",
              "\n",
              "  <svg xmlns=\"http://www.w3.org/2000/svg\" height=\"24px\" viewBox=\"0 -960 960 960\">\n",
              "    <path d=\"M120-120v-720h720v720H120Zm60-500h600v-160H180v160Zm220 220h160v-160H400v160Zm0 220h160v-160H400v160ZM180-400h160v-160H180v160Zm440 0h160v-160H620v160ZM180-180h160v-160H180v160Zm440 0h160v-160H620v160Z\"/>\n",
              "  </svg>\n",
              "    </button>\n",
              "\n",
              "  <style>\n",
              "    .colab-df-container {\n",
              "      display:flex;\n",
              "      gap: 12px;\n",
              "    }\n",
              "\n",
              "    .colab-df-convert {\n",
              "      background-color: #E8F0FE;\n",
              "      border: none;\n",
              "      border-radius: 50%;\n",
              "      cursor: pointer;\n",
              "      display: none;\n",
              "      fill: #1967D2;\n",
              "      height: 32px;\n",
              "      padding: 0 0 0 0;\n",
              "      width: 32px;\n",
              "    }\n",
              "\n",
              "    .colab-df-convert:hover {\n",
              "      background-color: #E2EBFA;\n",
              "      box-shadow: 0px 1px 2px rgba(60, 64, 67, 0.3), 0px 1px 3px 1px rgba(60, 64, 67, 0.15);\n",
              "      fill: #174EA6;\n",
              "    }\n",
              "\n",
              "    .colab-df-buttons div {\n",
              "      margin-bottom: 4px;\n",
              "    }\n",
              "\n",
              "    [theme=dark] .colab-df-convert {\n",
              "      background-color: #3B4455;\n",
              "      fill: #D2E3FC;\n",
              "    }\n",
              "\n",
              "    [theme=dark] .colab-df-convert:hover {\n",
              "      background-color: #434B5C;\n",
              "      box-shadow: 0px 1px 3px 1px rgba(0, 0, 0, 0.15);\n",
              "      filter: drop-shadow(0px 1px 2px rgba(0, 0, 0, 0.3));\n",
              "      fill: #FFFFFF;\n",
              "    }\n",
              "  </style>\n",
              "\n",
              "    <script>\n",
              "      const buttonEl =\n",
              "        document.querySelector('#df-bd02f3dc-73cf-4512-8580-4c0b8960ee21 button.colab-df-convert');\n",
              "      buttonEl.style.display =\n",
              "        google.colab.kernel.accessAllowed ? 'block' : 'none';\n",
              "\n",
              "      async function convertToInteractive(key) {\n",
              "        const element = document.querySelector('#df-bd02f3dc-73cf-4512-8580-4c0b8960ee21');\n",
              "        const dataTable =\n",
              "          await google.colab.kernel.invokeFunction('convertToInteractive',\n",
              "                                                    [key], {});\n",
              "        if (!dataTable) return;\n",
              "\n",
              "        const docLinkHtml = 'Like what you see? Visit the ' +\n",
              "          '<a target=\"_blank\" href=https://colab.research.google.com/notebooks/data_table.ipynb>data table notebook</a>'\n",
              "          + ' to learn more about interactive tables.';\n",
              "        element.innerHTML = '';\n",
              "        dataTable['output_type'] = 'display_data';\n",
              "        await google.colab.output.renderOutput(dataTable, element);\n",
              "        const docLink = document.createElement('div');\n",
              "        docLink.innerHTML = docLinkHtml;\n",
              "        element.appendChild(docLink);\n",
              "      }\n",
              "    </script>\n",
              "  </div>\n",
              "\n",
              "\n",
              "<div id=\"df-4678f528-b390-4f1c-bcce-32bcbe67776e\">\n",
              "  <button class=\"colab-df-quickchart\" onclick=\"quickchart('df-4678f528-b390-4f1c-bcce-32bcbe67776e')\"\n",
              "            title=\"Suggest charts\"\n",
              "            style=\"display:none;\">\n",
              "\n",
              "<svg xmlns=\"http://www.w3.org/2000/svg\" height=\"24px\"viewBox=\"0 0 24 24\"\n",
              "     width=\"24px\">\n",
              "    <g>\n",
              "        <path d=\"M19 3H5c-1.1 0-2 .9-2 2v14c0 1.1.9 2 2 2h14c1.1 0 2-.9 2-2V5c0-1.1-.9-2-2-2zM9 17H7v-7h2v7zm4 0h-2V7h2v10zm4 0h-2v-4h2v4z\"/>\n",
              "    </g>\n",
              "</svg>\n",
              "  </button>\n",
              "\n",
              "<style>\n",
              "  .colab-df-quickchart {\n",
              "      --bg-color: #E8F0FE;\n",
              "      --fill-color: #1967D2;\n",
              "      --hover-bg-color: #E2EBFA;\n",
              "      --hover-fill-color: #174EA6;\n",
              "      --disabled-fill-color: #AAA;\n",
              "      --disabled-bg-color: #DDD;\n",
              "  }\n",
              "\n",
              "  [theme=dark] .colab-df-quickchart {\n",
              "      --bg-color: #3B4455;\n",
              "      --fill-color: #D2E3FC;\n",
              "      --hover-bg-color: #434B5C;\n",
              "      --hover-fill-color: #FFFFFF;\n",
              "      --disabled-bg-color: #3B4455;\n",
              "      --disabled-fill-color: #666;\n",
              "  }\n",
              "\n",
              "  .colab-df-quickchart {\n",
              "    background-color: var(--bg-color);\n",
              "    border: none;\n",
              "    border-radius: 50%;\n",
              "    cursor: pointer;\n",
              "    display: none;\n",
              "    fill: var(--fill-color);\n",
              "    height: 32px;\n",
              "    padding: 0;\n",
              "    width: 32px;\n",
              "  }\n",
              "\n",
              "  .colab-df-quickchart:hover {\n",
              "    background-color: var(--hover-bg-color);\n",
              "    box-shadow: 0 1px 2px rgba(60, 64, 67, 0.3), 0 1px 3px 1px rgba(60, 64, 67, 0.15);\n",
              "    fill: var(--button-hover-fill-color);\n",
              "  }\n",
              "\n",
              "  .colab-df-quickchart-complete:disabled,\n",
              "  .colab-df-quickchart-complete:disabled:hover {\n",
              "    background-color: var(--disabled-bg-color);\n",
              "    fill: var(--disabled-fill-color);\n",
              "    box-shadow: none;\n",
              "  }\n",
              "\n",
              "  .colab-df-spinner {\n",
              "    border: 2px solid var(--fill-color);\n",
              "    border-color: transparent;\n",
              "    border-bottom-color: var(--fill-color);\n",
              "    animation:\n",
              "      spin 1s steps(1) infinite;\n",
              "  }\n",
              "\n",
              "  @keyframes spin {\n",
              "    0% {\n",
              "      border-color: transparent;\n",
              "      border-bottom-color: var(--fill-color);\n",
              "      border-left-color: var(--fill-color);\n",
              "    }\n",
              "    20% {\n",
              "      border-color: transparent;\n",
              "      border-left-color: var(--fill-color);\n",
              "      border-top-color: var(--fill-color);\n",
              "    }\n",
              "    30% {\n",
              "      border-color: transparent;\n",
              "      border-left-color: var(--fill-color);\n",
              "      border-top-color: var(--fill-color);\n",
              "      border-right-color: var(--fill-color);\n",
              "    }\n",
              "    40% {\n",
              "      border-color: transparent;\n",
              "      border-right-color: var(--fill-color);\n",
              "      border-top-color: var(--fill-color);\n",
              "    }\n",
              "    60% {\n",
              "      border-color: transparent;\n",
              "      border-right-color: var(--fill-color);\n",
              "    }\n",
              "    80% {\n",
              "      border-color: transparent;\n",
              "      border-right-color: var(--fill-color);\n",
              "      border-bottom-color: var(--fill-color);\n",
              "    }\n",
              "    90% {\n",
              "      border-color: transparent;\n",
              "      border-bottom-color: var(--fill-color);\n",
              "    }\n",
              "  }\n",
              "</style>\n",
              "\n",
              "  <script>\n",
              "    async function quickchart(key) {\n",
              "      const quickchartButtonEl =\n",
              "        document.querySelector('#' + key + ' button');\n",
              "      quickchartButtonEl.disabled = true;  // To prevent multiple clicks.\n",
              "      quickchartButtonEl.classList.add('colab-df-spinner');\n",
              "      try {\n",
              "        const charts = await google.colab.kernel.invokeFunction(\n",
              "            'suggestCharts', [key], {});\n",
              "      } catch (error) {\n",
              "        console.error('Error during call to suggestCharts:', error);\n",
              "      }\n",
              "      quickchartButtonEl.classList.remove('colab-df-spinner');\n",
              "      quickchartButtonEl.classList.add('colab-df-quickchart-complete');\n",
              "    }\n",
              "    (() => {\n",
              "      let quickchartButtonEl =\n",
              "        document.querySelector('#df-4678f528-b390-4f1c-bcce-32bcbe67776e button');\n",
              "      quickchartButtonEl.style.display =\n",
              "        google.colab.kernel.accessAllowed ? 'block' : 'none';\n",
              "    })();\n",
              "  </script>\n",
              "</div>\n",
              "\n",
              "    </div>\n",
              "  </div>\n"
            ],
            "text/plain": [
              "   age  gender  polyuria  polydipsia  sudden_weight_loss  weakness  \\\n",
              "0   40       1         0           1                   0         1   \n",
              "1   58       1         0           0                   0         1   \n",
              "2   41       1         1           0                   0         1   \n",
              "3   45       1         0           0                   1         1   \n",
              "4   60       1         1           1                   1         1   \n",
              "\n",
              "   polyphagia  genital_thrush  visual_blurring  itching  irritability  \\\n",
              "0           0               0                0        1             0   \n",
              "1           0               0                1        0             0   \n",
              "2           1               0                0        1             0   \n",
              "3           1               1                0        1             0   \n",
              "4           1               0                1        1             1   \n",
              "\n",
              "   delayed_healing  partial_paresis  muscle_stiffness  alopecia  obesity  \\\n",
              "0                1                0                 1         1        1   \n",
              "1                0                1                 0         1        0   \n",
              "2                1                0                 1         1        0   \n",
              "3                1                0                 0         0        0   \n",
              "4                1                1                 1         1        1   \n",
              "\n",
              "   class  \n",
              "0      1  \n",
              "1      1  \n",
              "2      1  \n",
              "3      1  \n",
              "4      1  "
            ]
          },
          "execution_count": 108,
          "metadata": {},
          "output_type": "execute_result"
        }
      ],
      "source": [
        "df_diabetes_early.head()"
      ]
    },
    {
      "cell_type": "code",
      "execution_count": 112,
      "metadata": {
        "colab": {
          "base_uri": "https://localhost:8080/"
        },
        "id": "wbUX9BvgFKif",
        "outputId": "4d209a4e-99ad-4cf3-a452-3ae539060dc1"
      },
      "outputs": [
        {
          "name": "stdout",
          "output_type": "stream",
          "text": [
            "obesity               1.769420\n",
            "genital_thrush        1.334223\n",
            "irritability          1.206305\n",
            "alopecia              0.657608\n",
            "muscle_stiffness      0.517893\n",
            "sudden_weight_loss    0.336359\n",
            "age                   0.329359\n",
            "partial_paresis       0.280426\n",
            "visual_blurring       0.209426\n",
            "polydipsia            0.209426\n",
            "polyphagia            0.178134\n",
            "delayed_healing       0.162537\n",
            "itching               0.054022\n",
            "polyuria              0.015430\n",
            "weakness             -0.352476\n",
            "class                -0.475715\n",
            "gender               -0.543509\n",
            "dtype: float64\n"
          ]
        }
      ],
      "source": [
        "df_skew = df_diabetes_early.select_dtypes(include=['number'])\n",
        "skew_values_diabetes = df_skew.skew().sort_values(ascending=False)\n",
        "print(skew_values_diabetes)"
      ]
    },
    {
      "cell_type": "code",
      "execution_count": 113,
      "metadata": {
        "colab": {
          "base_uri": "https://localhost:8080/",
          "height": 616
        },
        "id": "JG9e0QhVFX7N",
        "outputId": "6f190111-9ab8-45e0-ba45-ecddf351b451"
      },
      "outputs": [
        {
          "data": {
            "image/png": "[encoded data removed]",
            "text/plain": [
              "<Figure size 1200x600 with 1 Axes>"
            ]
          },
          "metadata": {},
          "output_type": "display_data"
        }
      ],
      "source": [
        "plt.figure(figsize=(12, 6))\n",
        "sns.boxplot(data=df_diabetes_early)\n",
        "plt.xticks(rotation=45)\n",
        "plt.show()"
      ]
    },
    {
      "cell_type": "code",
      "execution_count": null,
      "metadata": {
        "id": "vyRcM-PdFhxM"
      },
      "outputs": [],
      "source": []
    },
    {
      "cell_type": "code",
      "execution_count": 109,
      "metadata": {
        "id": "unbD5wWMBOjP"
      },
      "outputs": [],
      "source": [
        "# performing train/test split\n",
        "\n",
        "X = df_diabetes_early.drop(columns=['class'])\n",
        "y = df_diabetes_early['class']\n",
        "\n",
        "X_train, X_test, y_train, y_test = train_test_split(X, y, test_size=0.2, random_state=42)"
      ]
    },
    {
      "cell_type": "code",
      "execution_count": 110,
      "metadata": {
        "id": "vBV9alc6BcZM"
      },
      "outputs": [],
      "source": [
        "from sklearn.preprocessing import StandardScaler\n",
        "\n",
        "scaler = StandardScaler()\n",
        "X_train['age'] = scaler.fit_transform(X_train[['age']])\n",
        "X_test['age'] = scaler.transform(X_test[['age']])"
      ]
    },
    {
      "cell_type": "code",
      "execution_count": 111,
      "metadata": {
        "colab": {
          "base_uri": "https://localhost:8080/"
        },
        "id": "Bn5QtrINBmTD",
        "outputId": "2a630739-1eec-4ef4-e80a-dcf58c927e58"
      },
      "outputs": [
        {
          "name": "stdout",
          "output_type": "stream",
          "text": [
            "Logistic Regression Accuracy: 0.9231\n"
          ]
        }
      ],
      "source": [
        "# training with LR\n",
        "LR = LogisticRegression()\n",
        "LR.fit(X_train, y_train)\n",
        "\n",
        "y_pred = LR.predict(X_test)\n",
        "lr_accuracy = accuracy_score(y_test, y_pred)\n",
        "print(f'Logistic Regression Accuracy: {lr_accuracy:.4f}')"
      ]
    },
    {
      "cell_type": "code",
      "execution_count": 114,
      "metadata": {
        "colab": {
          "base_uri": "https://localhost:8080/"
        },
        "id": "05TwVlFHEnl3",
        "outputId": "0c9a5a7d-e991-4a0f-c97e-a29108f37656"
      },
      "outputs": [
        {
          "name": "stdout",
          "output_type": "stream",
          "text": [
            "Decision Tree Accuracy: 0.9519\n"
          ]
        }
      ],
      "source": [
        "DT = DecisionTreeClassifier(criterion='gini', max_depth=5, random_state=42)\n",
        "DT.fit(X_train, y_train)\n",
        "y_pred_dt = DT.predict(X_test)\n",
        "\n",
        "dt_accuracy = accuracy_score(y_test, y_pred_dt)\n",
        "print(f'Decision Tree Accuracy: {dt_accuracy:.4f}')"
      ]
    },
    {
      "cell_type": "code",
      "execution_count": 115,
      "metadata": {
        "colab": {
          "base_uri": "https://localhost:8080/"
        },
        "id": "19139I89Fx8I",
        "outputId": "ce4e3817-8d55-45a0-a9f2-ff1c55ffc3ac"
      },
      "outputs": [
        {
          "name": "stdout",
          "output_type": "stream",
          "text": [
            "Random Forest Accuracy: 0.9904\n"
          ]
        }
      ],
      "source": [
        "RF = RandomForestClassifier(n_estimators=100, random_state=42)\n",
        "RF.fit(X_train, y_train)\n",
        "y_pred = RF.predict(X_test)\n",
        "\n",
        "rf_accuracy = accuracy_score(y_test, y_pred)\n",
        "print(f'Random Forest Accuracy: {rf_accuracy:.4f}')"
      ]
    },
    {
      "cell_type": "code",
      "execution_count": 117,
      "metadata": {
        "colab": {
          "base_uri": "https://localhost:8080/"
        },
        "id": "rk2vsK7nF-Bw",
        "outputId": "427936d1-f8b6-4b90-cb4d-e9c0d23091fc"
      },
      "outputs": [
        {
          "name": "stdout",
          "output_type": "stream",
          "text": [
            "Gradient Boosting Accuracy: 0.9712\n"
          ]
        }
      ],
      "source": [
        "gb = GradientBoostingClassifier(n_estimators=100, learning_rate=0.1, max_depth=3, random_state=42)\n",
        "gb.fit(X_train, y_train)\n",
        "\n",
        "y_pred_gb = gb.predict(X_test)\n",
        "gb_accuracy = accuracy_score(y_test, y_pred_gb)\n",
        "print(f'Gradient Boosting Accuracy: {gb_accuracy:.4f}')"
      ]
    },
    {
      "cell_type": "code",
      "execution_count": 118,
      "metadata": {
        "colab": {
          "base_uri": "https://localhost:8080/"
        },
        "id": "-fk4oe9nF3WZ",
        "outputId": "0cdad2dc-9d73-4319-b30b-2ef1b52480a9"
      },
      "outputs": [
        {
          "name": "stdout",
          "output_type": "stream",
          "text": [
            "SVM Accuracy: 0.9712\n"
          ]
        }
      ],
      "source": [
        "svm_model = SVC()\n",
        "svm_model.fit(X_train, y_train)\n",
        "y_pred = svm_model.predict(X_test)\n",
        "svm_accuracy = accuracy_score(y_test, y_pred)\n",
        "print(f'SVM Accuracy: {svm_accuracy:.4f}')"
      ]
    },
    {
      "cell_type": "code",
      "execution_count": 273,
      "metadata": {
        "colab": {
          "base_uri": "https://localhost:8080/",
          "height": 641
        },
        "id": "nuec9b6ymJev",
        "outputId": "862880e5-53cd-4ccc-90c7-32eb2bfcbcb1"
      },
      "outputs": [
        {
          "name": "stderr",
          "output_type": "stream",
          "text": [
            "<ipython-input-273-acdf52f34dbb>:4: FutureWarning: \n",
            "\n",
            "Passing `palette` without assigning `hue` is deprecated and will be removed in v0.14.0. Assign the `x` variable to `hue` and set `legend=False` for the same effect.\n",
            "\n",
            "  sns.barplot(x=models, y=accuracy_scores, palette=['blue', 'green', 'red', 'purple', 'orange'])\n"
          ]
        },
        {
          "data": {
            "image/png": "[encoded data removed]",
            "text/plain": [
              "<Figure size 800x500 with 1 Axes>"
            ]
          },
          "metadata": {},
          "output_type": "display_data"
        }
      ],
      "source": [
        "models = ['Logistic Regression', 'Decision Trees', 'Random Forest', 'Gradient Boosting', 'SVM']\n",
        "accuracy_scores = [lr_accuracy, dt_accuracy, rf_accuracy, gb_accuracy, svm_accuracy]  # Fixing duplicate values\n",
        "plt.figure(figsize=(8, 5))\n",
        "sns.barplot(x=models, y=accuracy_scores, palette=['blue', 'green', 'red', 'purple', 'orange'])\n",
        "\n",
        "plt.ylim(0.4, 1.0)\n",
        "plt.xlabel(\"Models\")\n",
        "plt.ylabel(\"Accuracy Score\")\n",
        "plt.title(\"Comparison of Model Accuracy Scores\")\n",
        "plt.xticks(rotation=20)\n",
        "\n",
        "plt.show()"
      ]
    },
    {
      "cell_type": "markdown",
      "metadata": {
        "id": "VIQQBUNUGvaf"
      },
      "source": [
        "## Heart Disease"
      ]
    },
    {
      "cell_type": "code",
      "execution_count": 120,
      "metadata": {
        "colab": {
          "base_uri": "https://localhost:8080/"
        },
        "id": "Z3rDP0LPF8Lw",
        "outputId": "e3f9910b-1766-44d4-94fc-e82397674b69"
      },
      "outputs": [
        {
          "name": "stdout",
          "output_type": "stream",
          "text": [
            "    age  sex  chest-pain  rest-bp  serum-chol  fasting-blood-sugar  \\\n",
            "0  70.0  1.0         4.0    130.0       322.0                  0.0   \n",
            "1  67.0  0.0         3.0    115.0       564.0                  0.0   \n",
            "2  57.0  1.0         2.0    124.0       261.0                  0.0   \n",
            "3  64.0  1.0         4.0    128.0       263.0                  0.0   \n",
            "4  74.0  0.0         2.0    120.0       269.0                  0.0   \n",
            "5  65.0  1.0         4.0    120.0       177.0                  0.0   \n",
            "6  56.0  1.0         3.0    130.0       256.0                  1.0   \n",
            "7  59.0  1.0         4.0    110.0       239.0                  0.0   \n",
            "8  60.0  1.0         4.0    140.0       293.0                  0.0   \n",
            "9  63.0  0.0         4.0    150.0       407.0                  0.0   \n",
            "\n",
            "   electrocardiographic  max-heart-rate  angina  oldpeak  slope  \\\n",
            "0                   2.0           109.0     0.0      2.4    2.0   \n",
            "1                   2.0           160.0     0.0      1.6    2.0   \n",
            "2                   0.0           141.0     0.0      0.3    1.0   \n",
            "3                   0.0           105.0     1.0      0.2    2.0   \n",
            "4                   2.0           121.0     1.0      0.2    1.0   \n",
            "5                   0.0           140.0     0.0      0.4    1.0   \n",
            "6                   2.0           142.0     1.0      0.6    2.0   \n",
            "7                   2.0           142.0     1.0      1.2    2.0   \n",
            "8                   2.0           170.0     0.0      1.2    2.0   \n",
            "9                   2.0           154.0     0.0      4.0    2.0   \n",
            "\n",
            "   major-vessels  thal  heart-disease  \n",
            "0            3.0   3.0              2  \n",
            "1            0.0   7.0              1  \n",
            "2            0.0   7.0              2  \n",
            "3            1.0   7.0              1  \n",
            "4            1.0   3.0              1  \n",
            "5            0.0   7.0              1  \n",
            "6            1.0   6.0              2  \n",
            "7            1.0   7.0              2  \n",
            "8            2.0   7.0              2  \n",
            "9            3.0   7.0              2  \n"
          ]
        }
      ],
      "source": [
        "blob_client = container_client.get_blob_client(\"heart_disease.csv\")\n",
        "\n",
        "# Download blob data\n",
        "downloaded_blob_heart = blob_client.download_blob()\n",
        "csv_data_heart = downloaded_blob_heart.readall()\n",
        "\n",
        "# Convert to pandas DataFrame\n",
        "df_heart = pd.read_csv(io.StringIO(csv_data_heart.decode('utf-8')))\n",
        "print(df_heart.head(10))"
      ]
    },
    {
      "cell_type": "code",
      "execution_count": 122,
      "metadata": {
        "colab": {
          "base_uri": "https://localhost:8080/"
        },
        "id": "ScCXuFTqHh4R",
        "outputId": "46b809e8-e390-4b96-fed5-7d6b60351924"
      },
      "outputs": [
        {
          "name": "stdout",
          "output_type": "stream",
          "text": [
            "age                     0\n",
            "sex                     0\n",
            "chest-pain              0\n",
            "rest-bp                 0\n",
            "serum-chol              0\n",
            "fasting-blood-sugar     0\n",
            "electrocardiographic    0\n",
            "max-heart-rate          0\n",
            "angina                  0\n",
            "oldpeak                 0\n",
            "slope                   0\n",
            "major-vessels           0\n",
            "thal                    0\n",
            "heart-disease           0\n",
            "dtype: int64\n"
          ]
        }
      ],
      "source": [
        "print(df_heart.isna().sum())"
      ]
    },
    {
      "cell_type": "code",
      "execution_count": 123,
      "metadata": {
        "colab": {
          "base_uri": "https://localhost:8080/"
        },
        "id": "mPOpy0V6J87F",
        "outputId": "45501f16-0bd9-4c1f-80ee-ac851e33ca82"
      },
      "outputs": [
        {
          "name": "stdout",
          "output_type": "stream",
          "text": [
            "fasting-blood-sugar     1.991971\n",
            "oldpeak                 1.262893\n",
            "major-vessels           1.209890\n",
            "serum-chol              1.183721\n",
            "angina                  0.728915\n",
            "rest-bp                 0.722618\n",
            "slope                   0.543151\n",
            "thal                    0.287268\n",
            "heart-disease           0.224858\n",
            "electrocardiographic   -0.044703\n",
            "age                    -0.163615\n",
            "max-heart-rate         -0.527737\n",
            "sex                    -0.765084\n",
            "chest-pain             -0.878767\n",
            "dtype: float64\n"
          ]
        }
      ],
      "source": [
        "df_skew = df_heart.select_dtypes(include=['number'])\n",
        "skew_values_heart = df_skew.skew().sort_values(ascending=False)\n",
        "print(skew_values_heart)"
      ]
    },
    {
      "cell_type": "code",
      "execution_count": 129,
      "metadata": {
        "colab": {
          "base_uri": "https://localhost:8080/",
          "height": 620
        },
        "id": "V6rikvjBMsY6",
        "outputId": "1908d807-540c-4bf1-dad9-1206767e08d3"
      },
      "outputs": [
        {
          "data": {
            "image/png": "[encoded data removed]",
            "text/plain": [
              "<Figure size 1200x600 with 1 Axes>"
            ]
          },
          "metadata": {},
          "output_type": "display_data"
        }
      ],
      "source": [
        "plt.figure(figsize=(12, 6))\n",
        "sns.boxplot(data=df_heart)\n",
        "plt.xticks(rotation=45)\n",
        "plt.show()"
      ]
    },
    {
      "cell_type": "code",
      "execution_count": 127,
      "metadata": {
        "id": "t5L6igCAMuO0"
      },
      "outputs": [],
      "source": [
        "df_heart['fasting-blood-sugar'] = np.log1p(df_heart['fasting-blood-sugar'])\n",
        "df_heart['oldpeak'] = np.log1p(df_heart['oldpeak'])\n",
        "df_heart['major-vessels'] = np.log1p(df_heart['major-vessels'])\n",
        "df_heart['serum-chol'] = np.log1p(df_heart['serum-chol'])\n",
        "\n",
        "# Square root transformation for moderately skewed features\n",
        "df_heart['angina'] = np.sqrt(df_heart['angina'])\n",
        "df_heart['rest-bp'] = np.sqrt(df_heart['rest-bp'])\n",
        "df_heart['slope'] = np.sqrt(df_heart['slope'])\n",
        "\n",
        "# Power transformation for negatively skewed features\n",
        "df_heart['sex'] = np.power(df_heart['sex'], 2)\n",
        "df_heart['chest-pain'] = np.power(df_heart['chest-pain'], 2)\n",
        "df_heart['max-heart-rate'] = np.power(df_heart['max-heart-rate'], 2)"
      ]
    },
    {
      "cell_type": "code",
      "execution_count": 132,
      "metadata": {
        "id": "sZ3WLxY7NpK6"
      },
      "outputs": [],
      "source": [
        "# Splitting data into features (X) and target (y)\n",
        "X = df_heart.drop(columns=['heart-disease'])\n",
        "y = df_heart['heart-disease']\n",
        "X_train, X_test, y_train, y_test = train_test_split(X, y, test_size=0.2, random_state=42, stratify=y)"
      ]
    },
    {
      "cell_type": "code",
      "execution_count": 133,
      "metadata": {
        "id": "IbX9LA7PTFzV"
      },
      "outputs": [],
      "source": [
        "# Standardize numerical features\n",
        "scaler = StandardScaler()\n",
        "X_train = scaler.fit_transform(X_train)\n",
        "X_test = scaler.transform(X_test)"
      ]
    },
    {
      "cell_type": "code",
      "execution_count": 134,
      "metadata": {
        "colab": {
          "base_uri": "https://localhost:8080/"
        },
        "id": "IG2RoF6xTLDb",
        "outputId": "6867b6f5-e778-43f2-942f-28b46bd479e3"
      },
      "outputs": [
        {
          "name": "stdout",
          "output_type": "stream",
          "text": [
            "Logistic Regression Accuracy: 0.8519\n"
          ]
        }
      ],
      "source": [
        "#lr\n",
        "LR = LogisticRegression()\n",
        "LR.fit(X_train, y_train)\n",
        "\n",
        "y_pred = LR.predict(X_test)\n",
        "lr_accuracy = accuracy_score(y_test, y_pred)\n",
        "print(f'Logistic Regression Accuracy: {lr_accuracy:.4f}')"
      ]
    },
    {
      "cell_type": "code",
      "execution_count": 148,
      "metadata": {
        "colab": {
          "base_uri": "https://localhost:8080/"
        },
        "id": "eUvRstASTeVO",
        "outputId": "7fdf8d49-a78d-4f00-a40e-0f742b52d76f"
      },
      "outputs": [
        {
          "name": "stdout",
          "output_type": "stream",
          "text": [
            "Decision Tree Accuracy: 0.7963\n"
          ]
        }
      ],
      "source": [
        "#decision trees\n",
        "DT = DecisionTreeClassifier(criterion='gini', max_depth=8, random_state=42)\n",
        "DT.fit(X_train, y_train)\n",
        "y_pred_dt = DT.predict(X_test)\n",
        "\n",
        "dt_accuracy = accuracy_score(y_test, y_pred_dt)\n",
        "print(f'Decision Tree Accuracy: {dt_accuracy:.4f}')"
      ]
    },
    {
      "cell_type": "code",
      "execution_count": 149,
      "metadata": {
        "colab": {
          "base_uri": "https://localhost:8080/"
        },
        "id": "18I6hOhhTlXp",
        "outputId": "f3308a77-0cc1-4164-e76b-8f9638f7b26d"
      },
      "outputs": [
        {
          "name": "stdout",
          "output_type": "stream",
          "text": [
            "Random Forest Accuracy: 0.8148\n"
          ]
        }
      ],
      "source": [
        "#rf\n",
        "RF = RandomForestClassifier(n_estimators=100, random_state=42)\n",
        "RF.fit(X_train, y_train)\n",
        "y_pred = RF.predict(X_test)\n",
        "\n",
        "rf_accuracy = accuracy_score(y_test, y_pred)\n",
        "print(f'Random Forest Accuracy: {rf_accuracy:.4f}')"
      ]
    },
    {
      "cell_type": "code",
      "execution_count": 155,
      "metadata": {
        "colab": {
          "base_uri": "https://localhost:8080/"
        },
        "id": "3wGzH3ERT6i4",
        "outputId": "15a9b40a-4476-4077-ce05-69404a215430"
      },
      "outputs": [
        {
          "name": "stdout",
          "output_type": "stream",
          "text": [
            "Gradient Boosting Accuracy: 0.8333\n"
          ]
        }
      ],
      "source": [
        "#gb\n",
        "gb = GradientBoostingClassifier(n_estimators=100, learning_rate=0.5, max_depth=6, random_state=42)\n",
        "gb.fit(X_train, y_train)\n",
        "\n",
        "y_pred_gb = gb.predict(X_test)\n",
        "gb_accuracy = accuracy_score(y_test, y_pred_gb)\n",
        "print(f'Gradient Boosting Accuracy: {gb_accuracy:.4f}')"
      ]
    },
    {
      "cell_type": "code",
      "execution_count": 156,
      "metadata": {
        "colab": {
          "base_uri": "https://localhost:8080/"
        },
        "id": "SoeQJ2rrUEME",
        "outputId": "af7f8dd0-e902-4d5a-88bd-9a9cc2b61609"
      },
      "outputs": [
        {
          "name": "stdout",
          "output_type": "stream",
          "text": [
            "SVM Accuracy: 0.8148\n"
          ]
        }
      ],
      "source": [
        "#svm\n",
        "svm_model = SVC()\n",
        "svm_model.fit(X_train, y_train)\n",
        "y_pred = svm_model.predict(X_test)\n",
        "svm_accuracy = accuracy_score(y_test, y_pred)\n",
        "print(f'SVM Accuracy: {svm_accuracy:.4f}')"
      ]
    },
    {
      "cell_type": "code",
      "execution_count": 275,
      "metadata": {
        "colab": {
          "base_uri": "https://localhost:8080/",
          "height": 641
        },
        "id": "HtZi9zngmVaI",
        "outputId": "eb83d7b8-c7c4-46fc-be5d-02c50dcb514a"
      },
      "outputs": [
        {
          "name": "stderr",
          "output_type": "stream",
          "text": [
            "<ipython-input-275-acdf52f34dbb>:4: FutureWarning: \n",
            "\n",
            "Passing `palette` without assigning `hue` is deprecated and will be removed in v0.14.0. Assign the `x` variable to `hue` and set `legend=False` for the same effect.\n",
            "\n",
            "  sns.barplot(x=models, y=accuracy_scores, palette=['blue', 'green', 'red', 'purple', 'orange'])\n"
          ]
        },
        {
          "data": {
            "image/png": "[encoded data removed]",
            "text/plain": [
              "<Figure size 800x500 with 1 Axes>"
            ]
          },
          "metadata": {},
          "output_type": "display_data"
        }
      ],
      "source": [
        "models = ['Logistic Regression', 'Decision Trees', 'Random Forest', 'Gradient Boosting', 'SVM']\n",
        "accuracy_scores = [lr_accuracy, dt_accuracy, rf_accuracy, gb_accuracy, svm_accuracy]  # Fixing duplicate values\n",
        "plt.figure(figsize=(8, 5))\n",
        "sns.barplot(x=models, y=accuracy_scores, palette=['blue', 'green', 'red', 'purple', 'orange'])\n",
        "\n",
        "plt.ylim(0.4, 1.0)\n",
        "plt.xlabel(\"Models\")\n",
        "plt.ylabel(\"Accuracy Score\")\n",
        "plt.title(\"Comparison of Model Accuracy Scores\")\n",
        "plt.xticks(rotation=20)\n",
        "\n",
        "plt.show()"
      ]
    },
    {
      "cell_type": "markdown",
      "metadata": {
        "id": "8iMBPivVUPCs"
      },
      "source": [
        "##Liver"
      ]
    },
    {
      "cell_type": "code",
      "execution_count": 158,
      "metadata": {
        "colab": {
          "base_uri": "https://localhost:8080/"
        },
        "id": "9Wqe7u-HUShy",
        "outputId": "8babef68-4383-4525-ceb5-3184dc4cb49b"
      },
      "outputs": [
        {
          "name": "stdout",
          "output_type": "stream",
          "text": [
            "   Class  Age  Sex  Steroid  Antivirals  Fatigue  Malaise  Anorexia  \\\n",
            "0      2   30    2      1.0           2      2.0      2.0       2.0   \n",
            "1      2   50    1      1.0           2      1.0      2.0       2.0   \n",
            "2      2   78    1      2.0           2      1.0      2.0       2.0   \n",
            "3      2   31    1      NaN           1      2.0      2.0       2.0   \n",
            "4      2   34    1      2.0           2      2.0      2.0       2.0   \n",
            "5      2   34    1      2.0           2      2.0      2.0       2.0   \n",
            "6      1   51    1      1.0           2      1.0      2.0       1.0   \n",
            "7      2   23    1      2.0           2      2.0      2.0       2.0   \n",
            "8      2   39    1      2.0           2      1.0      2.0       2.0   \n",
            "9      2   30    1      2.0           2      2.0      2.0       2.0   \n",
            "\n",
            "   Liver Big  Liver Firm  Spleen Palpable  Spiders  Ascites  Varices  \\\n",
            "0        1.0         2.0              2.0      2.0      2.0      2.0   \n",
            "1        1.0         2.0              2.0      2.0      2.0      2.0   \n",
            "2        2.0         2.0              2.0      2.0      2.0      2.0   \n",
            "3        2.0         2.0              2.0      2.0      2.0      2.0   \n",
            "4        2.0         2.0              2.0      2.0      2.0      2.0   \n",
            "5        2.0         2.0              2.0      2.0      2.0      2.0   \n",
            "6        2.0         2.0              1.0      1.0      2.0      2.0   \n",
            "7        2.0         2.0              2.0      2.0      2.0      2.0   \n",
            "8        2.0         1.0              2.0      2.0      2.0      2.0   \n",
            "9        2.0         2.0              2.0      2.0      2.0      2.0   \n",
            "\n",
            "   Bilirubin  Alk Phosphate   Sgot  Albumin  Protime  Histology  \n",
            "0        1.0           85.0   18.0      4.0      NaN          1  \n",
            "1        0.9          135.0   42.0      3.5      NaN          1  \n",
            "2        0.7           96.0   32.0      4.0      NaN          1  \n",
            "3        0.7           46.0   52.0      4.0     80.0          1  \n",
            "4        1.0            NaN  200.0      4.0      NaN          1  \n",
            "5        0.9           95.0   28.0      4.0     75.0          1  \n",
            "6        NaN            NaN    NaN      NaN      NaN          1  \n",
            "7        1.0            NaN    NaN      NaN      NaN          1  \n",
            "8        0.7            NaN   48.0      4.4      NaN          1  \n",
            "9        1.0            NaN  120.0      3.9      NaN          1  \n"
          ]
        }
      ],
      "source": [
        "blob_client = container_client.get_blob_client(\"liver.csv\")\n",
        "\n",
        "# Download blob data\n",
        "downloaded_blob_liver = blob_client.download_blob()\n",
        "csv_data_liver = downloaded_blob_liver.readall()\n",
        "\n",
        "# Convert to pandas DataFrame\n",
        "df_liver = pd.read_csv(io.StringIO(csv_data_liver.decode('utf-8')))\n",
        "print(df_heart.head(10))"
      ]
    },
    {
      "cell_type": "code",
      "execution_count": 159,
      "metadata": {
        "colab": {
          "base_uri": "https://localhost:8080/"
        },
        "id": "Dz1ftPizV6Gd",
        "outputId": "0f7a9e06-9ac7-4723-b002-bbf7f9ab9a39"
      },
      "outputs": [
        {
          "name": "stdout",
          "output_type": "stream",
          "text": [
            "Class               0\n",
            "Age                 0\n",
            "Sex                 0\n",
            "Steroid             1\n",
            "Antivirals          0\n",
            "Fatigue             1\n",
            "Malaise             1\n",
            "Anorexia            1\n",
            "Liver Big          10\n",
            "Liver Firm         11\n",
            "Spleen Palpable     5\n",
            "Spiders             5\n",
            "Ascites             5\n",
            "Varices             5\n",
            "Bilirubin           6\n",
            "Alk Phosphate      29\n",
            "Sgot                4\n",
            "Albumin            16\n",
            "Protime            67\n",
            "Histology           0\n",
            "dtype: int64\n"
          ]
        }
      ],
      "source": [
        "print(df_liver.isna().sum())"
      ]
    },
    {
      "cell_type": "code",
      "execution_count": 162,
      "metadata": {
        "colab": {
          "base_uri": "https://localhost:8080/"
        },
        "id": "9d2SZmFTWKvd",
        "outputId": "afb822fb-8a4c-4031-ee89-a24a5afc2074"
      },
      "outputs": [
        {
          "name": "stderr",
          "output_type": "stream",
          "text": [
            "<ipython-input-162-160bae22ec33>:3: FutureWarning: A value is trying to be set on a copy of a DataFrame or Series through chained assignment using an inplace method.\n",
            "The behavior will change in pandas 3.0. This inplace method will never work because the intermediate object on which we are setting values always behaves as a copy.\n",
            "\n",
            "For example, when doing 'df[col].method(value, inplace=True)', try using 'df.method({col: value}, inplace=True)' or df[col] = df[col].method(value) instead, to perform the operation inplace on the original object.\n",
            "\n",
            "\n",
            "  df_liver[col].fillna(df_liver[col].mode()[0], inplace=True)\n",
            "<ipython-input-162-160bae22ec33>:8: FutureWarning: A value is trying to be set on a copy of a DataFrame or Series through chained assignment using an inplace method.\n",
            "The behavior will change in pandas 3.0. This inplace method will never work because the intermediate object on which we are setting values always behaves as a copy.\n",
            "\n",
            "For example, when doing 'df[col].method(value, inplace=True)', try using 'df.method({col: value}, inplace=True)' or df[col] = df[col].method(value) instead, to perform the operation inplace on the original object.\n",
            "\n",
            "\n",
            "  df_liver[col].fillna(df_liver[col].median(), inplace=True)\n"
          ]
        }
      ],
      "source": [
        "categorical_cols = ['Steroid', 'Fatigue', 'Malaise', 'Anorexia', 'Liver Big', 'Liver Firm', 'Spleen Palpable', 'Spiders', 'Ascites', 'Varices']\n",
        "for col in categorical_cols:\n",
        "    df_liver[col].fillna(df_liver[col].mode()[0], inplace=True)\n",
        "\n",
        "# Fill numerical missing values with median\n",
        "numerical_cols = ['Bilirubin', 'Alk Phosphate', 'Sgot', 'Albumin', 'Protime']\n",
        "for col in numerical_cols:\n",
        "    df_liver[col].fillna(df_liver[col].median(), inplace=True)\n",
        "\n",
        "# Drop 'Protime' if necessary (high missing values)\n",
        "#df.drop(columns=['Protime'], inplace=True)\n"
      ]
    },
    {
      "cell_type": "code",
      "execution_count": 163,
      "metadata": {
        "colab": {
          "base_uri": "https://localhost:8080/"
        },
        "id": "fUKXuom2Zt_C",
        "outputId": "4568c256-0ce0-4d00-d7ea-997807781637"
      },
      "outputs": [
        {
          "name": "stdout",
          "output_type": "stream",
          "text": [
            "Class              0\n",
            "Age                0\n",
            "Sex                0\n",
            "Steroid            0\n",
            "Antivirals         0\n",
            "Fatigue            0\n",
            "Malaise            0\n",
            "Anorexia           0\n",
            "Liver Big          0\n",
            "Liver Firm         0\n",
            "Spleen Palpable    0\n",
            "Spiders            0\n",
            "Ascites            0\n",
            "Varices            0\n",
            "Bilirubin          0\n",
            "Alk Phosphate      0\n",
            "Sgot               0\n",
            "Albumin            0\n",
            "Protime            0\n",
            "Histology          0\n",
            "dtype: int64\n"
          ]
        }
      ],
      "source": [
        "print(df_liver.isna().sum())"
      ]
    },
    {
      "cell_type": "code",
      "execution_count": 195,
      "metadata": {
        "id": "JDR3O-LIZ6Y7"
      },
      "outputs": [],
      "source": [
        "# Splitting data into features (X) and target (y)\n",
        "X = df_liver.drop(columns=['Class'])\n",
        "y = df_liver['Class']\n",
        "X_train, X_test, y_train, y_test = train_test_split(X, y, test_size=0.25, random_state=42, stratify=y)"
      ]
    },
    {
      "cell_type": "code",
      "execution_count": 196,
      "metadata": {
        "id": "FLJDq3w9dHYA"
      },
      "outputs": [],
      "source": [
        "scaler = StandardScaler()\n",
        "X_train = scaler.fit_transform(X_train)\n",
        "X_test = scaler.transform(X_test)"
      ]
    },
    {
      "cell_type": "code",
      "execution_count": 197,
      "metadata": {
        "colab": {
          "base_uri": "https://localhost:8080/"
        },
        "id": "0pv1GiAHdLlq",
        "outputId": "80142d05-f9dc-4ef6-f1ef-62f0d6b51e9d"
      },
      "outputs": [
        {
          "name": "stdout",
          "output_type": "stream",
          "text": [
            "Logistic Regression Accuracy: 0.8718\n"
          ]
        }
      ],
      "source": [
        "#lr\n",
        "LR = LogisticRegression()\n",
        "LR.fit(X_train, y_train)\n",
        "\n",
        "y_pred = LR.predict(X_test)\n",
        "lr_accuracy = accuracy_score(y_test, y_pred)\n",
        "print(f'Logistic Regression Accuracy: {lr_accuracy:.4f}')"
      ]
    },
    {
      "cell_type": "code",
      "execution_count": 207,
      "metadata": {
        "colab": {
          "base_uri": "https://localhost:8080/"
        },
        "id": "08q7Ak6FdP3a",
        "outputId": "b6e875b5-1291-46ec-d3ca-8ee9e072f120"
      },
      "outputs": [
        {
          "name": "stdout",
          "output_type": "stream",
          "text": [
            "Decision Tree Accuracy: 0.8205\n"
          ]
        }
      ],
      "source": [
        "#decision trees\n",
        "DT = DecisionTreeClassifier(criterion='gini', max_depth=5, random_state=42)\n",
        "DT.fit(X_train, y_train)\n",
        "y_pred_dt = DT.predict(X_test)\n",
        "\n",
        "dt_accuracy = accuracy_score(y_test, y_pred_dt)\n",
        "print(f'Decision Tree Accuracy: {dt_accuracy:.4f}')"
      ]
    },
    {
      "cell_type": "code",
      "execution_count": 205,
      "metadata": {
        "colab": {
          "base_uri": "https://localhost:8080/"
        },
        "id": "nLTgKds6dT8e",
        "outputId": "b5327ecf-dbc5-4098-dbe2-9489e354b99d"
      },
      "outputs": [
        {
          "name": "stdout",
          "output_type": "stream",
          "text": [
            "Random Forest Accuracy: 0.8205\n"
          ]
        }
      ],
      "source": [
        "#rf\n",
        "RF = RandomForestClassifier(n_estimators=100, random_state=42)\n",
        "RF.fit(X_train, y_train)\n",
        "y_pred = RF.predict(X_test)\n",
        "\n",
        "rf_accuracy = accuracy_score(y_test, y_pred)\n",
        "print(f'Random Forest Accuracy: {rf_accuracy:.4f}')"
      ]
    },
    {
      "cell_type": "code",
      "execution_count": 202,
      "metadata": {
        "colab": {
          "base_uri": "https://localhost:8080/"
        },
        "id": "4gIKMSrJda--",
        "outputId": "baece0a7-4f02-43d8-d8b2-b7b674cef786"
      },
      "outputs": [
        {
          "name": "stdout",
          "output_type": "stream",
          "text": [
            "Gradient Boosting Accuracy: 0.8718\n"
          ]
        }
      ],
      "source": [
        "#gb\n",
        "gb = GradientBoostingClassifier(n_estimators=100, learning_rate=0.1, max_depth=4, random_state=42)\n",
        "gb.fit(X_train, y_train)\n",
        "\n",
        "y_pred_gb = gb.predict(X_test)\n",
        "gb_accuracy = accuracy_score(y_test, y_pred_gb)\n",
        "print(f'Gradient Boosting Accuracy: {gb_accuracy:.4f}')"
      ]
    },
    {
      "cell_type": "code",
      "execution_count": 201,
      "metadata": {
        "colab": {
          "base_uri": "https://localhost:8080/"
        },
        "id": "FCAFiH81dq8m",
        "outputId": "b46e8b13-d884-4a3f-bed4-f24a311a8524"
      },
      "outputs": [
        {
          "name": "stdout",
          "output_type": "stream",
          "text": [
            "SVM Accuracy: 0.8462\n"
          ]
        }
      ],
      "source": [
        "#svm\n",
        "svm_model = SVC()\n",
        "svm_model.fit(X_train, y_train)\n",
        "y_pred = svm_model.predict(X_test)\n",
        "svm_accuracy = accuracy_score(y_test, y_pred)\n",
        "print(f'SVM Accuracy: {svm_accuracy:.4f}')"
      ]
    },
    {
      "cell_type": "code",
      "execution_count": 276,
      "metadata": {
        "colab": {
          "base_uri": "https://localhost:8080/",
          "height": 641
        },
        "id": "6afSeUx8mY4o",
        "outputId": "204fe988-2f22-4c64-f779-1c73384918bd"
      },
      "outputs": [
        {
          "name": "stderr",
          "output_type": "stream",
          "text": [
            "<ipython-input-276-acdf52f34dbb>:4: FutureWarning: \n",
            "\n",
            "Passing `palette` without assigning `hue` is deprecated and will be removed in v0.14.0. Assign the `x` variable to `hue` and set `legend=False` for the same effect.\n",
            "\n",
            "  sns.barplot(x=models, y=accuracy_scores, palette=['blue', 'green', 'red', 'purple', 'orange'])\n"
          ]
        },
        {
          "data": {
            "image/png": "[encoded data removed]",
            "text/plain": [
              "<Figure size 800x500 with 1 Axes>"
            ]
          },
          "metadata": {},
          "output_type": "display_data"
        }
      ],
      "source": [
        "models = ['Logistic Regression', 'Decision Trees', 'Random Forest', 'Gradient Boosting', 'SVM']\n",
        "accuracy_scores = [lr_accuracy, dt_accuracy, rf_accuracy, gb_accuracy, svm_accuracy]  # Fixing duplicate values\n",
        "plt.figure(figsize=(8, 5))\n",
        "sns.barplot(x=models, y=accuracy_scores, palette=['blue', 'green', 'red', 'purple', 'orange'])\n",
        "\n",
        "plt.ylim(0.4, 1.0)\n",
        "plt.xlabel(\"Models\")\n",
        "plt.ylabel(\"Accuracy Score\")\n",
        "plt.title(\"Comparison of Model Accuracy Scores\")\n",
        "plt.xticks(rotation=20)\n",
        "\n",
        "plt.show()"
      ]
    },
    {
      "cell_type": "markdown",
      "metadata": {
        "id": "TpkfwUJ3fKa3"
      },
      "source": [
        "## Maternal Health"
      ]
    },
    {
      "cell_type": "code",
      "execution_count": 213,
      "metadata": {
        "colab": {
          "base_uri": "https://localhost:8080/"
        },
        "id": "kMlCKuvndz-S",
        "outputId": "37132f70-f5cf-4012-fbae-7d6fe669b1eb"
      },
      "outputs": [
        {
          "name": "stdout",
          "output_type": "stream",
          "text": [
            "   Age  SystolicBP  DiastolicBP     BS  BodyTemp  HeartRate  RiskLevel\n",
            "0   25         130           80  15.00      98.0         86  high risk\n",
            "1   35         140           90  13.00      98.0         70  high risk\n",
            "2   29          90           70   8.00     100.0         80  high risk\n",
            "3   30         140           85   7.00      98.0         70  high risk\n",
            "4   35         120           60   6.10      98.0         76   low risk\n",
            "5   23         140           80   7.01      98.0         70  high risk\n",
            "6   23         130           70   7.01      98.0         78   mid risk\n",
            "7   35          85           60  11.00     102.0         86  high risk\n",
            "8   32         120           90   6.90      98.0         70   mid risk\n",
            "9   42         130           80  18.00      98.0         70  high risk\n"
          ]
        }
      ],
      "source": [
        "blob_client = container_client.get_blob_client(\"maternal_health_risk.csv\")\n",
        "\n",
        "# Download blob data\n",
        "downloaded_blob_mh = blob_client.download_blob()\n",
        "csv_data_mh = downloaded_blob_mh.readall()\n",
        "\n",
        "# Convert to pandas DataFrame\n",
        "df_mh = pd.read_csv(io.StringIO(csv_data_mh.decode('utf-8')))\n",
        "print(df_mh.head(10))"
      ]
    },
    {
      "cell_type": "code",
      "execution_count": 214,
      "metadata": {
        "colab": {
          "base_uri": "https://localhost:8080/"
        },
        "id": "drwg6gTtfpjH",
        "outputId": "715e4b83-27a7-4382-ffb2-0e7df7a20867"
      },
      "outputs": [
        {
          "name": "stdout",
          "output_type": "stream",
          "text": [
            "Age            0\n",
            "SystolicBP     0\n",
            "DiastolicBP    0\n",
            "BS             0\n",
            "BodyTemp       0\n",
            "HeartRate      0\n",
            "RiskLevel      0\n",
            "dtype: int64\n"
          ]
        }
      ],
      "source": [
        "print(df_mh.isna().sum())"
      ]
    },
    {
      "cell_type": "code",
      "execution_count": 215,
      "metadata": {
        "colab": {
          "base_uri": "https://localhost:8080/"
        },
        "id": "VTDgfKr4fzvE",
        "outputId": "00e723d2-a8e3-4cc7-d0be-0f25d2e94b04"
      },
      "outputs": [
        {
          "name": "stdout",
          "output_type": "stream",
          "text": [
            "BS             1.868203\n",
            "BodyTemp       1.750988\n",
            "Age            0.783063\n",
            "DiastolicBP   -0.048441\n",
            "SystolicBP    -0.251189\n",
            "HeartRate     -1.043525\n",
            "dtype: float64\n"
          ]
        }
      ],
      "source": [
        "df_skew = df_mh.select_dtypes(include=['number'])\n",
        "skew_values_mh = df_skew.skew().sort_values(ascending=False)\n",
        "print(skew_values_mh)"
      ]
    },
    {
      "cell_type": "code",
      "execution_count": 221,
      "metadata": {
        "colab": {
          "base_uri": "https://localhost:8080/",
          "height": 573
        },
        "id": "Bdgsb0pagD-9",
        "outputId": "cec4ef2b-32fa-4d11-b6ee-502305dbbbef"
      },
      "outputs": [
        {
          "data": {
            "image/png": "[encoded data removed]",
            "text/plain": [
              "<Figure size 1200x600 with 1 Axes>"
            ]
          },
          "metadata": {},
          "output_type": "display_data"
        }
      ],
      "source": [
        "plt.figure(figsize=(12, 6))\n",
        "sns.boxplot(data=df_mh)\n",
        "plt.xticks(rotation=45)\n",
        "plt.show()"
      ]
    },
    {
      "cell_type": "code",
      "execution_count": 219,
      "metadata": {
        "id": "Vqfdgft8gMpI"
      },
      "outputs": [],
      "source": [
        "df_mh['BS'] = np.log1p(df_mh['BS'])\n",
        "df_mh['BodyTemp'] = np.log1p(df_mh['BodyTemp'])\n",
        "\n",
        "scaler = PowerTransformer()\n",
        "scaled_features = scaler.fit_transform(df_mh[['Age', 'HeartRate']])\n",
        "df_mh[['Age', 'HeartRate']] = scaled_features"
      ]
    },
    {
      "cell_type": "code",
      "execution_count": 224,
      "metadata": {
        "colab": {
          "base_uri": "https://localhost:8080/"
        },
        "id": "HSUsNHgMhVkV",
        "outputId": "8833e839-9cc4-43df-c48f-52da7716ff50"
      },
      "outputs": [
        {
          "name": "stdout",
          "output_type": "stream",
          "text": [
            "        Age  SystolicBP  DiastolicBP        BS  BodyTemp  HeartRate  RiskLevel\n",
            "0 -0.153700         130           80  0.844907  1.001328   1.574614          0\n",
            "1  0.601410         140           90  0.829305  1.001328  -0.597093          0\n",
            "2  0.183614          90           70  0.771165  1.002638   0.706757          0\n",
            "3  0.259732         140           85  0.753653  1.001328  -0.597093          0\n",
            "4  0.601410         120           60  0.734875  1.001328   0.163864          1\n",
            "5 -0.346063         140           80  0.753844  1.001328  -0.597093          0\n",
            "6 -0.346063         130           70  0.753844  1.001328   0.431747          2\n",
            "7  0.601410          85           60  0.810237  1.003917   1.574614          0\n",
            "8  0.403670         120           90  0.751725  1.001328  -0.597093          2\n",
            "9  0.996041         130           80  0.863863  1.001328  -0.597093          0\n"
          ]
        }
      ],
      "source": [
        "from sklearn.preprocessing import LabelEncoder\n",
        "label_encoder = LabelEncoder()\n",
        "df_mh['RiskLevel'] = label_encoder.fit_transform(df_mh['RiskLevel'])\n",
        "print(df_mh.head(10))"
      ]
    },
    {
      "cell_type": "code",
      "execution_count": 243,
      "metadata": {
        "id": "PV0JM_j1hBCM"
      },
      "outputs": [],
      "source": [
        "X = df_mh.drop(columns=['RiskLevel'])\n",
        "y = df_mh['RiskLevel']\n",
        "X_train, X_test, y_train, y_test = train_test_split(X, y, test_size=0.25, random_state=42, stratify=y)"
      ]
    },
    {
      "cell_type": "code",
      "execution_count": 244,
      "metadata": {
        "id": "dWvQp5sphw3N"
      },
      "outputs": [],
      "source": [
        "scaler = StandardScaler()\n",
        "X_train = scaler.fit_transform(X_train)\n",
        "X_test = scaler.transform(X_test)"
      ]
    },
    {
      "cell_type": "code",
      "execution_count": 245,
      "metadata": {
        "colab": {
          "base_uri": "https://localhost:8080/"
        },
        "id": "Jit7XdL5gqC3",
        "outputId": "41367ad6-2f58-451c-806f-bdf8b731a13e"
      },
      "outputs": [
        {
          "name": "stdout",
          "output_type": "stream",
          "text": [
            "Logistic Regression Accuracy: 0.6535\n"
          ]
        }
      ],
      "source": [
        "#lr\n",
        "LR = LogisticRegression()\n",
        "LR.fit(X_train, y_train)\n",
        "\n",
        "y_pred = LR.predict(X_test)\n",
        "lr_accuracy = accuracy_score(y_test, y_pred)\n",
        "print(f'Logistic Regression Accuracy: {lr_accuracy:.4f}')"
      ]
    },
    {
      "cell_type": "code",
      "execution_count": 246,
      "metadata": {
        "colab": {
          "base_uri": "https://localhost:8080/"
        },
        "id": "lfodqqPvg4Ty",
        "outputId": "8984d972-ebbc-477c-dff2-62ba1920aadc"
      },
      "outputs": [
        {
          "name": "stdout",
          "output_type": "stream",
          "text": [
            "Decision Tree Accuracy: 0.6811\n"
          ]
        }
      ],
      "source": [
        "#dt\n",
        "DT = DecisionTreeClassifier(criterion='gini', max_depth=5, random_state=42)\n",
        "DT.fit(X_train, y_train)\n",
        "y_pred_dt = DT.predict(X_test)\n",
        "\n",
        "dt_accuracy = accuracy_score(y_test, y_pred_dt)\n",
        "print(f'Decision Tree Accuracy: {dt_accuracy:.4f}')"
      ]
    },
    {
      "cell_type": "code",
      "execution_count": 247,
      "metadata": {
        "colab": {
          "base_uri": "https://localhost:8080/"
        },
        "id": "N3seGTX_h5w-",
        "outputId": "0ca69bbe-282c-4b6b-ceda-09cc447d0b67"
      },
      "outputs": [
        {
          "name": "stdout",
          "output_type": "stream",
          "text": [
            "Random Forest Accuracy: 0.8740\n"
          ]
        }
      ],
      "source": [
        "#rf\n",
        "RF = RandomForestClassifier(n_estimators=100, random_state=42)\n",
        "RF.fit(X_train, y_train)\n",
        "y_pred = RF.predict(X_test)\n",
        "\n",
        "rf_accuracy = accuracy_score(y_test, y_pred)\n",
        "print(f'Random Forest Accuracy: {rf_accuracy:.4f}')"
      ]
    },
    {
      "cell_type": "code",
      "execution_count": 248,
      "metadata": {
        "colab": {
          "base_uri": "https://localhost:8080/"
        },
        "id": "1KdcH2ZbiLDf",
        "outputId": "2ca54585-c6f7-4b16-d39a-42fed223e238"
      },
      "outputs": [
        {
          "name": "stdout",
          "output_type": "stream",
          "text": [
            "Gradient Boosting Accuracy: 0.8583\n"
          ]
        }
      ],
      "source": [
        "#gb\n",
        "gb = GradientBoostingClassifier(n_estimators=100, learning_rate=0.1, max_depth=4, random_state=42)\n",
        "gb.fit(X_train, y_train)\n",
        "\n",
        "y_pred_gb = gb.predict(X_test)\n",
        "gb_accuracy = accuracy_score(y_test, y_pred_gb)\n",
        "print(f'Gradient Boosting Accuracy: {gb_accuracy:.4f}')"
      ]
    },
    {
      "cell_type": "code",
      "execution_count": 249,
      "metadata": {
        "colab": {
          "base_uri": "https://localhost:8080/"
        },
        "id": "yRr2EBWxiO6Y",
        "outputId": "f66f43b5-6144-4c64-c9d0-86862eecee6d"
      },
      "outputs": [
        {
          "name": "stdout",
          "output_type": "stream",
          "text": [
            "SVM Accuracy: 0.7126\n"
          ]
        }
      ],
      "source": [
        "svm_model = SVC()\n",
        "svm_model.fit(X_train, y_train)\n",
        "y_pred = svm_model.predict(X_test)\n",
        "svm_accuracy = accuracy_score(y_test, y_pred)\n",
        "print(f'SVM Accuracy: {svm_accuracy:.4f}')"
      ]
    },
    {
      "cell_type": "code",
      "execution_count": 277,
      "metadata": {
        "colab": {
          "base_uri": "https://localhost:8080/",
          "height": 641
        },
        "id": "zHq-yGvCmc4h",
        "outputId": "407fe026-22ba-4cbb-fd06-759f5f41f9eb"
      },
      "outputs": [
        {
          "name": "stderr",
          "output_type": "stream",
          "text": [
            "<ipython-input-277-acdf52f34dbb>:4: FutureWarning: \n",
            "\n",
            "Passing `palette` without assigning `hue` is deprecated and will be removed in v0.14.0. Assign the `x` variable to `hue` and set `legend=False` for the same effect.\n",
            "\n",
            "  sns.barplot(x=models, y=accuracy_scores, palette=['blue', 'green', 'red', 'purple', 'orange'])\n"
          ]
        },
        {
          "data": {
            "image/png": "[encoded data removed]",
            "text/plain": [
              "<Figure size 800x500 with 1 Axes>"
            ]
          },
          "metadata": {},
          "output_type": "display_data"
        }
      ],
      "source": [
        "models = ['Logistic Regression', 'Decision Trees', 'Random Forest', 'Gradient Boosting', 'SVM']\n",
        "accuracy_scores = [lr_accuracy, dt_accuracy, rf_accuracy, gb_accuracy, svm_accuracy]  # Fixing duplicate values\n",
        "plt.figure(figsize=(8, 5))\n",
        "sns.barplot(x=models, y=accuracy_scores, palette=['blue', 'green', 'red', 'purple', 'orange'])\n",
        "\n",
        "plt.ylim(0.4, 1.0)\n",
        "plt.xlabel(\"Models\")\n",
        "plt.ylabel(\"Accuracy Score\")\n",
        "plt.title(\"Comparison of Model Accuracy Scores\")\n",
        "plt.xticks(rotation=20)\n",
        "\n",
        "plt.show()"
      ]
    },
    {
      "cell_type": "markdown",
      "metadata": {
        "id": "HYkwYyUOiUZJ"
      },
      "source": [
        "## Obesity"
      ]
    },
    {
      "cell_type": "code",
      "execution_count": 256,
      "metadata": {
        "colab": {
          "base_uri": "https://localhost:8080/"
        },
        "id": "G6wnFKGOiWXZ",
        "outputId": "18943104-bd36-473e-e5e9-05ddd1aeeacc"
      },
      "outputs": [
        {
          "name": "stdout",
          "output_type": "stream",
          "text": [
            "   Gender   Age  Height  Weight family_history_with_overweight FAVC  FCVC  \\\n",
            "0  Female  21.0    1.62    64.0                            yes   no   2.0   \n",
            "1  Female  21.0    1.52    56.0                            yes   no   3.0   \n",
            "2    Male  23.0    1.80    77.0                            yes   no   2.0   \n",
            "3    Male  27.0    1.80    87.0                             no   no   3.0   \n",
            "4    Male  22.0    1.78    89.8                             no   no   2.0   \n",
            "5    Male  29.0    1.62    53.0                             no  yes   2.0   \n",
            "6  Female  23.0    1.50    55.0                            yes  yes   3.0   \n",
            "7    Male  22.0    1.64    53.0                             no   no   2.0   \n",
            "8    Male  24.0    1.78    64.0                            yes  yes   3.0   \n",
            "9    Male  22.0    1.72    68.0                            yes  yes   2.0   \n",
            "\n",
            "   NCP       CAEC SMOKE  CH2O  SCC  FAF  TUE        CALC  \\\n",
            "0  3.0  Sometimes    no   2.0   no  0.0  1.0          no   \n",
            "1  3.0  Sometimes   yes   3.0  yes  3.0  0.0   Sometimes   \n",
            "2  3.0  Sometimes    no   2.0   no  2.0  1.0  Frequently   \n",
            "3  3.0  Sometimes    no   2.0   no  2.0  0.0  Frequently   \n",
            "4  1.0  Sometimes    no   2.0   no  0.0  0.0   Sometimes   \n",
            "5  3.0  Sometimes    no   2.0   no  0.0  0.0   Sometimes   \n",
            "6  3.0  Sometimes    no   2.0   no  1.0  0.0   Sometimes   \n",
            "7  3.0  Sometimes    no   2.0   no  3.0  0.0   Sometimes   \n",
            "8  3.0  Sometimes    no   2.0   no  1.0  1.0  Frequently   \n",
            "9  3.0  Sometimes    no   2.0   no  1.0  1.0          no   \n",
            "\n",
            "                  MTRANS           NObeyesdad  \n",
            "0  Public_Transportation        Normal_Weight  \n",
            "1  Public_Transportation        Normal_Weight  \n",
            "2  Public_Transportation        Normal_Weight  \n",
            "3                Walking   Overweight_Level_I  \n",
            "4  Public_Transportation  Overweight_Level_II  \n",
            "5             Automobile        Normal_Weight  \n",
            "6              Motorbike        Normal_Weight  \n",
            "7  Public_Transportation        Normal_Weight  \n",
            "8  Public_Transportation        Normal_Weight  \n",
            "9  Public_Transportation        Normal_Weight  \n"
          ]
        }
      ],
      "source": [
        "blob_client = container_client.get_blob_client(\"obesity.csv\")\n",
        "\n",
        "# Download blob data\n",
        "downloaded_blob_ob = blob_client.download_blob()\n",
        "csv_data_ob = downloaded_blob_ob.readall()\n",
        "\n",
        "# Convert to pandas DataFrame\n",
        "df_ob = pd.read_csv(io.StringIO(csv_data_ob.decode('utf-8')))\n",
        "print(df_ob.head(10))"
      ]
    },
    {
      "cell_type": "code",
      "execution_count": 257,
      "metadata": {
        "colab": {
          "base_uri": "https://localhost:8080/"
        },
        "id": "1tPoaBGLjNTq",
        "outputId": "1f4e636b-daae-414f-e79a-23e226f9c11b"
      },
      "outputs": [
        {
          "name": "stdout",
          "output_type": "stream",
          "text": [
            "Gender                            0\n",
            "Age                               0\n",
            "Height                            0\n",
            "Weight                            0\n",
            "family_history_with_overweight    0\n",
            "FAVC                              0\n",
            "FCVC                              0\n",
            "NCP                               0\n",
            "CAEC                              0\n",
            "SMOKE                             0\n",
            "CH2O                              0\n",
            "SCC                               0\n",
            "FAF                               0\n",
            "TUE                               0\n",
            "CALC                              0\n",
            "MTRANS                            0\n",
            "NObeyesdad                        0\n",
            "dtype: int64\n"
          ]
        }
      ],
      "source": [
        "print(df_ob.isna().sum())"
      ]
    },
    {
      "cell_type": "code",
      "execution_count": 258,
      "metadata": {
        "id": "hdVwzPVRkOdB"
      },
      "outputs": [],
      "source": [
        "categorical_cols = ['Gender', 'family_history_with_overweight', 'FAVC', 'CAEC', 'SMOKE', 'SCC', 'CALC', 'MTRANS']\n",
        "df_ob = pd.get_dummies(df_ob, columns=categorical_cols, drop_first=True)\n",
        "#encodong target\n",
        "label_encoder = LabelEncoder()\n",
        "df_ob['NObeyesdad'] = label_encoder.fit_transform(df_ob['NObeyesdad'])\n",
        "\n",
        "numerical_cols = ['Age', 'Height', 'Weight', 'FCVC', 'NCP', 'CH2O', 'FAF', 'TUE']\n",
        "scaler = StandardScaler()\n",
        "df_ob[numerical_cols] = scaler.fit_transform(df_ob[numerical_cols])"
      ]
    },
    {
      "cell_type": "code",
      "execution_count": 260,
      "metadata": {
        "id": "2Wd3eWkfkw-U"
      },
      "outputs": [],
      "source": [
        "X = df_ob.drop(columns=['NObeyesdad'])\n",
        "y = df_ob['NObeyesdad']\n",
        "X_train, X_test, y_train, y_test = train_test_split(X, y, test_size=0.25, random_state=42, stratify=y)"
      ]
    },
    {
      "cell_type": "code",
      "execution_count": 261,
      "metadata": {
        "colab": {
          "base_uri": "https://localhost:8080/"
        },
        "id": "ExPNmEqilbj8",
        "outputId": "4c9fb740-97e6-41a4-b081-d4737dffbd1f"
      },
      "outputs": [
        {
          "name": "stdout",
          "output_type": "stream",
          "text": [
            "Logistic Regression Accuracy: 0.8807\n"
          ]
        },
        {
          "name": "stderr",
          "output_type": "stream",
          "text": [
            "/usr/local/lib/python3.11/dist-packages/sklearn/linear_model/_logistic.py:465: ConvergenceWarning: lbfgs failed to converge (status=1):\n",
            "STOP: TOTAL NO. of ITERATIONS REACHED LIMIT.\n",
            "\n",
            "Increase the number of iterations (max_iter) or scale the data as shown in:\n",
            "    https://scikit-learn.org/stable/modules/preprocessing.html\n",
            "Please also refer to the documentation for alternative solver options:\n",
            "    https://scikit-learn.org/stable/modules/linear_model.html#logistic-regression\n",
            "  n_iter_i = _check_optimize_result(\n"
          ]
        }
      ],
      "source": [
        "#lr\n",
        "LR = LogisticRegression()\n",
        "LR.fit(X_train, y_train)\n",
        "\n",
        "y_pred = LR.predict(X_test)\n",
        "lr_accuracy = accuracy_score(y_test, y_pred)\n",
        "print(f'Logistic Regression Accuracy: {lr_accuracy:.4f}')"
      ]
    },
    {
      "cell_type": "code",
      "execution_count": 266,
      "metadata": {
        "colab": {
          "base_uri": "https://localhost:8080/"
        },
        "id": "OvoLmUwYllyj",
        "outputId": "a020dd8d-2c63-4a7b-ea57-6827f6150bdd"
      },
      "outputs": [
        {
          "name": "stdout",
          "output_type": "stream",
          "text": [
            "Decision Tree Accuracy: 0.8598\n"
          ]
        }
      ],
      "source": [
        "#dt\n",
        "DT = DecisionTreeClassifier(criterion='gini', max_depth=6, random_state=42)\n",
        "DT.fit(X_train, y_train)\n",
        "y_pred_dt = DT.predict(X_test)\n",
        "\n",
        "dt_accuracy = accuracy_score(y_test, y_pred_dt)\n",
        "print(f'Decision Tree Accuracy: {dt_accuracy:.4f}')"
      ]
    },
    {
      "cell_type": "code",
      "execution_count": 267,
      "metadata": {
        "colab": {
          "base_uri": "https://localhost:8080/"
        },
        "id": "Hgb5uNValop9",
        "outputId": "c48770c4-fd70-4ab1-b8fb-c4efa5e0be1f"
      },
      "outputs": [
        {
          "name": "stdout",
          "output_type": "stream",
          "text": [
            "Random Forest Accuracy: 0.9413\n"
          ]
        }
      ],
      "source": [
        "#rf\n",
        "RF = RandomForestClassifier(n_estimators=100, random_state=42)\n",
        "RF.fit(X_train, y_train)\n",
        "y_pred = RF.predict(X_test)\n",
        "\n",
        "rf_accuracy = accuracy_score(y_test, y_pred)\n",
        "print(f'Random Forest Accuracy: {rf_accuracy:.4f}')"
      ]
    },
    {
      "cell_type": "code",
      "execution_count": 268,
      "metadata": {
        "colab": {
          "base_uri": "https://localhost:8080/"
        },
        "id": "Re8m895olwol",
        "outputId": "b418f1d3-1910-44b0-b26c-6e940189c997"
      },
      "outputs": [
        {
          "name": "stdout",
          "output_type": "stream",
          "text": [
            "Gradient Boosting Accuracy: 0.9508\n"
          ]
        }
      ],
      "source": [
        "#gb\n",
        "gb = GradientBoostingClassifier(n_estimators=100, learning_rate=0.1, max_depth=4, random_state=42)\n",
        "gb.fit(X_train, y_train)\n",
        "\n",
        "y_pred_gb = gb.predict(X_test)\n",
        "gb_accuracy = accuracy_score(y_test, y_pred_gb)\n",
        "print(f'Gradient Boosting Accuracy: {gb_accuracy:.4f}')"
      ]
    },
    {
      "cell_type": "code",
      "execution_count": 269,
      "metadata": {
        "colab": {
          "base_uri": "https://localhost:8080/"
        },
        "id": "J3R7soUbl0-Q",
        "outputId": "ecbc7357-d85c-41a3-8f61-12a9a5697d0c"
      },
      "outputs": [
        {
          "name": "stdout",
          "output_type": "stream",
          "text": [
            "SVM Accuracy: 0.9261\n"
          ]
        }
      ],
      "source": [
        "svm_model = SVC()\n",
        "svm_model.fit(X_train, y_train)\n",
        "y_pred = svm_model.predict(X_test)\n",
        "svm_accuracy = accuracy_score(y_test, y_pred)\n",
        "print(f'SVM Accuracy: {svm_accuracy:.4f}')"
      ]
    },
    {
      "cell_type": "code",
      "execution_count": 278,
      "metadata": {
        "colab": {
          "base_uri": "https://localhost:8080/",
          "height": 641
        },
        "id": "pHKRaL8Wl5M-",
        "outputId": "a88d384d-e48e-4c25-e5c2-405b3a0a328f"
      },
      "outputs": [
        {
          "name": "stderr",
          "output_type": "stream",
          "text": [
            "<ipython-input-278-acdf52f34dbb>:4: FutureWarning: \n",
            "\n",
            "Passing `palette` without assigning `hue` is deprecated and will be removed in v0.14.0. Assign the `x` variable to `hue` and set `legend=False` for the same effect.\n",
            "\n",
            "  sns.barplot(x=models, y=accuracy_scores, palette=['blue', 'green', 'red', 'purple', 'orange'])\n"
          ]
        },
        {
          "data": {
            "image/png": "[encoded data removed]",
            "text/plain": [
              "<Figure size 800x500 with 1 Axes>"
            ]
          },
          "metadata": {},
          "output_type": "display_data"
        }
      ],
      "source": [
        "models = ['Logistic Regression', 'Decision Trees', 'Random Forest', 'Gradient Boosting', 'SVM']\n",
        "accuracy_scores = [lr_accuracy, dt_accuracy, rf_accuracy, gb_accuracy, svm_accuracy]  # Fixing duplicate values\n",
        "plt.figure(figsize=(8, 5))\n",
        "sns.barplot(x=models, y=accuracy_scores, palette=['blue', 'green', 'red', 'purple', 'orange'])\n",
        "\n",
        "plt.ylim(0.4, 1.0)\n",
        "plt.xlabel(\"Models\")\n",
        "plt.ylabel(\"Accuracy Score\")\n",
        "plt.title(\"Comparison of Model Accuracy Scores\")\n",
        "plt.xticks(rotation=20)\n",
        "\n",
        "plt.show()"
      ]
    },
    {
      "cell_type": "code",
      "execution_count": null,
      "metadata": {
        "id": "42zmuX6zmfDA"
      },
      "outputs": [],
      "source": []
    }
  ],
  "metadata": {
    "colab": {
      "provenance": []
    },
    "kernelspec": {
      "display_name": "Python 3",
      "name": "python3"
    },
    "language_info": {
      "name": "python"
    }
  },
  "nbformat": 4,
  "nbformat_minor": 0
}
